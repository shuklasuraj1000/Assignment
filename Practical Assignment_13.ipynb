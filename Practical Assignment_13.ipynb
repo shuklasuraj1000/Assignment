{
  "nbformat": 4,
  "nbformat_minor": 0,
  "metadata": {
    "colab": {
      "name": "Untitled33.ipynb",
      "provenance": [],
      "collapsed_sections": []
    },
    "kernelspec": {
      "name": "python3",
      "display_name": "Python 3"
    },
    "language_info": {
      "name": "python"
    }
  },
  "cells": [
    {
      "cell_type": "code",
      "execution_count": null,
      "metadata": {
        "id": "nxXW9r9Cv4fT"
      },
      "outputs": [],
      "source": [
        "# Question-1: \n",
        "\"\"\"\n",
        "Write a program that calculates and prints the value according to the given formula:\n",
        "Q = Square root of [(2 * C * D)/H]\n",
        "Following are the fixed values of C and H:\n",
        "C is 50. H is 30.\n",
        "D is the variable whose values should be input to your program in a comma-separated\n",
        "sequence.\n",
        "Example\n",
        "Let us assume the following comma separated input sequence is given to the program:\n",
        "100,150,180\n",
        "The output of the program should be:\n",
        "18,22,24\n",
        "\n",
        "\"\"\""
      ]
    },
    {
      "cell_type": "code",
      "source": [
        "#Answer:\n",
        "import math\n",
        "items=[int(i) for i in input(\"Enter varriable D : \").split(',')]\n",
        "C=50\n",
        "H=30\n",
        "Result=[]\n",
        "for D in items:\n",
        "  Result.append(str(round(math.sqrt((2*C*D)/H))))\n",
        "print(\",\".join(Result))\n"
      ],
      "metadata": {
        "colab": {
          "base_uri": "https://localhost:8080/"
        },
        "id": "1suNKKa6xNDl",
        "outputId": "e79dc1c2-340b-4df4-e946-aa33f6c1baa1"
      },
      "execution_count": 11,
      "outputs": [
        {
          "output_type": "stream",
          "name": "stdout",
          "text": [
            "Enter varriable D : 100,150,180\n",
            "18,22,24\n"
          ]
        }
      ]
    },
    {
      "cell_type": "code",
      "source": [
        "# Question-2:\n",
        "\"\"\"\n",
        "Write a program which takes 2 digits, X,Y as input and generates a 2-dimensional array. The\n",
        "element value in the i-th row and j-th column of the array should be i*j.\n",
        "\n",
        "Note: i=0,1.., X-1; j=0,1,¡Y-1.\n",
        "\n",
        "Example\n",
        "Suppose the following inputs are given to the program:\n",
        "3,5\n",
        "Then, the output of the program should be:\n",
        "[[0, 0, 0, 0, 0], [0, 1, 2, 3, 4], [0, 2, 4, 6, 8]]\n",
        "\n",
        "\n",
        "\"\"\""
      ],
      "metadata": {
        "id": "tdGkLAK1xsHB"
      },
      "execution_count": null,
      "outputs": []
    },
    {
      "cell_type": "code",
      "source": [
        "# Answer:\n",
        "import math\n",
        "X,Y=[int(i) for i in input(\"Enter varriable D : \").split(',')]\n",
        "a=[]\n",
        "for i in range(0,X):              # Value of i = 0,1,2\n",
        "  b=[]\n",
        "  if i==0:                        \n",
        "    for j in range(0,Y):          # Value of j =0,1,2,3,4\n",
        "      b.append(0)\n",
        "  elif i==1:\n",
        "    for j in range(0,Y):\n",
        "     b.append(j)\n",
        "  else:\n",
        "    for j in range(0,Y):\n",
        "      c=j*2\n",
        "      b.append(c)\n",
        "  a.append(b)\n",
        "print(a)\n"
      ],
      "metadata": {
        "colab": {
          "base_uri": "https://localhost:8080/"
        },
        "id": "vZO-O8I93ZRH",
        "outputId": "39ac884a-fa79-4f6b-cfc9-eccd4f47f8a1"
      },
      "execution_count": 19,
      "outputs": [
        {
          "output_type": "stream",
          "name": "stdout",
          "text": [
            "Enter varriable D : 3,5\n",
            "[[0, 0, 0, 0, 0], [0, 1, 2, 3, 4], [0, 2, 4, 6, 8]]\n"
          ]
        }
      ]
    },
    {
      "cell_type": "code",
      "source": [
        "# Question-3: \n",
        "\"\"\"\n",
        "Write a program that accepts a comma separated sequence of words as input and prints the\n",
        "words in a comma-separated sequence after sorting them alphabetically.\n",
        "\n",
        "Suppose the following input is supplied to the program:\n",
        "without,hello,bag,world\n",
        "\n",
        "Then, the output should be:\n",
        "bag,hello,without,world \n",
        "\n",
        "\"\"\"\n"
      ],
      "metadata": {
        "id": "pmdic-H_83xf"
      },
      "execution_count": null,
      "outputs": []
    },
    {
      "cell_type": "code",
      "source": [
        "#Answer:\n",
        "D=input(\"Input string : \").split(\",\")\n",
        "l=[]\n",
        "for i in D:\n",
        "  l.append(i)\n",
        "l.sort()\n",
        "print(\"Output : \",\",\".join(l))\n"
      ],
      "metadata": {
        "colab": {
          "base_uri": "https://localhost:8080/"
        },
        "id": "jUH9ogtb9Uru",
        "outputId": "3c00dda8-a4bc-437c-e232-02a129a10d85"
      },
      "execution_count": 45,
      "outputs": [
        {
          "output_type": "stream",
          "name": "stdout",
          "text": [
            "Input string : without,hello,bag,world\n",
            "Output :  bag,hello,without,world\n"
          ]
        }
      ]
    },
    {
      "cell_type": "code",
      "source": [
        "# Question-3: \n",
        "\"\"\"\n",
        "Write a program that accepts a sequence of whitespace separated words as input and prints\n",
        "the words after removing all duplicate words and sorting them alphanumerically.\n",
        "\n",
        "Suppose the following input is supplied to the program:\n",
        "hello world and practice makes perfect and hello world again\n",
        "\n",
        "Then, the output should be:\n",
        "again and hello makes perfect practice world\n",
        "\n",
        "\"\"\""
      ],
      "metadata": {
        "id": "9k9_afXj-Fie"
      },
      "execution_count": null,
      "outputs": []
    },
    {
      "cell_type": "code",
      "source": [
        "#Answer: \n",
        "D=input(\"Input string : \").split(\" \")\n",
        "l=[]\n",
        "for i in D:\n",
        "  l.append(i)\n",
        "\n",
        "s=set(l)                     # Remove dups\n",
        "l=list(s)\n",
        "l.sort()                     # sorting by alphabets\n",
        "print(\"Output : \",\" \".join(l))"
      ],
      "metadata": {
        "colab": {
          "base_uri": "https://localhost:8080/"
        },
        "id": "p6OCFbTUCgYW",
        "outputId": "19dee3f8-ea86-402b-9f31-8a035848c850"
      },
      "execution_count": 50,
      "outputs": [
        {
          "output_type": "stream",
          "name": "stdout",
          "text": [
            "Input string : hello world and practice makes perfect and hello world again\n",
            "Output :  again and hello makes perfect practice world\n"
          ]
        }
      ]
    },
    {
      "cell_type": "code",
      "source": [
        "# Question-5:\n",
        "\"\"\"\n",
        "Write a program that accepts a sentence and calculate the number of letters and digits.\n",
        "\n",
        "Suppose the following input is supplied to the program:\n",
        "hello world! 123\n",
        "\n",
        "Then, the output should be:\n",
        "LETTERS 10\n",
        "DIGITS 3\n",
        "\n",
        "\"\"\""
      ],
      "metadata": {
        "id": "EmzPW6NnC8WL"
      },
      "execution_count": null,
      "outputs": []
    },
    {
      "cell_type": "code",
      "source": [
        "# Answer: \n",
        "D=input(\"Input string : \").split(\" \")\n",
        "l=list(D)\n",
        "l1=[j for i in l for j in i]\n",
        "l2=[]\n",
        "l3=[]\n",
        "for k in l1:\n",
        "  if k.isdigit():\n",
        "    l2.append(k)\n",
        "  elif k.isalpha():\n",
        "    l3.append(k)\n",
        "print(\"LETTERS : \",len(l3))\n",
        "print(\"DIGITS : \",len(l2))\n"
      ],
      "metadata": {
        "colab": {
          "base_uri": "https://localhost:8080/"
        },
        "id": "omqH75w5Ed0P",
        "outputId": "99f253eb-86db-40e7-e6d8-0ee5c929c6cf"
      },
      "execution_count": 72,
      "outputs": [
        {
          "output_type": "stream",
          "name": "stdout",
          "text": [
            "Input string : hello world! 123\n",
            "LETTERS :  10\n",
            "DIGITS :  3\n"
          ]
        }
      ]
    },
    {
      "cell_type": "code",
      "source": [
        "# Question-6: \n",
        "\"\"\"\n",
        "A website requires the users to input username and password to register. Write a program to\n",
        "check the validity of password input by users.\n",
        "\n",
        "Following are the criteria for checking the password:\n",
        "1. At least 1 letter between [a-z]\n",
        "2. At least 1 number between [0-9]\n",
        "1. At least 1 letter between [A-Z]\n",
        "3. At least 1 character from [$#@]\n",
        "4. Minimum length of transaction password: 6\n",
        "5. Maximum length of transaction password: 12\n",
        "\n",
        "Your program should accept a sequence of comma separated passwords and will check them\n",
        "according to the above criteria. Passwords that match the criteria are to be printed, each\n",
        "separated by a comma.\n",
        "\n",
        "Example\n",
        "If the following passwords are given as input to the program:\n",
        "ABd1234@1,a F1#,2w3E*,2We3345\n",
        "Then, the output of the program should be:\n",
        "ABd1234@1\n",
        "\n",
        "\"\"\""
      ],
      "metadata": {
        "id": "0a_iywBsGF9z"
      },
      "execution_count": null,
      "outputs": []
    },
    {
      "cell_type": "code",
      "source": [
        "# Answer:\n",
        "import re\n",
        "USER_ID=input(\"Enter user ID : \")\n",
        "PASSWORD=input(\"Enter password : \").split(\",\")\n",
        "l=[]\n",
        "for i in PASSWORD:\n",
        "  if len(PASSWORD) >=6 and len(PASSWORD)<=12:\n",
        "    continue\n",
        "  elif not re.search(\"([a-z])+\",i):\n",
        "    continue\n",
        "  elif not re.search(\"([A-Z])+\",i):\n",
        "    continue\n",
        "  elif not re.search(\"([0-9])+\",i):\n",
        "    continue \n",
        "  elif not re.search(\"([!@#$%^&*])+\",i):\n",
        "    continue\n",
        "  else:\n",
        "    l.append(i)\n",
        "\n",
        "l1=\",\".join(l)\n",
        "\n",
        "L=['ABd1234@1','a F1#','2w3E*','2We3345']\n",
        "\n",
        "if l1 in L:\n",
        "  print(\"Congratulation!! Logged In\")  \n",
        "else:\n",
        "  print(\"Wrong password\")\n"
      ],
      "metadata": {
        "colab": {
          "base_uri": "https://localhost:8080/"
        },
        "id": "TnDrk1uAZvsL",
        "outputId": "26340b0b-b195-4b4c-9f27-c0272210110b"
      },
      "execution_count": 93,
      "outputs": [
        {
          "output_type": "stream",
          "name": "stdout",
          "text": [
            "Enter user ID : sk\n",
            "Enter password : ABd1234@1\n",
            "Congratulation!! Logged In\n"
          ]
        }
      ]
    },
    {
      "cell_type": "code",
      "source": [
        ""
      ],
      "metadata": {
        "id": "1mGdOFFMqUdN"
      },
      "execution_count": null,
      "outputs": []
    }
  ]
}