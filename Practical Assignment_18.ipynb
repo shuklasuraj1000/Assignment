{
  "nbformat": 4,
  "nbformat_minor": 0,
  "metadata": {
    "colab": {
      "name": "Untitled51.ipynb",
      "provenance": [],
      "collapsed_sections": []
    },
    "kernelspec": {
      "name": "python3",
      "display_name": "Python 3"
    },
    "language_info": {
      "name": "python"
    }
  },
  "cells": [
    {
      "cell_type": "code",
      "execution_count": 10,
      "metadata": {
        "id": "E4TjzwyKaMcO"
      },
      "outputs": [],
      "source": [
        "#Quest-1: Create a function that takes a list of non-negative integers and strings and return a new list without the strings.\n",
        "\"\"\"\n",
        "Examples\n",
        "filter_list([1, 2, \"a\", \"b\"]) ➞ [1, 2]\n",
        "\n",
        "filter_list([1, \"a\", \"b\", 0, 15]) ➞ [1, 0, 15]\n",
        "\n",
        "filter_list([1, 2, \"aasf\", \"1\", \"123\", 123]) ➞ [1, 2, 123]\n",
        "\n",
        "\"\"\""
      ]
    },
    {
      "cell_type": "code",
      "source": [
        "#Answer:\n",
        "def pure_int_list(l):\n",
        "  \"\"\" This function will keep only non-negative int \"\"\"\n",
        "  l1=[]\n",
        "  for i in l:\n",
        "     if type(i)==int and i>=0:\n",
        "       l1.append(i)\n",
        "  return l1"
      ],
      "metadata": {
        "id": "qskHXjdicb8M"
      },
      "execution_count": 26,
      "outputs": []
    },
    {
      "cell_type": "code",
      "source": [
        "pure_int_list([1, 2,-3,\"a\", \"b\"])"
      ],
      "metadata": {
        "colab": {
          "base_uri": "https://localhost:8080/"
        },
        "id": "t8u_laJ6a74n",
        "outputId": "69ce7f77-ad2d-43c5-c16e-c5c4f5cce6bd"
      },
      "execution_count": 25,
      "outputs": [
        {
          "output_type": "execute_result",
          "data": {
            "text/plain": [
              "[1, 2]"
            ]
          },
          "metadata": {},
          "execution_count": 25
        }
      ]
    },
    {
      "cell_type": "code",
      "source": [
        "#Quest-2: The \"Reverser\" takes a string as input and returns that string in reverse order, with the opposite case.\n",
        "\"\"\"\n",
        "Examples\n",
        "reverse(\"Hello World\") ➞ \"DLROw OLLEh\"\n",
        "\n",
        "reverse(\"ReVeRsE\") ➞ \"eSrEvEr\"\n",
        "\n",
        "reverse(\"Radar\") ➞ \"RADAr\"\n",
        "\n",
        "\"\"\""
      ],
      "metadata": {
        "id": "koArlz-4b2E7"
      },
      "execution_count": null,
      "outputs": []
    },
    {
      "cell_type": "code",
      "source": [
        "#Answer:\n",
        "def reverser(s):\n",
        "  \"\"\" This function will reverse string and case \"\"\"\n",
        "  s=s.swapcase()\n",
        "  s=s[::-1]\n",
        "  return s\n"
      ],
      "metadata": {
        "id": "FpcQbFWscxrl"
      },
      "execution_count": 40,
      "outputs": []
    },
    {
      "cell_type": "code",
      "source": [
        "reverser(\"Hello World\")"
      ],
      "metadata": {
        "colab": {
          "base_uri": "https://localhost:8080/",
          "height": 35
        },
        "id": "FClWOs6peUD6",
        "outputId": "0959f62a-8230-42fd-9d86-1723dae4df2d"
      },
      "execution_count": 41,
      "outputs": [
        {
          "output_type": "execute_result",
          "data": {
            "text/plain": [
              "'DLROw OLLEh'"
            ],
            "application/vnd.google.colaboratory.intrinsic+json": {
              "type": "string"
            }
          },
          "metadata": {},
          "execution_count": 41
        }
      ]
    },
    {
      "cell_type": "code",
      "source": [
        "# Quest-3: \n",
        "\"\"\"\n",
        "You can assign variables from lists like this:\n",
        "lst = [1, 2, 3, 4, 5, 6]\n",
        "first = lst[0]\n",
        "middle = lst[1:-1]\n",
        "last = lst[-1]\n",
        "\n",
        "print(first) ➞ outputs 1\n",
        "print(middle) ➞ outputs [2, 3, 4, 5]\n",
        "print(last) ➞ outputs 6\n",
        "With Python 3, you can assign variables from lists in a much more succinct way. \n",
        "Create variables first, middle and last from the given list using destructuring assignment (check the Resources tab for some examples), where:\n",
        "\n",
        "first  ➞ 1\n",
        "\n",
        "middle ➞ [2, 3, 4, 5]\n",
        "\n",
        "last ➞ 6\n",
        "\n",
        "Your task is to unpack the list writeyourcodehere into three variables, being first, \n",
        "middle, and last, with middle being everything in between the first and last element. Then print all three variables.\n",
        "\n",
        "\"\"\"\n"
      ],
      "metadata": {
        "id": "TjWnQ2Uggk8o"
      },
      "execution_count": null,
      "outputs": []
    },
    {
      "cell_type": "code",
      "source": [
        "#Answer:\n",
        "# As per my understanding I will write code to perform above shown operartion.\n",
        " \n",
        "def list_break(l):\n",
        "  first=[]\n",
        "  middle=[]\n",
        "  last=[]\n",
        "\n",
        "  for i in range(len(l)):\n",
        "    if i==0:\n",
        "      first.append(l[i])\n",
        "    elif i==(len(l)-1):\n",
        "      last.append(l[i])\n",
        "    else:\n",
        "      middle.append(l[i])\n",
        "  return first, middle, last\n"
      ],
      "metadata": {
        "id": "xu10DwrukNq1"
      },
      "execution_count": 42,
      "outputs": []
    },
    {
      "cell_type": "code",
      "source": [
        "for i in list_break([1, 2, 3, 4, 5, 6]):\n",
        "  if len(i)<=1:\n",
        "    for j in i:\n",
        "      print(j)\n",
        "  else:\n",
        "    print(i)"
      ],
      "metadata": {
        "colab": {
          "base_uri": "https://localhost:8080/"
        },
        "id": "Jnscp00KGyp6",
        "outputId": "4df24298-2ab3-4f29-e0bd-604144b6cf70"
      },
      "execution_count": 46,
      "outputs": [
        {
          "output_type": "stream",
          "name": "stdout",
          "text": [
            "1\n",
            "[2, 3, 4, 5]\n",
            "6\n"
          ]
        }
      ]
    },
    {
      "cell_type": "code",
      "source": [
        "# Quest-4:\n",
        "\"\"\"\n",
        "Write a function that calculates the factorial of a number recursively.\n",
        "\n",
        "Examples\n",
        "factorial(5) ➞ 120\n",
        "\n",
        "factorial(3) ➞ 6\n",
        "\n",
        "factorial(1) ➞ 1\n",
        "\n",
        "factorial(0) ➞ 1\n",
        "\n",
        "\"\"\"\n"
      ],
      "metadata": {
        "id": "izjm3M8RG1-N"
      },
      "execution_count": null,
      "outputs": []
    },
    {
      "cell_type": "code",
      "source": [
        "#Answer:\n",
        "def fact(n):\n",
        "  a=1\n",
        "  for i in range(1,n+1):\n",
        "    a=a*i\n",
        "  return a\n"
      ],
      "metadata": {
        "id": "7ij-2336Ir8V"
      },
      "execution_count": 53,
      "outputs": []
    },
    {
      "cell_type": "code",
      "source": [
        "fact(5)"
      ],
      "metadata": {
        "colab": {
          "base_uri": "https://localhost:8080/"
        },
        "id": "1IUJWn90JCdU",
        "outputId": "804cd469-9367-431c-9e4c-f86be41ed43d"
      },
      "execution_count": 54,
      "outputs": [
        {
          "output_type": "execute_result",
          "data": {
            "text/plain": [
              "120"
            ]
          },
          "metadata": {},
          "execution_count": 54
        }
      ]
    },
    {
      "cell_type": "code",
      "source": [
        "#Quest-5:\n",
        "\"\"\"\n",
        "Write a function that moves all elements of one type to the end of the list.\n",
        "Examples\n",
        "move_to_end([1, 3, 2, 4, 4, 1], 1) ➞ [3, 2, 4, 4, 1, 1]\n",
        "# Move all the 1s to the end of the array.\n",
        "\n",
        "move_to_end([7, 8, 9, 1, 2, 3, 4], 9) ➞ [7, 8, 1, 2, 3, 4, 9]\n",
        "\n",
        "move_to_end([\"a\", \"a\", \"a\", \"b\"], \"a\") ➞ [\"b\", \"a\", \"a\", \"a\"]\n",
        "\n",
        "\"\"\""
      ],
      "metadata": {
        "id": "mkdGyBsYJItW"
      },
      "execution_count": null,
      "outputs": []
    },
    {
      "cell_type": "code",
      "source": [
        "#Answer: \n",
        "\n",
        "def move_fun(l,n):\n",
        "  try:\n",
        "   for i in l:\n",
        "     if i==n:\n",
        "       l.remove(i)\n",
        "       l.append(i)\n",
        "   return l\n",
        "  except:\n",
        "    print(\"Enter input correctly\")\n"
      ],
      "metadata": {
        "id": "U_CKjPl2KAGB"
      },
      "execution_count": 60,
      "outputs": []
    },
    {
      "cell_type": "code",
      "source": [
        "move_fun([1, 3, 2, 4, 4, 1], 1)"
      ],
      "metadata": {
        "colab": {
          "base_uri": "https://localhost:8080/"
        },
        "id": "D8z-_ROgMdGh",
        "outputId": "4969f2e7-1d7c-434c-c1f9-4a230cc42750"
      },
      "execution_count": 61,
      "outputs": [
        {
          "output_type": "execute_result",
          "data": {
            "text/plain": [
              "[3, 2, 4, 4, 1, 1]"
            ]
          },
          "metadata": {},
          "execution_count": 61
        }
      ]
    },
    {
      "cell_type": "code",
      "source": [
        "move_fun([7, 8, 9, 1, 2, 3, 4], 9)"
      ],
      "metadata": {
        "colab": {
          "base_uri": "https://localhost:8080/"
        },
        "id": "wU34Rx4ZMijX",
        "outputId": "8decb947-babe-4129-f2ba-e90a52b3438b"
      },
      "execution_count": 62,
      "outputs": [
        {
          "output_type": "execute_result",
          "data": {
            "text/plain": [
              "[7, 8, 1, 2, 3, 4, 9]"
            ]
          },
          "metadata": {},
          "execution_count": 62
        }
      ]
    },
    {
      "cell_type": "code",
      "source": [
        "move_fun([\"a\", \"a\", \"a\", \"b\"], \"a\")"
      ],
      "metadata": {
        "colab": {
          "base_uri": "https://localhost:8080/"
        },
        "id": "0DLQO7cvMuP-",
        "outputId": "43743a08-d67c-4654-f164-442842171e9d"
      },
      "execution_count": 63,
      "outputs": [
        {
          "output_type": "execute_result",
          "data": {
            "text/plain": [
              "['b', 'a', 'a', 'a']"
            ]
          },
          "metadata": {},
          "execution_count": 63
        }
      ]
    },
    {
      "cell_type": "code",
      "source": [
        ""
      ],
      "metadata": {
        "id": "HeVa04ZNMz9t"
      },
      "execution_count": null,
      "outputs": []
    }
  ]
}