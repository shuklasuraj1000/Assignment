{
  "nbformat": 4,
  "nbformat_minor": 0,
  "metadata": {
    "colab": {
      "name": "Untitled57.ipynb",
      "provenance": [],
      "collapsed_sections": []
    },
    "kernelspec": {
      "name": "python3",
      "display_name": "Python 3"
    },
    "language_info": {
      "name": "python"
    }
  },
  "cells": [
    {
      "cell_type": "code",
      "execution_count": null,
      "metadata": {
        "id": "zV8mxasK0jkN"
      },
      "outputs": [],
      "source": [
        "#Quest-1:\n",
        "\"\"\"\n",
        "Create a function that takes an integer and returns a list from 1 to the given number, where:\n",
        "1.\tIf the number can be divided evenly by 4, amplify it by 10 (i.e. return 10 times the number).\n",
        "2.\tIf the number cannot be divided evenly by 4, simply return the number.\n",
        "Examples\n",
        "amplify(4) ➞ [1, 2, 3, 40]\n",
        "\n",
        "amplify(3) ➞ [1, 2, 3]\n",
        "\n",
        "amplify(25) ➞ [1, 2, 3, 40, 5, 6, 7, 80, 9, 10, 11, 120, 13, 14, 15, 160, 17, 18, 19, 200, 21, 22, 23, 240, 25]\n",
        "Notes\n",
        "•\tThe given integer will always be equal to or greater than 1.\n",
        "•\tInclude the number (see example above).\n",
        "•\tTo perform this problem with its intended purpose, try doing it with list comprehensions. If that's too difficult, just solve the challenge any way you can.\n",
        "\n",
        "\"\"\""
      ]
    },
    {
      "cell_type": "code",
      "source": [
        "#Answer:\n",
        "def amp_list(n):\n",
        "  l=[i for i in range(1,n+1)]\n",
        "  l1=[]\n",
        "  for i in l:\n",
        "    if i%4==0:\n",
        "      l1.append(i*10)\n",
        "    else:\n",
        "      l1.append(i)\n",
        "  return l1"
      ],
      "metadata": {
        "id": "FoOfD8jU4YXF"
      },
      "execution_count": 2,
      "outputs": []
    },
    {
      "cell_type": "code",
      "source": [
        "amp_list(4)"
      ],
      "metadata": {
        "colab": {
          "base_uri": "https://localhost:8080/"
        },
        "id": "OXEM_RCo4-ep",
        "outputId": "f382b08b-28bc-4e48-b0d6-15c70ea191b9"
      },
      "execution_count": 3,
      "outputs": [
        {
          "output_type": "execute_result",
          "data": {
            "text/plain": [
              "[1, 2, 3, 40]"
            ]
          },
          "metadata": {},
          "execution_count": 3
        }
      ]
    },
    {
      "cell_type": "code",
      "source": [
        "amp_list(3)"
      ],
      "metadata": {
        "colab": {
          "base_uri": "https://localhost:8080/"
        },
        "id": "rm3OaGwj582w",
        "outputId": "34d20105-10e0-45dd-c3cd-fba62fb4aee8"
      },
      "execution_count": 4,
      "outputs": [
        {
          "output_type": "execute_result",
          "data": {
            "text/plain": [
              "[1, 2, 3]"
            ]
          },
          "metadata": {},
          "execution_count": 4
        }
      ]
    },
    {
      "cell_type": "code",
      "source": [
        "amp_list(25)"
      ],
      "metadata": {
        "colab": {
          "base_uri": "https://localhost:8080/"
        },
        "id": "3SAYP1xb6ALJ",
        "outputId": "feabd313-404e-490b-ff53-c2a4ce2a1c3a"
      },
      "execution_count": 5,
      "outputs": [
        {
          "output_type": "execute_result",
          "data": {
            "text/plain": [
              "[1,\n",
              " 2,\n",
              " 3,\n",
              " 40,\n",
              " 5,\n",
              " 6,\n",
              " 7,\n",
              " 80,\n",
              " 9,\n",
              " 10,\n",
              " 11,\n",
              " 120,\n",
              " 13,\n",
              " 14,\n",
              " 15,\n",
              " 160,\n",
              " 17,\n",
              " 18,\n",
              " 19,\n",
              " 200,\n",
              " 21,\n",
              " 22,\n",
              " 23,\n",
              " 240,\n",
              " 25]"
            ]
          },
          "metadata": {},
          "execution_count": 5
        }
      ]
    },
    {
      "cell_type": "code",
      "source": [
        "#Quest-2:\n",
        "\"\"\"\n",
        "Create a function that takes a list of numbers and return the number that's unique.\n",
        "\n",
        "Examples\n",
        "unique([3, 3, 3, 7, 3, 3]) ➞ 7\n",
        "\n",
        "unique([0, 0, 0.77, 0, 0]) ➞ 0.77\n",
        "\n",
        "unique([0, 1, 1, 1, 1, 1, 1, 1]) ➞ 0\n",
        "Notes\n",
        "Test cases will always have exactly one unique number while all others are the same.\n",
        "\n",
        "\"\"\""
      ],
      "metadata": {
        "id": "rivXaiTr6Ckv"
      },
      "execution_count": null,
      "outputs": []
    },
    {
      "cell_type": "code",
      "source": [
        "#Answer:\n",
        "def unique_num(l):\n",
        "  \"\"\"This function return unique numbers.\"\"\"\n",
        "  a=l\n",
        "  l.sort()\n",
        "  p=[]\n",
        "  for i in l:\n",
        "    n=a.count(i)\n",
        "    if n>1:\n",
        "      pass\n",
        "    else:\n",
        "      p.append(i)\n",
        "  return p"
      ],
      "metadata": {
        "id": "Ehk32vxP6ZBF"
      },
      "execution_count": 2,
      "outputs": []
    },
    {
      "cell_type": "code",
      "source": [
        "for i in unique_num([3, 3, 3, 7, 3, 3]):\n",
        "  print(i)"
      ],
      "metadata": {
        "colab": {
          "base_uri": "https://localhost:8080/"
        },
        "id": "9D7j5aBVt9w6",
        "outputId": "ad3c6569-f9a2-4081-98dd-8a47487559f6"
      },
      "execution_count": 6,
      "outputs": [
        {
          "output_type": "stream",
          "name": "stdout",
          "text": [
            "7\n"
          ]
        }
      ]
    },
    {
      "cell_type": "code",
      "source": [
        "unique_num([0, 0, 0.77, 0, 0])"
      ],
      "metadata": {
        "colab": {
          "base_uri": "https://localhost:8080/"
        },
        "id": "A57NUG_guIQA",
        "outputId": "3bf9b0b4-b84a-4d76-b9c1-bf4b3969fe49"
      },
      "execution_count": 8,
      "outputs": [
        {
          "output_type": "execute_result",
          "data": {
            "text/plain": [
              "[0.77]"
            ]
          },
          "metadata": {},
          "execution_count": 8
        }
      ]
    },
    {
      "cell_type": "code",
      "source": [
        "for i in unique_num([0, 1, 1, 1, 1, 1, 1, 1]):\n",
        "  print"
      ],
      "metadata": {
        "colab": {
          "base_uri": "https://localhost:8080/"
        },
        "id": "JnDYqIX6uxWy",
        "outputId": "4083308a-6c6a-4d9d-aa90-8ae57735c472"
      },
      "execution_count": 5,
      "outputs": [
        {
          "output_type": "stream",
          "name": "stdout",
          "text": [
            "0\n"
          ]
        }
      ]
    },
    {
      "cell_type": "code",
      "source": [
        "#Quest-3:\n",
        "\"\"\"\n",
        "Your task is to create a Circle constructor that creates a circle with a radius provided by an argument. \n",
        "The circles constructed must have two getters getArea() (PIr^2) and getPerimeter() (2PI*r) \n",
        "which give both respective areas and perimeter (circumference).\n",
        "\n",
        "For help with this class, I have provided you with a Rectangle constructor which you can use as a base example.\n",
        "\n",
        "Examples\n",
        "circy = Circle(11)\n",
        "circy.getArea()\n",
        "# Should return 380.132711084365\n",
        "\n",
        "circy = Circle(4.44)\n",
        "circy.getPerimeter()\n",
        "# Should return 27.897342763877365\n",
        "\n",
        "Notes\n",
        "Round results up to the nearest integer\n",
        "\n",
        "\"\"\""
      ],
      "metadata": {
        "id": "I2CNRFY9vG_h"
      },
      "execution_count": null,
      "outputs": []
    },
    {
      "cell_type": "code",
      "source": [
        "class circle_cons:\n",
        "  def __init__(self,radius):\n",
        "    self.radius=radius\n",
        "\n",
        "  def get_area(radius):\n",
        "    A=3.14159*(radius**2)\n",
        "    return round(A,2)\n",
        "\n",
        "  def get_perim(radius):\n",
        "    P=3.14159*(radius*2)\n",
        "    return round(P,2)"
      ],
      "metadata": {
        "id": "2NPCk1JA8j-2"
      },
      "execution_count": 26,
      "outputs": []
    },
    {
      "cell_type": "code",
      "source": [
        "C1=circle_cons(11)\n",
        "C2=circle_cons(4.44)"
      ],
      "metadata": {
        "id": "CwhrTR8N9TfD"
      },
      "execution_count": 27,
      "outputs": []
    },
    {
      "cell_type": "code",
      "source": [
        "circle_cons.get_area(C1.radius)"
      ],
      "metadata": {
        "colab": {
          "base_uri": "https://localhost:8080/"
        },
        "id": "19cNPx_69bje",
        "outputId": "c054b725-fd00-4049-9b38-99a19b90ab61"
      },
      "execution_count": 28,
      "outputs": [
        {
          "output_type": "execute_result",
          "data": {
            "text/plain": [
              "380.13"
            ]
          },
          "metadata": {},
          "execution_count": 28
        }
      ]
    },
    {
      "cell_type": "code",
      "source": [
        "circle_cons.get_perim(C2.radius)"
      ],
      "metadata": {
        "colab": {
          "base_uri": "https://localhost:8080/"
        },
        "id": "ONCYzWau9kmT",
        "outputId": "32efa597-d9ab-4cde-b593-3bb2047a5847"
      },
      "execution_count": 29,
      "outputs": [
        {
          "output_type": "execute_result",
          "data": {
            "text/plain": [
              "27.9"
            ]
          },
          "metadata": {},
          "execution_count": 29
        }
      ]
    },
    {
      "cell_type": "code",
      "source": [
        "# Quest-4:\n",
        "\"\"\"\n",
        "Create a function that takes a list of strings and return a list, sorted from shortest to longest.\n",
        "\n",
        "Examples\n",
        "sort_by_length([\"Google\", \"Apple\", \"Microsoft\"])\n",
        "➞ [\"Apple\", \"Google\", \"Microsoft\"]\n",
        "\n",
        "sort_by_length([\"Leonardo\", \"Michelangelo\", \"Raphael\", \"Donatello\"])\n",
        "➞ [\"Raphael\", \"Leonardo\", \"Donatello\", \"Michelangelo\"]\n",
        "\n",
        "sort_by_length([\"Turing\", \"Einstein\", \"Jung\"])\n",
        "➞ [\"Jung\", \"Turing\", \"Einstein\"]\n",
        "\n",
        "Notes\n",
        "All test cases contain lists with strings of different lengths, so you won't have to deal with multiple strings of the same length.\n",
        "\n",
        "\"\"\""
      ],
      "metadata": {
        "id": "cJ5Ki3ei_VvU"
      },
      "execution_count": null,
      "outputs": []
    },
    {
      "cell_type": "code",
      "source": [
        "#Answer:\n",
        "def sort_list(l):\n",
        "  l_sorted=sorted(l,key=len)\n",
        "  return l_sorted"
      ],
      "metadata": {
        "id": "zx3P7bgiFpE0"
      },
      "execution_count": 30,
      "outputs": []
    },
    {
      "cell_type": "code",
      "source": [
        "sort_list([\"Google\", \"Apple\", \"Microsoft\"])"
      ],
      "metadata": {
        "colab": {
          "base_uri": "https://localhost:8080/"
        },
        "id": "5LNV4z2sQAZW",
        "outputId": "31acfa58-9cf4-403f-e8b7-517134602bba"
      },
      "execution_count": 31,
      "outputs": [
        {
          "output_type": "execute_result",
          "data": {
            "text/plain": [
              "['Apple', 'Google', 'Microsoft']"
            ]
          },
          "metadata": {},
          "execution_count": 31
        }
      ]
    },
    {
      "cell_type": "code",
      "source": [
        "sort_list([\"Leonardo\", \"Michelangelo\", \"Raphael\", \"Donatello\"])"
      ],
      "metadata": {
        "colab": {
          "base_uri": "https://localhost:8080/"
        },
        "id": "0bR7Iz6eQIvg",
        "outputId": "c1989390-a050-478c-b868-14d6cf5a280d"
      },
      "execution_count": 32,
      "outputs": [
        {
          "output_type": "execute_result",
          "data": {
            "text/plain": [
              "['Raphael', 'Leonardo', 'Donatello', 'Michelangelo']"
            ]
          },
          "metadata": {},
          "execution_count": 32
        }
      ]
    },
    {
      "cell_type": "code",
      "source": [
        "#Quest-5:\n",
        "\"\"\"\n",
        "Create a function that validates whether three given integers form a Pythagorean triplet. \n",
        "The sum of the squares of the two smallest integers must equal the square of the largest number to be validated.\n",
        "\n",
        "Examples\n",
        "is_triplet(3, 4, 5) ➞ True\n",
        "# 3² + 4² = 25\n",
        "# 5² = 25\n",
        "\n",
        "is_triplet(13, 5, 12) ➞ True\n",
        "# 5² + 12² = 169\n",
        "# 13² = 169\n",
        "\n",
        "is_triplet(1, 2, 3) ➞ False\n",
        "# 1² + 2² = 5\n",
        "# 3² = 9\n",
        "Notes\n",
        "Numbers may not be given in a sorted order.\n",
        "\n",
        "\"\"\""
      ],
      "metadata": {
        "id": "U9BgYgwHQReu"
      },
      "execution_count": null,
      "outputs": []
    },
    {
      "cell_type": "code",
      "source": [
        "#Answer:\n",
        "def py_trip(*a):\n",
        "  \"\"\" This function will return if given 3 numbers are pygorian triplesor not.\"\"\"\n",
        "  if len(a)!=3:\n",
        "    return \"Enter 3 values only\"\n",
        "  else:\n",
        "    l=sorted(a)\n",
        "    if l[0]**2+l[1]**2==l[2]**2:\n",
        "      return True\n",
        "    else:\n",
        "      return False\n"
      ],
      "metadata": {
        "id": "8u-USBexQlsG"
      },
      "execution_count": 46,
      "outputs": []
    },
    {
      "cell_type": "code",
      "source": [
        "py_trip(4,3,5)"
      ],
      "metadata": {
        "colab": {
          "base_uri": "https://localhost:8080/"
        },
        "id": "eXqR90s1RroA",
        "outputId": "e76e37d3-0ebf-46b9-8c20-6301e7bf6db8"
      },
      "execution_count": 50,
      "outputs": [
        {
          "output_type": "execute_result",
          "data": {
            "text/plain": [
              "True"
            ]
          },
          "metadata": {},
          "execution_count": 50
        }
      ]
    },
    {
      "cell_type": "code",
      "source": [
        "py_trip(13, 5, 12)"
      ],
      "metadata": {
        "colab": {
          "base_uri": "https://localhost:8080/"
        },
        "id": "HE-QfRjURvsS",
        "outputId": "d9cf0811-a9d8-4a11-b7bc-f8ad41209039"
      },
      "execution_count": 48,
      "outputs": [
        {
          "output_type": "execute_result",
          "data": {
            "text/plain": [
              "True"
            ]
          },
          "metadata": {},
          "execution_count": 48
        }
      ]
    },
    {
      "cell_type": "code",
      "source": [
        "py_trip(1,2,3)"
      ],
      "metadata": {
        "colab": {
          "base_uri": "https://localhost:8080/"
        },
        "id": "RPbUMoVdTQLW",
        "outputId": "bee5e0b8-d99f-4d80-bf54-62c740af4aa8"
      },
      "execution_count": 49,
      "outputs": [
        {
          "output_type": "execute_result",
          "data": {
            "text/plain": [
              "False"
            ]
          },
          "metadata": {},
          "execution_count": 49
        }
      ]
    },
    {
      "cell_type": "code",
      "source": [
        ""
      ],
      "metadata": {
        "id": "7_BNnU-zT8gP"
      },
      "execution_count": null,
      "outputs": []
    }
  ]
}