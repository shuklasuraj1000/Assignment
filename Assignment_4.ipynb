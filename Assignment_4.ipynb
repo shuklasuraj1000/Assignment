{
  "nbformat": 4,
  "nbformat_minor": 0,
  "metadata": {
    "colab": {
      "name": "Untitled35.ipynb",
      "provenance": [],
      "collapsed_sections": []
    },
    "kernelspec": {
      "name": "python3",
      "display_name": "Python 3"
    },
    "language_info": {
      "name": "python"
    }
  },
  "cells": [
    {
      "cell_type": "code",
      "execution_count": 5,
      "metadata": {
        "colab": {
          "base_uri": "https://localhost:8080/"
        },
        "id": "BlzCHFF2nId_",
        "outputId": "2bbd6c7e-65dc-40b8-b6bb-de6d2d3afcae"
      },
      "outputs": [
        {
          "output_type": "execute_result",
          "data": {
            "text/plain": [
              "list"
            ]
          },
          "metadata": {},
          "execution_count": 5
        }
      ],
      "source": [
        "# Quest-1: What exactly is []?\n",
        "#Answer: A empty list containing no values.\n",
        "a=[]\n",
        "type(a)\n"
      ]
    },
    {
      "cell_type": "code",
      "source": [
        "# Quest-2: 2. In a list of values stored in a variable called spam, how would you assign the value 'hello' as the third value? (Assume [2, 4, 6, 8, 10] are in spam.)\n",
        "# Answer: \n",
        "spam=[2,4,6,8,10]                  # As we know list is a mutable intity, so we replace 3rd index value to \"hello\" from 6.\n",
        "spam[2]='hello'\n",
        "spam"
      ],
      "metadata": {
        "colab": {
          "base_uri": "https://localhost:8080/"
        },
        "id": "LPVXXH4gnQwG",
        "outputId": "ca54bb94-0ddf-4b44-dfc5-64581a7c0705"
      },
      "execution_count": 9,
      "outputs": [
        {
          "output_type": "execute_result",
          "data": {
            "text/plain": [
              "[2, 4, 'hello', 8, 10]"
            ]
          },
          "metadata": {},
          "execution_count": 9
        }
      ]
    },
    {
      "cell_type": "code",
      "source": [
        "## Let's pretend the spam includes the list ['a','b','c','d'] for the next three queries.\n",
        "# Quest-3: What is the value of spam[int(int('3'* 2) / 11)]?\n",
        "#Answer:\n",
        "spam=['a','b','c','d']\n",
        "spam[int(int('3'* 2) / 11)]                         # '3'*2 >>>  '33' >>>  int('33') >>> int(33 /11) >>> 3 (int type)    in spam index [0,1,2,3] >> ['a','b','c','d']\n"
      ],
      "metadata": {
        "colab": {
          "base_uri": "https://localhost:8080/",
          "height": 35
        },
        "id": "5PKALIn9nb5j",
        "outputId": "465a9fcd-3f0c-4543-de81-424d97ffab71"
      },
      "execution_count": 11,
      "outputs": [
        {
          "output_type": "execute_result",
          "data": {
            "text/plain": [
              "'d'"
            ],
            "application/vnd.google.colaboratory.intrinsic+json": {
              "type": "string"
            }
          },
          "metadata": {},
          "execution_count": 11
        }
      ]
    },
    {
      "cell_type": "code",
      "source": [
        "# Quest-4: What is the value of spam[-1]?\n",
        "spam[-1]"
      ],
      "metadata": {
        "colab": {
          "base_uri": "https://localhost:8080/",
          "height": 35
        },
        "id": "qfqYRC0qqm1N",
        "outputId": "ce44e367-974b-4e94-ea63-b64db921bdc0"
      },
      "execution_count": 19,
      "outputs": [
        {
          "output_type": "execute_result",
          "data": {
            "text/plain": [
              "'d'"
            ],
            "application/vnd.google.colaboratory.intrinsic+json": {
              "type": "string"
            }
          },
          "metadata": {},
          "execution_count": 19
        }
      ]
    },
    {
      "cell_type": "code",
      "source": [
        "# Quest-5: What is the value of spam[:2]?\n",
        "#Answer:\n",
        "spam[:2]"
      ],
      "metadata": {
        "colab": {
          "base_uri": "https://localhost:8080/"
        },
        "id": "t3j-DpvQrSK8",
        "outputId": "3a3ff739-640b-4341-ff82-f94a85afe2f4"
      },
      "execution_count": 20,
      "outputs": [
        {
          "output_type": "execute_result",
          "data": {
            "text/plain": [
              "['a', 'b']"
            ]
          },
          "metadata": {},
          "execution_count": 20
        }
      ]
    },
    {
      "cell_type": "code",
      "source": [
        "# Let's pretend bacon has the list [3.14,'cat' ,11 ,'cat', True] for the next three questions.\n",
        "# Quest-6: What is the value of bacon.index('cat')?\n",
        "# Answer:\n",
        "bacon=[3.14,'cat' ,11 ,'cat', True]\n",
        "bacon.index('cat')                                            # bacon index [0,1,2,3,4]    this will fetch index for first 'act' only"
      ],
      "metadata": {
        "colab": {
          "base_uri": "https://localhost:8080/"
        },
        "id": "ditF7fesslaa",
        "outputId": "b130af8a-b321-4743-fd5d-3119467a9645"
      },
      "execution_count": 21,
      "outputs": [
        {
          "output_type": "execute_result",
          "data": {
            "text/plain": [
              "1"
            ]
          },
          "metadata": {},
          "execution_count": 21
        }
      ]
    },
    {
      "cell_type": "code",
      "source": [
        "# Quest-7: How does bacon.append(99) change the look of the list value in bacon?\n",
        "# Answer:\n",
        "bacon.append(99)                          # 99 will added at the end.\n",
        "bacon"
      ],
      "metadata": {
        "colab": {
          "base_uri": "https://localhost:8080/"
        },
        "id": "PJAMGTPlxErP",
        "outputId": "af4041cb-3a68-4d11-fcd3-1824278b5214"
      },
      "execution_count": 22,
      "outputs": [
        {
          "output_type": "execute_result",
          "data": {
            "text/plain": [
              "[3.14, 'cat', 11, 'cat', True, 99]"
            ]
          },
          "metadata": {},
          "execution_count": 22
        }
      ]
    },
    {
      "cell_type": "code",
      "source": [
        "# Quest-8: How does bacon.remove(&#39;cat&#39;) change the look of the list in bacon?\n",
        "# Answer:\n",
        "bacon.remove('cat')  # This will remove first 'cat' from list.\n",
        "bacon\n"
      ],
      "metadata": {
        "colab": {
          "base_uri": "https://localhost:8080/"
        },
        "id": "BSw3dbM_z5S_",
        "outputId": "cc9ce3c4-e8ae-4780-f66b-1f936b6a83e8"
      },
      "execution_count": 23,
      "outputs": [
        {
          "output_type": "execute_result",
          "data": {
            "text/plain": [
              "[3.14, 11, 'cat', True, 99]"
            ]
          },
          "metadata": {},
          "execution_count": 23
        }
      ]
    },
    {
      "cell_type": "code",
      "source": [
        "# Quest-9: What are the list concatenation and list replication operators?\n",
        "# Answer: \n",
        "# List concatenation: \n",
        "l1=[1,2,3,4,5]\n",
        "l2=[6,7,8,9]\n",
        "l3=l1+l2             # Concatenation\n",
        "l3"
      ],
      "metadata": {
        "colab": {
          "base_uri": "https://localhost:8080/"
        },
        "id": "I0gVWf5m0Htf",
        "outputId": "0a9db872-519f-4033-818d-5f6e2e9e003c"
      },
      "execution_count": 34,
      "outputs": [
        {
          "output_type": "execute_result",
          "data": {
            "text/plain": [
              "[1, 2, 3, 4, 5, 6, 7, 8, 9]"
            ]
          },
          "metadata": {},
          "execution_count": 34
        }
      ]
    },
    {
      "cell_type": "code",
      "source": [
        "# List replication: \n",
        "l4=l1*3               # Replication\n",
        "l4"
      ],
      "metadata": {
        "colab": {
          "base_uri": "https://localhost:8080/"
        },
        "id": "P5yekChK09HR",
        "outputId": "cd9dc96d-e59a-40fd-cb1a-232797dd9bf0"
      },
      "execution_count": 36,
      "outputs": [
        {
          "output_type": "execute_result",
          "data": {
            "text/plain": [
              "[1, 2, 3, 4, 5, 1, 2, 3, 4, 5, 1, 2, 3, 4, 5]"
            ]
          },
          "metadata": {},
          "execution_count": 36
        }
      ]
    },
    {
      "cell_type": "code",
      "source": [
        "# Quest-10: What is difference between the list methods append() and insert()?\n",
        "# Answer:\n",
        "l1=[1,2,3,4,5]\n",
        "l1.append(10)\n",
        "print(\"After append :\",l1)        # Append will add element at the end\n",
        "l1.insert(2,'A')                  # Insert will give you flexibity where you want to insert element . In this case at 2nd index.\n",
        "print(\"After inserting :\",l1)"
      ],
      "metadata": {
        "colab": {
          "base_uri": "https://localhost:8080/"
        },
        "id": "DSzsYIgKCqxw",
        "outputId": "fa9db54d-b251-44d3-db25-9022aef662ad"
      },
      "execution_count": 40,
      "outputs": [
        {
          "output_type": "stream",
          "name": "stdout",
          "text": [
            "After append : [1, 2, 3, 4, 5, 10]\n",
            "After inserting : [1, 2, 'A', 3, 4, 5, 10]\n"
          ]
        }
      ]
    },
    {
      "cell_type": "code",
      "source": [
        "# Quest-11: What are the two methods for removing items from a list?\n",
        "# Answer:\n",
        "l1=[1,2,3,4,5]\n",
        "l1.pop()                # POP will 1 element from last in the list.\n",
        "print(\"POP Option : \",l1)\n",
        "l1.remove(2)            # Remove gives flexibity which element you want to remove as per your choice.\n",
        "print(\"Remove Option : \",l1)"
      ],
      "metadata": {
        "colab": {
          "base_uri": "https://localhost:8080/"
        },
        "id": "DfgmvGEdDTWX",
        "outputId": "f5667c66-a04e-475b-915e-be5b04cc85b9"
      },
      "execution_count": 43,
      "outputs": [
        {
          "output_type": "stream",
          "name": "stdout",
          "text": [
            "POP Option :  [1, 2, 3, 4]\n",
            "Remove Option :  [1, 3, 4]\n"
          ]
        }
      ]
    },
    {
      "cell_type": "code",
      "source": [
        "# Quest-12: Describe how list values and string values are identical.\n",
        "# Answer: <<<< List and string both are used to store value /data and both are sequence >>>>\n",
        "\n",
        "# List value:\n",
        "#      1- List is sequence.        ***********\n",
        "#      2- List is is mutable.\n",
        "#      3- List can hold anything.\n",
        "\n",
        "l1=['abc',123,'@',1.25, complex(3,4)]\n",
        "l1[1]=1000\n",
        "print(l1)                 # Mutable\n",
        "type(l1[4])"
      ],
      "metadata": {
        "colab": {
          "base_uri": "https://localhost:8080/"
        },
        "id": "5QHcbaHhEA2Q",
        "outputId": "7ba5cd4c-53ad-4ecb-af54-c44a5596ef25"
      },
      "execution_count": 47,
      "outputs": [
        {
          "output_type": "stream",
          "name": "stdout",
          "text": [
            "['abc', 1000, '@', 1.25, (3+4j)]\n"
          ]
        },
        {
          "output_type": "execute_result",
          "data": {
            "text/plain": [
              "complex"
            ]
          },
          "metadata": {},
          "execution_count": 47
        }
      ]
    },
    {
      "cell_type": "code",
      "source": [
        "# String Value:\n",
        "#      1- String is sequence.      ************\n",
        "#      2- String is is immutable.\n",
        "#      3- String can hold only chars.\n",
        "\n",
        "s=\"abc,123,@,1.25, complex(3,4)\"\n",
        "print(type(s[1]))\n",
        "print(type(s[4]))\n"
      ],
      "metadata": {
        "colab": {
          "base_uri": "https://localhost:8080/"
        },
        "id": "1FCAVwsOHYMv",
        "outputId": "daf1528d-a4a8-4466-beb2-ba3699d5dfbe"
      },
      "execution_count": 50,
      "outputs": [
        {
          "output_type": "stream",
          "name": "stdout",
          "text": [
            "<class 'str'>\n",
            "<class 'str'>\n"
          ]
        }
      ]
    },
    {
      "cell_type": "code",
      "source": [
        "# Quest-13: What&#39;s the difference between tuples and lists?\n",
        "#Answer:\n",
        "\n",
        "# List value:      \n",
        "#      1- List is is mutable.\n",
        "#      2- List can hold anything.\n",
        "\n",
        "l1=['abc',123,'@',1.25, complex(3,4)]\n",
        "l1[1]=1000                                # Mutabilty test\n",
        "print(l1)                 # Mutable\n",
        "type(l1[4])\n"
      ],
      "metadata": {
        "colab": {
          "base_uri": "https://localhost:8080/"
        },
        "id": "cYm4QygLHwbL",
        "outputId": "01dfc1f6-8608-4fad-f3ca-82372d6ee1b9"
      },
      "execution_count": 51,
      "outputs": [
        {
          "output_type": "stream",
          "name": "stdout",
          "text": [
            "['abc', 1000, '@', 1.25, (3+4j)]\n"
          ]
        },
        {
          "output_type": "execute_result",
          "data": {
            "text/plain": [
              "complex"
            ]
          },
          "metadata": {},
          "execution_count": 51
        }
      ]
    },
    {
      "cell_type": "code",
      "source": [
        "# tuple Value:\n",
        "#      1- tuples are more memory efficient than the lists     \n",
        "#      2- tuple is is immutable.\n",
        "\n",
        "\n",
        "s=('abc',123,'@',1.25, complex(3,4))\n",
        "s[1]=1000                                # Not mutable"
      ],
      "metadata": {
        "colab": {
          "base_uri": "https://localhost:8080/",
          "height": 200
        },
        "id": "AjEL9Yu4JAuR",
        "outputId": "d5f0262a-45ce-4918-ad6a-c1fd97dbdcbe"
      },
      "execution_count": 55,
      "outputs": [
        {
          "output_type": "error",
          "ename": "TypeError",
          "evalue": "ignored",
          "traceback": [
            "\u001b[0;31m---------------------------------------------------------------------------\u001b[0m",
            "\u001b[0;31mTypeError\u001b[0m                                 Traceback (most recent call last)",
            "\u001b[0;32m<ipython-input-55-60645cf82e2d>\u001b[0m in \u001b[0;36m<module>\u001b[0;34m()\u001b[0m\n\u001b[1;32m      5\u001b[0m \u001b[0;34m\u001b[0m\u001b[0m\n\u001b[1;32m      6\u001b[0m \u001b[0ms\u001b[0m\u001b[0;34m=\u001b[0m\u001b[0;34m(\u001b[0m\u001b[0;34m'abc'\u001b[0m\u001b[0;34m,\u001b[0m\u001b[0;36m123\u001b[0m\u001b[0;34m,\u001b[0m\u001b[0;34m'@'\u001b[0m\u001b[0;34m,\u001b[0m\u001b[0;36m1.25\u001b[0m\u001b[0;34m,\u001b[0m \u001b[0mcomplex\u001b[0m\u001b[0;34m(\u001b[0m\u001b[0;36m3\u001b[0m\u001b[0;34m,\u001b[0m\u001b[0;36m4\u001b[0m\u001b[0;34m)\u001b[0m\u001b[0;34m)\u001b[0m\u001b[0;34m\u001b[0m\u001b[0;34m\u001b[0m\u001b[0m\n\u001b[0;32m----> 7\u001b[0;31m \u001b[0ms\u001b[0m\u001b[0;34m[\u001b[0m\u001b[0;36m1\u001b[0m\u001b[0;34m]\u001b[0m\u001b[0;34m=\u001b[0m\u001b[0;36m1000\u001b[0m\u001b[0;34m\u001b[0m\u001b[0;34m\u001b[0m\u001b[0m\n\u001b[0m",
            "\u001b[0;31mTypeError\u001b[0m: 'tuple' object does not support item assignment"
          ]
        }
      ]
    },
    {
      "cell_type": "code",
      "source": [
        "# Quest-14: How do you type a tuple value that only contains the integer 42?\n",
        "# Answer: \n",
        "t=(42,)\n",
        "type(t)\n"
      ],
      "metadata": {
        "colab": {
          "base_uri": "https://localhost:8080/"
        },
        "id": "j8umPIAPJtju",
        "outputId": "e8732e38-1a90-4f7f-860d-d5560f5a4e98"
      },
      "execution_count": 65,
      "outputs": [
        {
          "output_type": "execute_result",
          "data": {
            "text/plain": [
              "tuple"
            ]
          },
          "metadata": {},
          "execution_count": 65
        }
      ]
    },
    {
      "cell_type": "code",
      "source": [
        "# Quest-15: How do you get a list value's tuple form? How do you get a tuple value's list form?\n",
        "#Answer: \n",
        "l=[1,2,3,4]                 # l is list\n",
        "type(l)"
      ],
      "metadata": {
        "colab": {
          "base_uri": "https://localhost:8080/"
        },
        "id": "buvNhJalcY7_",
        "outputId": "523e266f-cf73-4178-e29c-6c6ab34a1aef"
      },
      "execution_count": 76,
      "outputs": [
        {
          "output_type": "execute_result",
          "data": {
            "text/plain": [
              "list"
            ]
          },
          "metadata": {},
          "execution_count": 76
        }
      ]
    },
    {
      "cell_type": "code",
      "source": [
        "t=tuple(l)                  # from list to tuple\n",
        "print(t)\n",
        "type(t)"
      ],
      "metadata": {
        "colab": {
          "base_uri": "https://localhost:8080/"
        },
        "id": "uS0ceDqMcctE",
        "outputId": "977c836e-012b-4f41-f9db-e703c0961128"
      },
      "execution_count": 77,
      "outputs": [
        {
          "output_type": "stream",
          "name": "stdout",
          "text": [
            "(1, 2, 3, 4)\n"
          ]
        },
        {
          "output_type": "execute_result",
          "data": {
            "text/plain": [
              "tuple"
            ]
          },
          "metadata": {},
          "execution_count": 77
        }
      ]
    },
    {
      "cell_type": "code",
      "source": [
        "l1=list(t)                   # tuple to list\n",
        "print(l1)\n",
        "type(l1)"
      ],
      "metadata": {
        "colab": {
          "base_uri": "https://localhost:8080/"
        },
        "id": "YP6bkKU3erHd",
        "outputId": "91259402-0ba9-422c-9409-2793ae8dcfa0"
      },
      "execution_count": 79,
      "outputs": [
        {
          "output_type": "stream",
          "name": "stdout",
          "text": [
            "[1, 2, 3, 4]\n"
          ]
        },
        {
          "output_type": "execute_result",
          "data": {
            "text/plain": [
              "list"
            ]
          },
          "metadata": {},
          "execution_count": 79
        }
      ]
    },
    {
      "cell_type": "code",
      "source": [
        "# Quest-16: Variables that \"contain\" list values are not necessarily lists themselves. Instead, what do they contain?\n",
        "# Answer: Here variable X is containing references to list values\n",
        "x=\"[1,2,3,4],abc,@\"                  # Refernces >>> index 1st : [,  index 2nd: 1, index 3rd : 2\n",
        "x.index('2')"
      ],
      "metadata": {
        "colab": {
          "base_uri": "https://localhost:8080/"
        },
        "id": "BehAepd2e4cd",
        "outputId": "32b3620e-ea59-433a-9193-f9379644f3f8"
      },
      "execution_count": 88,
      "outputs": [
        {
          "output_type": "execute_result",
          "data": {
            "text/plain": [
              "3"
            ]
          },
          "metadata": {},
          "execution_count": 88
        }
      ]
    },
    {
      "cell_type": "code",
      "source": [
        "# Quest-17: How do you distinguish between copy.copy() and copy.deepcopy()?\n",
        "# Answer: \n",
        "\"\"\" copy() creates reference to original object. If you change copied object - you change the original object.\n",
        " .deepcopy() creates new object and does real copying of original object to new one.\"\"\"\n",
        "\n",
        "#SEE CASE-1 and CASE-2 for explaination-\n",
        "import copy\n",
        "#CASE-1: copy.deepcopy()\n",
        "l1=[1,2,[3,4],5]\n",
        "l2=copy.deepcopy(l1)          # Deepcopy of l1\n",
        "print(\"l2 : \",l2)\n",
        "l2[2][0]='b'\n",
        "print(\"l2 after modification ------: \",l2)\n",
        "print(\"l1 after modification in l2 : \",l1)\n",
        "\n",
        "print(\"** No change in original list l1. **\")\n"
      ],
      "metadata": {
        "colab": {
          "base_uri": "https://localhost:8080/"
        },
        "id": "eoMIrYFVfocN",
        "outputId": "a0958972-52c5-47bf-c085-651055efb66f"
      },
      "execution_count": 115,
      "outputs": [
        {
          "output_type": "stream",
          "name": "stdout",
          "text": [
            "l2 :  [1, 2, [3, 4], 5]\n",
            "l2 after modification ------:  [1, 2, ['b', 4], 5]\n",
            "l1 after modification in l2 :  [1, 2, [3, 4], 5]\n",
            "** No change in original list l1. **\n"
          ]
        }
      ]
    },
    {
      "cell_type": "code",
      "source": [
        "#CASE-2: copy.copy()\n",
        "l3=[1,2,[3,4],5]\n",
        "l4=copy.copy(l3)\n",
        "l4[2][0]='a'\n",
        "print(\"l4 after modification -----: \",l4)\n",
        "print(\"l3 after modification in l4: \",l3)\n",
        "\n",
        "print(\"** Original list l1 changed. **\")\n"
      ],
      "metadata": {
        "colab": {
          "base_uri": "https://localhost:8080/"
        },
        "id": "d-ymjZBUhKet",
        "outputId": "8fdfdb98-967f-4146-e557-bd96c3c65af7"
      },
      "execution_count": 116,
      "outputs": [
        {
          "output_type": "stream",
          "name": "stdout",
          "text": [
            "l4 after modification -----:  [1, 2, ['a', 4], 5]\n",
            "l3 after modification in l4:  [1, 2, ['a', 4], 5]\n",
            "** Original list l1 changed. **\n"
          ]
        }
      ]
    },
    {
      "cell_type": "code",
      "source": [
        ""
      ],
      "metadata": {
        "id": "XpifvSNppTEw"
      },
      "execution_count": null,
      "outputs": []
    }
  ]
}