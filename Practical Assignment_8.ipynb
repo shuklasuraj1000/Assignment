{
  "nbformat": 4,
  "nbformat_minor": 0,
  "metadata": {
    "colab": {
      "name": "Untitled27.ipynb",
      "provenance": [],
      "collapsed_sections": []
    },
    "kernelspec": {
      "name": "python3",
      "display_name": "Python 3"
    },
    "language_info": {
      "name": "python"
    }
  },
  "cells": [
    {
      "cell_type": "code",
      "execution_count": 4,
      "metadata": {
        "id": "C3pfJE_dgmpq"
      },
      "outputs": [],
      "source": [
        "# CREATING FUNCTION TO GENERATE ARRAY WITH RANDOM NUMBERS FOR FUTURE USES.\n",
        "import random\n",
        "def gen_arr(n):\n",
        "  l=[]\n",
        "  for j in range(0,n):\n",
        "    i=random.randint(0,100)\n",
        "    l.append(i)\n",
        "  return l\n"
      ]
    },
    {
      "cell_type": "code",
      "source": [
        "# GENERATION MATRIX OF CHOICE WITH RANDOM NUMBERS: \n",
        "h=int(input(\"Enter number of matrix required: \"))\n",
        "k=int(input(\"Enter number of rows in matrix : \"))\n",
        "n=int(input(\"Enter number of columns in matrix : \"))\n",
        "\n",
        "# Matrics generation:\n",
        "for m in range(h):\n",
        "  L=[]\n",
        "  for j in range(k):\n",
        "    gen_arr(n)\n",
        "    a=gen_arr(n)\n",
        "    L.append(a)\n",
        "  print(L)\n"
      ],
      "metadata": {
        "colab": {
          "base_uri": "https://localhost:8080/"
        },
        "id": "e8ZJ7xDriJqs",
        "outputId": "cf82230c-0afc-4370-a7c5-61adfdc7513d"
      },
      "execution_count": 35,
      "outputs": [
        {
          "output_type": "stream",
          "name": "stdout",
          "text": [
            "Enter number of matrix required: 3\n",
            "Enter number of rows in matrix : 3\n",
            "Enter number of columns in matrix : 3\n",
            "[[60, 56, 99], [14, 45, 79], [74, 73, 44]]\n",
            "[[92, 3, 9], [70, 82, 5], [3, 27, 36]]\n",
            "[[54, 92, 59], [20, 97, 24], [98, 95, 53]]\n"
          ]
        }
      ]
    },
    {
      "cell_type": "code",
      "source": [
        "#ASSIGNMENT >>>>>>>>>>>>>>>>>>>>>>>>>>>>>>>>>>>>>>>>\n",
        "\n",
        "#Quest-1: Write a Python Program to Add Two Matrices?\n",
        "#Answer:\n",
        "#Copy paste auto genrated matix from above tool\n",
        "\n",
        "#INPUT DATA:\n",
        "M1=[[92, 3, 9], [70, 82, 5], [3, 27, 36]]\n",
        "M2=[[54, 92, 59], [20, 97, 24], [98, 95, 53]]\n",
        "\n",
        "# Adding both matrix using nested list comprehension\n",
        "Resultant_Matrix = [[M1[i][j] + M2[i][j]  for j in range(len(M1[0]))] for i in range(len(M1))]\n",
        "\n",
        "for r in Resultant_Matrix:\n",
        "  print(r)"
      ],
      "metadata": {
        "colab": {
          "base_uri": "https://localhost:8080/"
        },
        "id": "tLbibsL4vBL9",
        "outputId": "79f3dd4a-c289-4df2-f1d4-6b9fbad35d0e"
      },
      "execution_count": 39,
      "outputs": [
        {
          "output_type": "stream",
          "name": "stdout",
          "text": [
            "[146, 95, 68]\n",
            "[90, 179, 29]\n",
            "[101, 122, 89]\n"
          ]
        }
      ]
    },
    {
      "cell_type": "code",
      "source": [
        "# Quest-2: Write a Python Program to Multiply Two Matrices?\n",
        "#Answer:\n",
        "#Copy paste auto genrated matics from above program\n",
        "\n",
        "#INPUT DATA:\n",
        "M1=[[92, 3, 9], [70, 82, 5], [3, 27, 36]]\n",
        "M2=[[54, 92, 59], [20, 97, 24], [98, 95, 53]]\n",
        "\n",
        "# Multiplying both matrics using nested list comprehension\n",
        "Resultant_Matrix = [[M1[i][j] * M2[i][j]  for j in range(len(M1[0]))] for i in range(len(M1))]\n",
        "\n",
        "for r in Resultant_Matrix:\n",
        "   print(r)"
      ],
      "metadata": {
        "colab": {
          "base_uri": "https://localhost:8080/"
        },
        "id": "mvnmGfcav4sn",
        "outputId": "934083d0-32ed-44f5-94f7-23d31e393ab1"
      },
      "execution_count": 38,
      "outputs": [
        {
          "output_type": "stream",
          "name": "stdout",
          "text": [
            "[4968, 276, 531]\n",
            "[1400, 7954, 120]\n",
            "[294, 2565, 1908]\n"
          ]
        }
      ]
    },
    {
      "cell_type": "code",
      "source": [
        "#Quest-3:Write a Python Program to Transpose a Matrix?\n",
        "#Answer:\n",
        "#Copy paste auto genrated matics from above program\n",
        "#INPUT DATA:\n",
        "M=[[92, 3, 9], [70, 82, 5], [3, 27, 36]]\n",
        "\n",
        "#Trnasposing matrics:\n",
        "for i in range(len(M)):\n",
        "  for j in range(len(M[i])):\n",
        "    M[i][j]=M[j][i]\n",
        "\n",
        "print(M)\n"
      ],
      "metadata": {
        "colab": {
          "base_uri": "https://localhost:8080/"
        },
        "id": "L_tZDs3ozIJK",
        "outputId": "2e7d4031-bbd3-4ddf-b2af-2e1633f88cf2"
      },
      "execution_count": 44,
      "outputs": [
        {
          "output_type": "stream",
          "name": "stdout",
          "text": [
            "[[92, 70, 3], [70, 82, 27], [3, 27, 36]]\n"
          ]
        }
      ]
    },
    {
      "cell_type": "code",
      "source": [
        "#Quest-4: Write a Python Program to Sort Words in Alphabetic Order?\n",
        "#Answer:\n",
        "a=input(\"Enter input as string : \")                     # Take input form user\n",
        "aa=a.lower()                                            # Convert all words to lower case\n",
        "b=aa.split()                                            # Split sentence into list of words\n",
        "b.sort()                                                # sorting words as per ASII value\n",
        "for i in b:                                             # Print sorted words \n",
        " print(i,end=\" \")\n"
      ],
      "metadata": {
        "colab": {
          "base_uri": "https://localhost:8080/"
        },
        "id": "Qjlmtvp022N4",
        "outputId": "0b7baef2-6640-4439-d7f1-d577d707802b"
      },
      "execution_count": 56,
      "outputs": [
        {
          "output_type": "stream",
          "name": "stdout",
          "text": [
            "Enter input as string : My name is Suraj Shukla\n",
            "is my name shukla suraj "
          ]
        }
      ]
    },
    {
      "cell_type": "code",
      "source": [
        "#Quest-5: Write a Python Program to Remove Punctuation From a String?\n",
        "#Answer:\n",
        "b=input(\"Enter input as string : \")                     # Take input form user\n",
        "Punctuation=\"\"\" !()[]{}:;\\ \"\"\"                          # Define Punctuations                                           \n",
        "for i in Punctuation:\n",
        "  b=b.replace(i,\" \")\n",
        "print(b)\n"
      ],
      "metadata": {
        "colab": {
          "base_uri": "https://localhost:8080/"
        },
        "id": "KpFvhQ157xFL",
        "outputId": "26116761-3fbf-478c-89e4-39aa04846402"
      },
      "execution_count": 66,
      "outputs": [
        {
          "output_type": "stream",
          "name": "stdout",
          "text": [
            "Enter input as string : My() name \\ is: Suraj\n",
            "My   name   is  Suraj\n"
          ]
        }
      ]
    },
    {
      "cell_type": "code",
      "source": [
        ""
      ],
      "metadata": {
        "id": "m1iprrp3MRhG"
      },
      "execution_count": null,
      "outputs": []
    }
  ]
}