{
  "nbformat": 4,
  "nbformat_minor": 0,
  "metadata": {
    "colab": {
      "name": "Untitled18.ipynb",
      "provenance": [],
      "collapsed_sections": []
    },
    "kernelspec": {
      "name": "python3",
      "display_name": "Python 3"
    },
    "language_info": {
      "name": "python"
    }
  },
  "cells": [
    {
      "cell_type": "code",
      "source": [
        "#Quest-1: Write a Python program to print &quot;Hello Python&quot;?\n",
        "#Answer:\n",
        "print(\"Hello Python\")"
      ],
      "metadata": {
        "colab": {
          "base_uri": "https://localhost:8080/"
        },
        "id": "bP7-19DzcEzK",
        "outputId": "40e49bf1-9dc6-46a8-86fa-fe04770742bd"
      },
      "execution_count": 26,
      "outputs": [
        {
          "output_type": "stream",
          "name": "stdout",
          "text": [
            "Hello Python\n"
          ]
        }
      ]
    },
    {
      "cell_type": "code",
      "source": [
        "#Quest-2: Write a Python program to do arithmetical operations addition and division.?\n",
        "#Answer: \n",
        "a=int(input(\"enter a: \"))\n",
        "b=int(input(\"enter b: \"))\n",
        "print(\"Addition value: \",a+b)\n",
        "print(\"Division value:\", a/b)"
      ],
      "metadata": {
        "colab": {
          "base_uri": "https://localhost:8080/"
        },
        "id": "IIL1FQHZcOhU",
        "outputId": "d9b01be7-f14e-4e8c-c01b-0f287df18b48"
      },
      "execution_count": 28,
      "outputs": [
        {
          "output_type": "stream",
          "name": "stdout",
          "text": [
            "enter a: 20\n",
            "enter b: 7\n",
            "Addition value:  27\n",
            "Division value: 2.857142857142857\n"
          ]
        }
      ]
    },
    {
      "cell_type": "code",
      "source": [
        "1"
      ],
      "metadata": {
        "colab": {
          "base_uri": "https://localhost:8080/"
        },
        "id": "tRF3btpjcxGK",
        "outputId": "9be28f37-f5b9-4c21-b981-c8220dae985f"
      },
      "execution_count": 29,
      "outputs": [
        {
          "output_type": "execute_result",
          "data": {
            "text/plain": [
              "1"
            ]
          },
          "metadata": {},
          "execution_count": 29
        }
      ]
    },
    {
      "cell_type": "code",
      "source": [
        "#Quest-3: Write a Python program to find the area of a triangle?\n",
        "#Answer:Area of a triangle (Heron's formula) \n",
        "import math\n",
        "a=int(input(\"Enter 1st arm length (in mm): \"))\n",
        "b=int(input(\"Enter 2nd arm length (in mm): \"))\n",
        "c=int(input(\"Enter 3rd arm length (in mm): \"))\n",
        "s=(a+b+c)/2\n",
        "A=math.sqrt((s*(s-a)*(s-b)*(s-c)))\n",
        "print(\"Area of triange:\", A,\"cubic mm\")"
      ],
      "metadata": {
        "colab": {
          "base_uri": "https://localhost:8080/"
        },
        "id": "FHyQHVGHdE77",
        "outputId": "032594ab-a6ca-4b50-808f-09f6ebed390a"
      },
      "execution_count": 45,
      "outputs": [
        {
          "output_type": "stream",
          "name": "stdout",
          "text": [
            "Enter 1st arm length (in mm): 10\n",
            "Enter 2nd arm length (in mm): 10\n",
            "Enter 3rd arm length (in mm): 10\n",
            "Area of triange: 43.30127018922193 cubic mm\n"
          ]
        }
      ]
    },
    {
      "cell_type": "code",
      "source": [
        "from typing import Container\n",
        "# Quest-4: Write a Python program to swap two variables?\n",
        "#Answer:\n",
        "a=input(\"Enter value for varriable a: \")\n",
        "b=input(\"Enter value for varriable b: \")\n",
        "a,b=b,a\n",
        "print(\"Swapped value of a : {}\".format(a)) \n",
        "print(\"Swapped value of b : {}\".format(b))\n"
      ],
      "metadata": {
        "colab": {
          "base_uri": "https://localhost:8080/"
        },
        "id": "5uwEoToseJrK",
        "outputId": "521eae07-dde4-4975-c70d-14b955f461ce"
      },
      "execution_count": 50,
      "outputs": [
        {
          "output_type": "stream",
          "name": "stdout",
          "text": [
            "Enter value for varriable a: 10\n",
            "Enter value for varriable b: 20\n",
            "Swapped value of a : 20\n",
            "Swapped value of b : 10\n"
          ]
        }
      ]
    },
    {
      "cell_type": "code",
      "source": [
        "#Quest-5: Write a Python program to generate a random number?\n",
        "#Answer:\n",
        "def test(*args):\n",
        "  import random\n",
        "  return print(random.randint(10,20))\n"
      ],
      "metadata": {
        "id": "PN51C9Xzh6wf"
      },
      "execution_count": 55,
      "outputs": []
    },
    {
      "cell_type": "code",
      "source": [
        "test(\"First attempt\")"
      ],
      "metadata": {
        "colab": {
          "base_uri": "https://localhost:8080/"
        },
        "id": "EHDJhhIHjaGH",
        "outputId": "d1ed3507-77ca-4a47-cbe6-d0d088f14c55"
      },
      "execution_count": 56,
      "outputs": [
        {
          "output_type": "stream",
          "name": "stdout",
          "text": [
            "17\n"
          ]
        }
      ]
    },
    {
      "cell_type": "code",
      "source": [
        "test(\"Second attempt\")"
      ],
      "metadata": {
        "colab": {
          "base_uri": "https://localhost:8080/"
        },
        "id": "zSmbxAUJj3pS",
        "outputId": "276053bc-c2c5-4928-e831-cefa29ffd070"
      },
      "execution_count": 57,
      "outputs": [
        {
          "output_type": "stream",
          "name": "stdout",
          "text": [
            "19\n"
          ]
        }
      ]
    },
    {
      "cell_type": "code",
      "source": [
        "test(\"Third attempt\")"
      ],
      "metadata": {
        "colab": {
          "base_uri": "https://localhost:8080/"
        },
        "id": "oTTycXIDj7x0",
        "outputId": "76165c6f-4807-4a77-88dd-f7fc1629598c"
      },
      "execution_count": 58,
      "outputs": [
        {
          "output_type": "stream",
          "name": "stdout",
          "text": [
            "15\n"
          ]
        }
      ]
    },
    {
      "cell_type": "code",
      "source": [
        "# Here while calling function test multiple times, we are getting random number in range of 10 to 20."
      ],
      "metadata": {
        "id": "A-n5zyaqkAyM"
      },
      "execution_count": null,
      "outputs": []
    }
  ]
}