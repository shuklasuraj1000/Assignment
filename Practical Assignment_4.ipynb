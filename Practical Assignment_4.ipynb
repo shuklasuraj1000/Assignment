{
  "nbformat": 4,
  "nbformat_minor": 0,
  "metadata": {
    "colab": {
      "name": "Untitled21.ipynb",
      "provenance": [],
      "collapsed_sections": []
    },
    "kernelspec": {
      "name": "python3",
      "display_name": "Python 3"
    },
    "language_info": {
      "name": "python"
    }
  },
  "cells": [
    {
      "cell_type": "code",
      "execution_count": null,
      "metadata": {
        "colab": {
          "base_uri": "https://localhost:8080/"
        },
        "id": "PQvj4u9fYRA4",
        "outputId": "80e6653c-7df2-4d55-a6c8-3faca967c79e"
      },
      "outputs": [
        {
          "output_type": "stream",
          "name": "stdout",
          "text": [
            "Enter number : 0\n",
            "Factorial 0 value is 1\n"
          ]
        }
      ],
      "source": [
        "#Quest-1:Write a Python Program to Find the Factorial of a Number?\n",
        "#Answer:\n",
        "import math\n",
        "n=int(input(\"Enter number : \"))\n",
        "if n>=0:\n",
        "  print(\"Factorial {} value is\".format(n), math.factorial(n))\n",
        "else:\n",
        "  print(\"Please enter positive integer only\")"
      ]
    },
    {
      "cell_type": "code",
      "source": [
        "#Quest-2: Write a Python Program to Display the multiplication Table?\n",
        "#Answer:\n",
        "n=int(input(\"Enter number : \"))\n",
        "if n>0:\n",
        "  for i in range(1,11):\n",
        "    print(n ,'X', i, '=', (n*i))\n",
        "else:\n",
        "  print(\"Please enter positive integer number\")"
      ],
      "metadata": {
        "colab": {
          "base_uri": "https://localhost:8080/"
        },
        "id": "hb5QHgbRfAZA",
        "outputId": "78ec2708-6ccc-489c-88e5-db2ad900f800"
      },
      "execution_count": null,
      "outputs": [
        {
          "output_type": "stream",
          "name": "stdout",
          "text": [
            "Enter number : 39\n",
            "39 X 1 = 39\n",
            "39 X 2 = 78\n",
            "39 X 3 = 117\n",
            "39 X 4 = 156\n",
            "39 X 5 = 195\n",
            "39 X 6 = 234\n",
            "39 X 7 = 273\n",
            "39 X 8 = 312\n",
            "39 X 9 = 351\n",
            "39 X 10 = 390\n"
          ]
        }
      ]
    },
    {
      "cell_type": "code",
      "source": [
        "#Quest-3: Write a Python Program to Print the Fibonacci sequence?\n",
        "#Answer:\n",
        "n=int(input(\"Enter number of terms : \"))\n",
        "N0=0    # First term value 0\n",
        "N1=1    # Second term value 1\n",
        "l=[N0,N1]\n",
        "if n>1:\n",
        "  for i in range(1,n):\n",
        "    fib=l[-1]+l[-2]\n",
        "    l.append(fib)\n",
        "  print(\"Fibonacci sequence >>> \",l)\n",
        "else:\n",
        "  print(\"Enter number of term at least more than 2, N0=0, N1=1 already given\")"
      ],
      "metadata": {
        "colab": {
          "base_uri": "https://localhost:8080/"
        },
        "id": "PmBFAjr3lA_c",
        "outputId": "05eb9efb-a850-4899-8761-274e865246b9"
      },
      "execution_count": null,
      "outputs": [
        {
          "output_type": "stream",
          "name": "stdout",
          "text": [
            "Enter number of terms : 10\n",
            "Fibonacci sequence >>>  [0, 1, 1, 2, 3, 5, 8, 13, 21, 34, 55]\n"
          ]
        }
      ]
    },
    {
      "cell_type": "code",
      "source": [
        "#Quest-4: Write a Python Program to Check Armstrong Number?\n",
        "#Answer:\n",
        "n=str(input(\"Enter number : \"))\n",
        "if int(n)>=0:                                        # Validation gate >> Only (+)ve integer entry\n",
        " l=[int(i) for i in n]                               # Transforming digit into list\n",
        " a=len(l)                                            # Number of digits in number\n",
        " b=0\n",
        " for j in l:\n",
        "   b=(j**a) + b                                      # A positive integer is called an Armstrong number (of order n) if >>>   abcd... = an + bn + cn + dn +\n",
        "\n",
        " if b==int(n):\n",
        "   print(\"{} is a Armstrong number\".format(n))\n",
        " else:\n",
        "   print(\"{} is not Armstrong number\".format(n))\n",
        "\n",
        "else:\n",
        "  print(\"Enter only positive interger\")"
      ],
      "metadata": {
        "id": "-ARg9h5_qQaX",
        "colab": {
          "base_uri": "https://localhost:8080/"
        },
        "outputId": "14e53f58-0e1a-43bc-a2b6-7f804b833e19"
      },
      "execution_count": 23,
      "outputs": [
        {
          "output_type": "stream",
          "name": "stdout",
          "text": [
            "Enter number : 153\n",
            "153 is a Armstrong number\n"
          ]
        }
      ]
    },
    {
      "cell_type": "code",
      "source": [
        "#Quest-5: Write a Python Program to Find Armstrong Number in an Interval?\n",
        "#Answer:\n",
        "print(\"NOTE: Enter only positive integer range, Ex. 0 to n (positive integer).\")\n",
        "LWR=int(input(\"Enter lower limit : \"))\n",
        "UPR=int(input(\"Enter upper limit : \"))\n",
        "for n in range(LWR,UPR+1):\n",
        "  l=[int(i) for i in str(n)]                          # Transforming digit into list\n",
        "  a=len(l)                                            # Number of digits in number\n",
        "  b=0\n",
        "  for j in l:\n",
        "    b=(j**a) + b                                      # A positive integer is called an Armstrong number (of order n) if >>>   abcd... = an + bn + cn + dn +\n",
        "  \n",
        "  if b==int(n):                                       # Validation and printing Armstrong number\n",
        "    print(b,end=(\" \"))"
      ],
      "metadata": {
        "colab": {
          "base_uri": "https://localhost:8080/"
        },
        "id": "SbwfSxI7gU-q",
        "outputId": "c7eebf94-819d-4c5c-c01b-7393ff19a434"
      },
      "execution_count": 66,
      "outputs": [
        {
          "output_type": "stream",
          "name": "stdout",
          "text": [
            "NOTE: Enter only positive integer range, Ex. 0 to n (positive integer).\n",
            "Enter lower limit : 0\n",
            "Enter upper limit : 100000\n",
            "0 1 2 3 4 5 6 7 8 9 153 370 371 407 1634 8208 9474 54748 92727 93084 "
          ]
        }
      ]
    },
    {
      "cell_type": "code",
      "source": [
        "#Quest-6: Write a Python Program to Find the Sum of Natural Numbers?\n",
        "#Answer: Natural No={1,2,3,4,5,6,7........................}\n",
        "print(\"NOTE: Enter only natural number from 1 to infinity\")\n",
        "LWR=int(input(\"Enter lower limit : \"))\n",
        "UPR=int(input(\"Enter upper limit : \"))\n",
        "if LWR>0 and UPR>0:                                               # Ensuring LWR and UPR are more than 0.\n",
        "  if UPR>=LWR:                                                    # Ensuring UPR >= LWR\n",
        "   a=0\n",
        "   for i in range(LWR,UPR+1):                                     # After validation entering in loop perform addtion of natural numbers.\n",
        "     a=i+a\n",
        "   print(\"Sum of natural number in the given range : \",a)\n",
        "  else:\n",
        "   print(\"Upper limit shoild be greater or equal to lower limit\")\n",
        "else:\n",
        "  print(\"WARNING: Enter rigth natural number in the range\")\n",
        "\n",
        "\n",
        "\n"
      ],
      "metadata": {
        "colab": {
          "base_uri": "https://localhost:8080/"
        },
        "id": "mAxBG-la1uJB",
        "outputId": "d10cc60c-dcaf-4d95-fdb7-b399dc24e21f"
      },
      "execution_count": 79,
      "outputs": [
        {
          "output_type": "stream",
          "name": "stdout",
          "text": [
            "NOTE: Enter only natural number from 1 to infinity\n",
            "Enter lower limit : 5\n",
            "Enter upper limit : 20\n",
            "Sum of natural number in given range :  200\n"
          ]
        }
      ]
    },
    {
      "cell_type": "code",
      "source": [
        ""
      ],
      "metadata": {
        "id": "ORk-2CqK532W"
      },
      "execution_count": null,
      "outputs": []
    }
  ]
}