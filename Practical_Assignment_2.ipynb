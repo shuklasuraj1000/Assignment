{
  "nbformat": 4,
  "nbformat_minor": 0,
  "metadata": {
    "colab": {
      "name": "Untitled19.ipynb",
      "provenance": [],
      "collapsed_sections": []
    },
    "kernelspec": {
      "name": "python3",
      "display_name": "Python 3"
    },
    "language_info": {
      "name": "python"
    }
  },
  "cells": [
    {
      "cell_type": "code",
      "execution_count": 6,
      "metadata": {
        "colab": {
          "base_uri": "https://localhost:8080/"
        },
        "id": "vKO0Iep5l2_g",
        "outputId": "1e09342c-5b95-447d-a02c-ee474c143e54"
      },
      "outputs": [
        {
          "output_type": "stream",
          "name": "stdout",
          "text": [
            "Enter value in (Kms) : 10\n",
            "Value in (Miles) : 6.25\n"
          ]
        }
      ],
      "source": [
        "#Question-1: Write a Python program to convert kilometers to miles?\n",
        "#Answer:\n",
        "import math\n",
        "a=int(input(\"Enter value in (Kms) : \"))\n",
        "print(\"Value in (Miles) :\", a/1.6)"
      ]
    },
    {
      "cell_type": "code",
      "source": [
        "#Quest-2: Write a Python program to convert Celsius to Fahrenheit?\n",
        "#Answer: Formula>>  °F = °C × (9/5) + 32\n",
        "import math\n",
        "a=int(input(\"Enter tempreture value in °C : \"))\n",
        "print(\"Converted value in °F: \",((a*(9/5))+32))"
      ],
      "metadata": {
        "colab": {
          "base_uri": "https://localhost:8080/"
        },
        "id": "5L8S3vhzmdO5",
        "outputId": "2639fdb0-221b-4b74-bbae-ff0e13f1c557"
      },
      "execution_count": 12,
      "outputs": [
        {
          "output_type": "stream",
          "name": "stdout",
          "text": [
            "Enter tempreture value in °C : 100\n",
            "Converted value in °F:  212.0\n"
          ]
        }
      ]
    },
    {
      "cell_type": "code",
      "source": [
        "#Quest-3: Write a Python program to display calendar?\n",
        "#Answer:\n",
        "import calendar\n",
        "year = int(input(\"Enter year : \"))\n",
        "month = int(input(\"Enter month : \"))\n",
        "#day = int(input(\"Enter day : \"))\n",
        "# Calendar display\n",
        "print(calendar.month(year, month))\n"
      ],
      "metadata": {
        "colab": {
          "base_uri": "https://localhost:8080/"
        },
        "id": "i5G1p4KToFO9",
        "outputId": "5365857b-f1eb-475f-b215-24057a7e4e63"
      },
      "execution_count": 17,
      "outputs": [
        {
          "output_type": "stream",
          "name": "stdout",
          "text": [
            "Enter year : 1945\n",
            "Enter month : 04\n",
            "     April 1945\n",
            "Mo Tu We Th Fr Sa Su\n",
            "                   1\n",
            " 2  3  4  5  6  7  8\n",
            " 9 10 11 12 13 14 15\n",
            "16 17 18 19 20 21 22\n",
            "23 24 25 26 27 28 29\n",
            "30\n",
            "\n"
          ]
        }
      ]
    },
    {
      "cell_type": "code",
      "source": [
        "# Question-4: Write a Python program to solve quadratic equation?\n",
        "#Answer: Equation >>  y=ax2 + bx + c\n",
        "def quad1(x):\n",
        "  import math\n",
        "  a=2\n",
        "  b=3\n",
        "  c=1\n",
        "  y=(a*x**2) + (b*x) + c\n",
        "  return y\n",
        "\n",
        "\n"
      ],
      "metadata": {
        "id": "bpEo_WObqNcM"
      },
      "execution_count": 30,
      "outputs": []
    },
    {
      "cell_type": "code",
      "source": [
        "quad1(2)"
      ],
      "metadata": {
        "colab": {
          "base_uri": "https://localhost:8080/"
        },
        "id": "ST0yc7Hsw9lK",
        "outputId": "9ef1868a-0284-4297-bcff-3d3380862762"
      },
      "execution_count": 31,
      "outputs": [
        {
          "output_type": "execute_result",
          "data": {
            "text/plain": [
              "15"
            ]
          },
          "metadata": {},
          "execution_count": 31
        }
      ]
    },
    {
      "cell_type": "code",
      "source": [
        "#Quest-5: Write a Python program to swap two variables without temp variable?\n",
        "#Answer:\n",
        "a=input(\"Enter value for a : \")\n",
        "b=input(\"Enter value for b : \")\n",
        "a,b=b,a\n",
        "print(\"Swapped value of a: {}\".format(a))\n",
        "print(\"Swapped value of b: {}\".format(b))"
      ],
      "metadata": {
        "colab": {
          "base_uri": "https://localhost:8080/"
        },
        "id": "MfoBls9nxXUJ",
        "outputId": "300b5fe3-3d34-4b44-dc85-86a75df8e1b6"
      },
      "execution_count": 34,
      "outputs": [
        {
          "output_type": "stream",
          "name": "stdout",
          "text": [
            "Enter value for a : 10\n",
            "Enter value for b : 20\n",
            "Swapped value of a: 20\n",
            "Swapped value of b: 10\n"
          ]
        }
      ]
    },
    {
      "cell_type": "code",
      "source": [
        "\n"
      ],
      "metadata": {
        "id": "7icJBvVWzqUb"
      },
      "execution_count": null,
      "outputs": []
    }
  ]
}