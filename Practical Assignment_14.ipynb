{
  "nbformat": 4,
  "nbformat_minor": 0,
  "metadata": {
    "colab": {
      "name": "Untitled39.ipynb",
      "provenance": [],
      "collapsed_sections": []
    },
    "kernelspec": {
      "name": "python3",
      "display_name": "Python 3"
    },
    "language_info": {
      "name": "python"
    }
  },
  "cells": [
    {
      "cell_type": "code",
      "execution_count": 10,
      "metadata": {
        "id": "hiv6Gv4erSEn"
      },
      "outputs": [],
      "source": [
        "#Quest-1: Define a class with a generator which can iterate the numbers, which are divisible by 7, between a given range 0 and n.\n",
        "#Answer:\n",
        "class iterator():\n",
        "\tdef __init__(self, n):\n",
        "\t\tself.n = n\n",
        "\t\t\n",
        "\tdef divCheck(self):\n",
        "\t\tfor i in range(1, self.n):\n",
        "\t\t\tif i % 7 == 0:\n",
        "\t\t\t\tyield i"
      ]
    },
    {
      "cell_type": "code",
      "source": [
        "for num in iterator(100).divCheck():\n",
        "  print (num,end=\" \")"
      ],
      "metadata": {
        "id": "d9myxsOnrMCr",
        "colab": {
          "base_uri": "https://localhost:8080/"
        },
        "outputId": "2e0ec8ed-6467-4f03-bc6d-d56080bef8b6"
      },
      "execution_count": 13,
      "outputs": [
        {
          "output_type": "stream",
          "name": "stdout",
          "text": [
            "7 14 21 28 35 42 49 56 63 70 77 84 91 98 "
          ]
        }
      ]
    },
    {
      "cell_type": "code",
      "source": [
        "# Quest-2:\n",
        "\"\"\"\n",
        "Write a program to compute the frequency of the words from the input. The output\n",
        "should output after sorting the key alphanumerically.\n",
        "Suppose the following input is supplied to the program:\n",
        "New to Python or choosing between Python 2 and Python 3? Read Python 2 or\n",
        "Python 3.\n",
        "Then, the output should be:\n",
        "2:2\n",
        "3.:1\n",
        "3?:1\n",
        "New:1\n",
        "Python:5\n",
        "Read:1\n",
        "and:1\n",
        "between:1\n",
        "choosing:1\n",
        "or:2\n",
        "to:1\n",
        "\n",
        "\"\"\"\n",
        "#Answer:\n",
        "s=str(input(\"Enter string : \")).split(\" \")\n",
        "l=list(set(s))\n",
        "l.sort()\n",
        "for j in l:\n",
        "  a=s.count(j)\n",
        "  print(j,\":\",a)"
      ],
      "metadata": {
        "colab": {
          "base_uri": "https://localhost:8080/"
        },
        "id": "6a-5BEMzul2I",
        "outputId": "60625aca-63f6-4af6-a513-9c1fc3406e65"
      },
      "execution_count": null,
      "outputs": [
        {
          "output_type": "stream",
          "name": "stdout",
          "text": [
            "Enter string : New to Python or choosing between Python 2 and Python 3? Read Python 2 or Python 3.\n",
            "2 : 2\n",
            "3. : 1\n",
            "3? : 1\n",
            "New : 1\n",
            "Python : 5\n",
            "Read : 1\n",
            "and : 1\n",
            "between : 1\n",
            "choosing : 1\n",
            "or : 2\n",
            "to : 1\n"
          ]
        }
      ]
    },
    {
      "cell_type": "code",
      "source": [
        "# Quest-3: \n",
        "\"\"\"\n",
        "Define a class Person and its two child classes: Male and Female. All classes have a\n",
        "method \"getGender\" which can print \"Male\" for Male class and \"Female\" for Female class.\n",
        "\n",
        "\"\"\"\n",
        "#Answer:\n"
      ],
      "metadata": {
        "id": "kBtJVqpz1ZrU"
      },
      "execution_count": null,
      "outputs": []
    },
    {
      "cell_type": "code",
      "source": [
        "class person(object):\n",
        "  def gender(self):\n",
        "    return \"Unlnown\"\n",
        "        \n",
        "class Male(person):\n",
        "    def gender(self):\n",
        "      return \"Male\"\n",
        "\n",
        "class Female(person):\n",
        "    def gender(self):\n",
        "      return \"Female\"\n",
        "      \n"
      ],
      "metadata": {
        "id": "nOVtR_uo5iKg"
      },
      "execution_count": 69,
      "outputs": []
    },
    {
      "cell_type": "code",
      "source": [
        "Sam = Male()  \n",
        "Joya= Female()  \n",
        "print(Sam.gender())\n",
        "print(Joya.gender())"
      ],
      "metadata": {
        "id": "608QkitXGMkr",
        "colab": {
          "base_uri": "https://localhost:8080/"
        },
        "outputId": "80377761-d260-485e-8d81-f095f1c57daa"
      },
      "execution_count": 73,
      "outputs": [
        {
          "output_type": "stream",
          "name": "stdout",
          "text": [
            "Male\n",
            "Female\n"
          ]
        }
      ]
    },
    {
      "cell_type": "code",
      "source": [
        "# Quest-4: Please write a program to generate all sentences where subject is in [\"I\",'You] and verb is in [\"Play\",\"Love\"] and the object is in [\"Hockey\",\"Football\"].\n",
        "# Answer:\n",
        "import itertools\n",
        "l1=[\"I\",\"You\"]\n",
        "l2=[\"play\",\"love\"]\n",
        "l3=[\"football\",\"hockey\"]\n",
        "L=[l1,l2,l3]\n",
        "a=list(itertools.product(*L))\n",
        "for i in a:\n",
        "  print(\" \".join(i))"
      ],
      "metadata": {
        "colab": {
          "base_uri": "https://localhost:8080/"
        },
        "id": "qIMjYzmkFR7l",
        "outputId": "54a99c80-62d2-4e0f-a3ff-a00194f00303"
      },
      "execution_count": 80,
      "outputs": [
        {
          "output_type": "stream",
          "name": "stdout",
          "text": [
            "I play football\n",
            "I play hockey\n",
            "I love football\n",
            "I love hockey\n",
            "You play football\n",
            "You play hockey\n",
            "You love football\n",
            "You love hockey\n"
          ]
        }
      ]
    },
    {
      "cell_type": "code",
      "source": [
        "#Quest-5: Please write a program to compress and decompress the string \"hello world!hello world!hello world!hello world!.\n",
        "#Answer:\n",
        "import zlib\n",
        "s='hello world!hello world!hello  world!hello  world!'\n",
        "b=bytes(s,'utf-8')\n",
        "print(b)\n",
        "print(type(b))\n",
        "a=zlib.compress(b)\n",
        "print(a)\n",
        "print(zlib.decompress(a))\n"
      ],
      "metadata": {
        "colab": {
          "base_uri": "https://localhost:8080/"
        },
        "id": "Ut0L5UAPxh4e",
        "outputId": "72916747-2c96-41ad-af44-b54904d09a8d"
      },
      "execution_count": 100,
      "outputs": [
        {
          "output_type": "stream",
          "name": "stdout",
          "text": [
            "b'hello world!hello world!hello  world!hello  world!'\n",
            "<class 'bytes'>\n",
            "b'x\\x9c\\xcbH\\xcd\\xc9\\xc9W(\\xcf/\\xcaIQ\\xcc\\xc0`c\\xe3\\x00\\x00\\xdb\\x96\\x125'\n",
            "b'hello world!hello world!hello  world!hello  world!'\n"
          ]
        }
      ]
    },
    {
      "cell_type": "code",
      "source": [
        "#Quest-6: Please write a binary search function which searches an item in a sorted list. The function should return the index of element to be searched in the list.\n",
        "#Answer: \n",
        "def binary_search(list, item):\n",
        "    a= 0\n",
        "    b= len(list)\n",
        "    \n",
        "    while a < b:\n",
        "        avg = round((a + b) / 2)\n",
        "        \n",
        "        if list[avg] == item:\n",
        "            return avg\n",
        "        elif list[avg] > item:\n",
        "            b = avg - 1\n",
        "        else:\n",
        "            a = avg + 1\n",
        "    return None\n",
        "    "
      ],
      "metadata": {
        "id": "EohAFTW0yFEV"
      },
      "execution_count": 118,
      "outputs": []
    },
    {
      "cell_type": "code",
      "source": [
        "lst = [1,3,5,7,9,11,12,14,15]\n",
        "print(binary_search(lst, 15))"
      ],
      "metadata": {
        "colab": {
          "base_uri": "https://localhost:8080/"
        },
        "id": "kR_p4pJB3Afq",
        "outputId": "e0b26833-cd04-4264-a76a-b81e7a9100c8"
      },
      "execution_count": 119,
      "outputs": [
        {
          "output_type": "stream",
          "name": "stdout",
          "text": [
            "8\n"
          ]
        }
      ]
    },
    {
      "cell_type": "code",
      "source": [
        ""
      ],
      "metadata": {
        "id": "PFsiV-Rw3PHo"
      },
      "execution_count": null,
      "outputs": []
    }
  ]
}