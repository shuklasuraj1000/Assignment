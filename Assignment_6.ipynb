{
  "nbformat": 4,
  "nbformat_minor": 0,
  "metadata": {
    "colab": {
      "name": "Untitled65.ipynb",
      "provenance": [],
      "collapsed_sections": [],
      "authorship_tag": "ABX9TyPUR2x0gbNrgr+JghVyP0NV",
      "include_colab_link": true
    },
    "kernelspec": {
      "name": "python3",
      "display_name": "Python 3"
    },
    "language_info": {
      "name": "python"
    }
  },
  "cells": [
    {
      "cell_type": "markdown",
      "metadata": {
        "id": "view-in-github",
        "colab_type": "text"
      },
      "source": [
        "<a href=\"https://colab.research.google.com/github/shuklasuraj1000/Assignment/blob/main/Assignment_6.ipynb\" target=\"_parent\"><img src=\"https://colab.research.google.com/assets/colab-badge.svg\" alt=\"Open In Colab\"/></a>"
      ]
    },
    {
      "cell_type": "code",
      "execution_count": null,
      "metadata": {
        "id": "2ZxY6qnDsjZS"
      },
      "outputs": [],
      "source": [
        "#Question-1: What are escape characters, and how do you use them?\n",
        "#Answer:\n",
        "\"\"\"To insert characters that are illegal in a string, use an escape character.\n",
        "\n",
        "An escape character is a backslash \\ followed by the character you want to insert.\"\"\"\n",
        "\n"
      ]
    },
    {
      "cell_type": "code",
      "source": [
        "#example: An example of an illegal character is a double quote inside a string that is surrounded by double quotes.\n",
        "x=\"bsadcdacjdsjc \"kjcsd\"  ccc\"\n"
      ],
      "metadata": {
        "colab": {
          "base_uri": "https://localhost:8080/",
          "height": 131
        },
        "id": "8aSOO87utbNP",
        "outputId": "4384b9d5-3ef6-4059-909f-64615169b82d"
      },
      "execution_count": 1,
      "outputs": [
        {
          "output_type": "error",
          "ename": "SyntaxError",
          "evalue": "ignored",
          "traceback": [
            "\u001b[0;36m  File \u001b[0;32m\"<ipython-input-1-784dde2bdceb>\"\u001b[0;36m, line \u001b[0;32m2\u001b[0m\n\u001b[0;31m    x=\"bsadcdacjdsjc \"kjcsd\"  ccc\"\u001b[0m\n\u001b[0m                          ^\u001b[0m\n\u001b[0;31mSyntaxError\u001b[0m\u001b[0;31m:\u001b[0m invalid syntax\n"
          ]
        }
      ]
    },
    {
      "cell_type": "code",
      "source": [
        "# Escape charactors: \n",
        "\"\"\"  \n",
        "\\'\tSingle Quote\t\n",
        "\\\\\tBackslash\t\n",
        "\\n\tNew Line\t\n",
        "\\r\tCarriage Return\t\n",
        "\\t\tTab\t\n",
        "\\b\tBackspace\t\n",
        "\\f\tForm Feed\t\n",
        "\\ooo\tOctal value\t\n",
        "\\xhh\n",
        "\n",
        "\"\"\""
      ],
      "metadata": {
        "id": "D8Htlldnt3wq"
      },
      "execution_count": null,
      "outputs": []
    },
    {
      "cell_type": "code",
      "source": [
        "#FEW USES OF ESCAPE:\n",
        "print('John\\'s house')\n",
        "print('John\\s house')\n",
        "print('John\\t house')\n",
        "print('John\\b house')\n",
        "print('\\101\\102')\n",
        "print('\\x50\\x51')\n",
        "print(r'fj vsjvkdsvd vdsvkjsdv vjkv v \\n kbdfdslfsdfdf')\n"
      ],
      "metadata": {
        "colab": {
          "base_uri": "https://localhost:8080/"
        },
        "id": "8eCGTTG_uTz8",
        "outputId": "b1248662-4294-4359-c066-63f7818b0791"
      },
      "execution_count": 15,
      "outputs": [
        {
          "output_type": "stream",
          "name": "stdout",
          "text": [
            "John's house\n",
            "John\\s house\n",
            "John\t house\n",
            "John\b house\n",
            "AB\n",
            "PQ\n",
            "fj vsjvkdsvd vdsvkjsdv vjkv v \\n kbdfdslfsdfdf\n"
          ]
        }
      ]
    },
    {
      "cell_type": "code",
      "source": [
        "#Question-2: 2. What do the escape characters n and t stand for?\n",
        "#Answer: \\n stands for new line and \\t to create space.\n",
        "print('John\\nhouse')\n",
        "print('John\\thouse')\n"
      ],
      "metadata": {
        "colab": {
          "base_uri": "https://localhost:8080/"
        },
        "id": "PlHoxVoXwNiF",
        "outputId": "e74e1963-65a3-45b2-e1f1-eb101c241027"
      },
      "execution_count": 17,
      "outputs": [
        {
          "output_type": "stream",
          "name": "stdout",
          "text": [
            "John\n",
            "house\n",
            "John\thouse\n"
          ]
        }
      ]
    },
    {
      "cell_type": "code",
      "source": [
        "#Question-3: What is the way to include backslash characters in a string?\n",
        "#Answer:\n",
        "print('\\101\\102')\n",
        "print('\\x50\\x51')"
      ],
      "metadata": {
        "colab": {
          "base_uri": "https://localhost:8080/"
        },
        "id": "PtZFEDpf3jOS",
        "outputId": "5e379cbb-4bcf-4d6d-fe56-6e62cbd86d49"
      },
      "execution_count": 18,
      "outputs": [
        {
          "output_type": "stream",
          "name": "stdout",
          "text": [
            "AB\n",
            "PQ\n"
          ]
        }
      ]
    },
    {
      "cell_type": "code",
      "source": [
        "#Question-4: \n",
        "\"\"\"\n",
        "The string \"Howl's Moving Castle\" is a correct value. \n",
        "Why isn't the single quote character in the word Howl's not escaped a problem?\n",
        "\"\"\"\n"
      ],
      "metadata": {
        "id": "jjDF0Mk733jL"
      },
      "execution_count": null,
      "outputs": []
    },
    {
      "cell_type": "code",
      "source": [
        "#Answer: double quote marking is use at beging and end, so sing quote won't create any issue."
      ],
      "metadata": {
        "id": "KCW8SPCJ4Fza"
      },
      "execution_count": null,
      "outputs": []
    },
    {
      "cell_type": "code",
      "source": [
        "#Question-5: How do you write a string of newlines if you don't want to use the n character?\n",
        "#Answer:\n",
        "import os\n",
        "print(\"John\"+ os.linesep + \"UK\" )"
      ],
      "metadata": {
        "colab": {
          "base_uri": "https://localhost:8080/"
        },
        "id": "HUQMvI_I4RS6",
        "outputId": "209e26ac-9c2c-4588-dea2-7c6ecb9c673c"
      },
      "execution_count": 23,
      "outputs": [
        {
          "output_type": "stream",
          "name": "stdout",
          "text": [
            "John\n",
            "UK\n"
          ]
        }
      ]
    },
    {
      "cell_type": "code",
      "source": [
        "#Question-6: What are the values of the given expressions?\n",
        "\"\"\"\n",
        "'Hello, world!'[1]\n",
        "'Hello, world!'[0:5]\n",
        "'Hello, world!'[:5]\n",
        "'Hello, world!'[3:]\n",
        "\n",
        "\"\"\""
      ],
      "metadata": {
        "id": "r6PIMM4C56x_"
      },
      "execution_count": null,
      "outputs": []
    },
    {
      "cell_type": "code",
      "source": [
        "'Hello, world!'[1]"
      ],
      "metadata": {
        "colab": {
          "base_uri": "https://localhost:8080/",
          "height": 35
        },
        "id": "f3Lg5xv_6Tgm",
        "outputId": "bdb9b03c-448d-44ea-a172-1597720ff07a"
      },
      "execution_count": 25,
      "outputs": [
        {
          "output_type": "execute_result",
          "data": {
            "text/plain": [
              "'e'"
            ],
            "application/vnd.google.colaboratory.intrinsic+json": {
              "type": "string"
            }
          },
          "metadata": {},
          "execution_count": 25
        }
      ]
    },
    {
      "cell_type": "code",
      "source": [
        "'Hello, world!'[0:5]"
      ],
      "metadata": {
        "colab": {
          "base_uri": "https://localhost:8080/",
          "height": 35
        },
        "id": "BjA2jVyD6UMg",
        "outputId": "8c4be5f2-3510-43ce-f919-4d4b7a15a405"
      },
      "execution_count": 26,
      "outputs": [
        {
          "output_type": "execute_result",
          "data": {
            "text/plain": [
              "'Hello'"
            ],
            "application/vnd.google.colaboratory.intrinsic+json": {
              "type": "string"
            }
          },
          "metadata": {},
          "execution_count": 26
        }
      ]
    },
    {
      "cell_type": "code",
      "source": [
        "'Hello, world!'[:5]"
      ],
      "metadata": {
        "colab": {
          "base_uri": "https://localhost:8080/",
          "height": 35
        },
        "id": "v0ph_QOo6ZHc",
        "outputId": "da805b8f-b92d-46b6-ef11-9451e9043bf3"
      },
      "execution_count": 27,
      "outputs": [
        {
          "output_type": "execute_result",
          "data": {
            "text/plain": [
              "'Hello'"
            ],
            "application/vnd.google.colaboratory.intrinsic+json": {
              "type": "string"
            }
          },
          "metadata": {},
          "execution_count": 27
        }
      ]
    },
    {
      "cell_type": "code",
      "source": [
        "'Hello, world!'[3:]"
      ],
      "metadata": {
        "id": "Od_ckJ0l6Zoi"
      },
      "execution_count": null,
      "outputs": []
    },
    {
      "cell_type": "code",
      "source": [
        "#Question-7: What are the values of the following expressions?\n",
        "\"\"\"\n",
        "'Hello'.upper()\n",
        "'Hello'.upper().isupper()\n",
        "'Hello'.upper().lower()\n",
        "\n",
        "\"\"\""
      ],
      "metadata": {
        "id": "aTefdnRA6hgj"
      },
      "execution_count": null,
      "outputs": []
    },
    {
      "cell_type": "code",
      "source": [
        "'Hello'.upper()"
      ],
      "metadata": {
        "colab": {
          "base_uri": "https://localhost:8080/",
          "height": 35
        },
        "id": "hN8yBmTJ6tS5",
        "outputId": "bab7b6e7-ed32-4674-dbd8-23b24eb55aa3"
      },
      "execution_count": 28,
      "outputs": [
        {
          "output_type": "execute_result",
          "data": {
            "text/plain": [
              "'HELLO'"
            ],
            "application/vnd.google.colaboratory.intrinsic+json": {
              "type": "string"
            }
          },
          "metadata": {},
          "execution_count": 28
        }
      ]
    },
    {
      "cell_type": "code",
      "source": [
        "'Hello'.upper().isupper()"
      ],
      "metadata": {
        "colab": {
          "base_uri": "https://localhost:8080/"
        },
        "id": "WyGwugwC6yu5",
        "outputId": "12b1097e-eb4e-4dbf-d12f-88d8c9e7fe81"
      },
      "execution_count": 33,
      "outputs": [
        {
          "output_type": "execute_result",
          "data": {
            "text/plain": [
              "True"
            ]
          },
          "metadata": {},
          "execution_count": 33
        }
      ]
    },
    {
      "cell_type": "code",
      "source": [
        "'Hello'.upper().lower()"
      ],
      "metadata": {
        "colab": {
          "base_uri": "https://localhost:8080/",
          "height": 35
        },
        "id": "xOYSeCtw6y4w",
        "outputId": "25730d7a-7d51-4e20-c19c-13e0ae57ba0c"
      },
      "execution_count": 34,
      "outputs": [
        {
          "output_type": "execute_result",
          "data": {
            "text/plain": [
              "'hello'"
            ],
            "application/vnd.google.colaboratory.intrinsic+json": {
              "type": "string"
            }
          },
          "metadata": {},
          "execution_count": 34
        }
      ]
    },
    {
      "cell_type": "code",
      "source": [
        "#Quest-8. What are the values of the following expressions?\n",
        "'Remember, remember, the fifth of July.'.split()"
      ],
      "metadata": {
        "id": "qwHr0-2f62aF"
      },
      "execution_count": null,
      "outputs": []
    },
    {
      "cell_type": "code",
      "source": [
        "#Answer:\n",
        "'Remember, remember, the fifth of July.'.split()"
      ],
      "metadata": {
        "colab": {
          "base_uri": "https://localhost:8080/"
        },
        "id": "5FWjEcje7qB3",
        "outputId": "795bff19-05f6-4703-8d22-a6fa41a5f92f"
      },
      "execution_count": 35,
      "outputs": [
        {
          "output_type": "execute_result",
          "data": {
            "text/plain": [
              "['Remember,', 'remember,', 'the', 'fifth', 'of', 'July.']"
            ]
          },
          "metadata": {},
          "execution_count": 35
        }
      ]
    },
    {
      "cell_type": "code",
      "source": [
        "'-'.join('There can only one.'.split())"
      ],
      "metadata": {
        "colab": {
          "base_uri": "https://localhost:8080/",
          "height": 35
        },
        "id": "NHjMO94G7rkY",
        "outputId": "ca8557fb-faea-49c8-b463-a39966bd61ef"
      },
      "execution_count": 36,
      "outputs": [
        {
          "output_type": "execute_result",
          "data": {
            "text/plain": [
              "'There-can-only-one.'"
            ],
            "application/vnd.google.colaboratory.intrinsic+json": {
              "type": "string"
            }
          },
          "metadata": {},
          "execution_count": 36
        }
      ]
    },
    {
      "cell_type": "code",
      "source": [
        "#Question-9: What are the methods for right-justifying, left-justifying, and centering a string?"
      ],
      "metadata": {
        "id": "jIkXTuTw7xZ9"
      },
      "execution_count": 37,
      "outputs": []
    },
    {
      "cell_type": "code",
      "source": [
        "#Answer: \n",
        "y = \"John\"\n",
        "x = y.rjust(10)\n",
        "print(x, \"is at home.\")"
      ],
      "metadata": {
        "colab": {
          "base_uri": "https://localhost:8080/"
        },
        "id": "BEqEsYjF78wt",
        "outputId": "2459e8de-4a69-4b2f-a424-9a7db86c8a3b"
      },
      "execution_count": 44,
      "outputs": [
        {
          "output_type": "stream",
          "name": "stdout",
          "text": [
            "      John is at home.\n"
          ]
        }
      ]
    },
    {
      "cell_type": "code",
      "source": [
        "y = \"John\"\n",
        "x = y.ljust(10)\n",
        "print(x, \"is at home.\")"
      ],
      "metadata": {
        "colab": {
          "base_uri": "https://localhost:8080/"
        },
        "id": "zarZTSTC8ujB",
        "outputId": "32a3096d-727f-46e9-9fea-461009a0dc26"
      },
      "execution_count": 46,
      "outputs": [
        {
          "output_type": "stream",
          "name": "stdout",
          "text": [
            "John       is at home.\n"
          ]
        }
      ]
    },
    {
      "cell_type": "code",
      "source": [
        "y = \"John sam ram\"\n",
        "print(x.center(20,'$'))"
      ],
      "metadata": {
        "colab": {
          "base_uri": "https://localhost:8080/"
        },
        "id": "_u7zIa7p9E3D",
        "outputId": "32e3b3d6-d278-4b04-fe0e-ba75dad7c86d"
      },
      "execution_count": 52,
      "outputs": [
        {
          "output_type": "stream",
          "name": "stdout",
          "text": [
            "$$$$John sam ram$$$$\n"
          ]
        }
      ]
    },
    {
      "cell_type": "code",
      "source": [
        "#Question-10: What is the best way to remove whitespace characters from the start or end?"
      ],
      "metadata": {
        "id": "4J3_b_W89KPX"
      },
      "execution_count": null,
      "outputs": []
    },
    {
      "cell_type": "code",
      "source": [
        "#Answer:\n",
        "x=\"   hgcscdscd    \"\n",
        "print(x.strip())\n"
      ],
      "metadata": {
        "colab": {
          "base_uri": "https://localhost:8080/"
        },
        "id": "Xegogrzh-koB",
        "outputId": "ed899e52-75da-4c26-fb1a-7032074bb706"
      },
      "execution_count": 54,
      "outputs": [
        {
          "output_type": "stream",
          "name": "stdout",
          "text": [
            "hgcscdscd\n"
          ]
        }
      ]
    },
    {
      "cell_type": "code",
      "source": [
        ""
      ],
      "metadata": {
        "id": "OuWdu-DG-6gI"
      },
      "execution_count": null,
      "outputs": []
    }
  ]
}