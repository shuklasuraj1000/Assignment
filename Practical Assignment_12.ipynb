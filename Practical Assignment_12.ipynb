{
  "nbformat": 4,
  "nbformat_minor": 0,
  "metadata": {
    "colab": {
      "name": "Untitled31.ipynb",
      "provenance": [],
      "collapsed_sections": []
    },
    "kernelspec": {
      "name": "python3",
      "display_name": "Python 3"
    },
    "language_info": {
      "name": "python"
    }
  },
  "cells": [
    {
      "cell_type": "code",
      "execution_count": null,
      "metadata": {
        "colab": {
          "base_uri": "https://localhost:8080/"
        },
        "id": "KG2hmHFuf-Ua",
        "outputId": "01e0ae33-5df8-474a-c8a9-adee5bc85b76"
      },
      "outputs": [
        {
          "output_type": "stream",
          "name": "stdout",
          "text": [
            "Extracted unique value :  [0, 3, 5, 7, 8, 11, 12, 22, 31, 45, 51, 56, 63, 77, 89, 90]\n"
          ]
        }
      ],
      "source": [
        "# Quest-1: Write a Python program to Extract Unique values dictionary values?\n",
        "# Answer:\n",
        "dict = {'suraj' : [5,3,8,22,51,11, 0],'shukla' : [22, 51, 63, 77],'ram' : [7, 0, 22],'shayam' : [12, 11, 45],'punk' : [56, 31, 89, 90]}\n",
        "l=[]\n",
        "for i in dict.values():\n",
        "  for j in i:\n",
        "    l.append(j)\n",
        "k=sorted(set(l))\n",
        "print(\"Extracted unique value : \",k)\n",
        "\n"
      ]
    },
    {
      "cell_type": "code",
      "source": [
        "# Quest-2: Write a Python program to find the sum of all items in a dictionary?\n",
        "#Answer:\n",
        "dict = {'suraj' : [5,3,8,22,51,'s', 0],'shukla' : [22, 'r', 63, 77],'ram' : [7.0, 0, 22],'shayam' : [12, 11,'j', 45],'punk' : [56, 31, 89, 90]}\n",
        "l=[]\n",
        "for i in dict.values():\n",
        "  for j in i:\n",
        "    if type(j)==float or type(j)==int:\n",
        "      l.append(j)\n",
        "print(\"Extracted all int value : \",l)\n",
        "print(\"Total sum : \",sum(l))\n"
      ],
      "metadata": {
        "colab": {
          "base_uri": "https://localhost:8080/"
        },
        "id": "ov7zUMigi4fz",
        "outputId": "f664ca02-ab33-4bd9-ce5b-62e83548e574"
      },
      "execution_count": null,
      "outputs": [
        {
          "output_type": "stream",
          "name": "stdout",
          "text": [
            "Extracted all int value :  [5, 3, 8, 22, 51, 0, 22, 63, 77, 7.0, 0, 22, 12, 11, 45, 56, 31, 89, 90]\n",
            "Total sum :  614.0\n"
          ]
        }
      ]
    },
    {
      "cell_type": "code",
      "source": [
        "#Quest-3: Write a Python program to Merging two Dictionaries?\n",
        "#Answer:\n",
        "dict1 = {'suraj' : [5,3,8,22,51,'s', 0],'shukla' : [22, 'r', 63, 77]}\n",
        "dict2 = {'ram' : [7.0, 0, 22],'shayam' : [12, 11,'j', 45],'punk' : [56, 31, 89, 90]}\n",
        "dict1.update(dict2)\n",
        "print(\"Updated dict1 after merger : \",dict1)"
      ],
      "metadata": {
        "colab": {
          "base_uri": "https://localhost:8080/"
        },
        "id": "ILKGia3LqnUd",
        "outputId": "b95c4158-ec51-483f-c29a-97d1311677a0"
      },
      "execution_count": null,
      "outputs": [
        {
          "output_type": "stream",
          "name": "stdout",
          "text": [
            "Updated dict1 after merger :  {'suraj': [5, 3, 8, 22, 51, 's', 0], 'shukla': [22, 'r', 63, 77], 'ram': [7.0, 0, 22], 'shayam': [12, 11, 'j', 45], 'punk': [56, 31, 89, 90]}\n"
          ]
        }
      ]
    },
    {
      "cell_type": "code",
      "source": [
        "# Quest-4: Write a Python program to convert key-values list to flat dictionary?\n",
        "#Answer:\n",
        "\n",
        "dict1 = {'suraj' : ['A','B','C','D'],'shukla' : [22, 25, 63, 77]}\n",
        "l=[]\n",
        "for i in dict1.values():\n",
        "  l.append(i)\n",
        "k=[]\n",
        "l1=l[0]\n",
        "l2=l[1]\n",
        "s={}\n",
        "for j in range(len(l1)):\n",
        "  m=l1[j]\n",
        "  n=l2[j]\n",
        "  a={m:n}\n",
        "  s.update(a)\n",
        "print(s)"
      ],
      "metadata": {
        "colab": {
          "base_uri": "https://localhost:8080/"
        },
        "id": "re5PEoLQq3-O",
        "outputId": "d3dc0839-aa5d-41d8-b697-5c6f92e1d0a5"
      },
      "execution_count": null,
      "outputs": [
        {
          "output_type": "stream",
          "name": "stdout",
          "text": [
            "{'A': 22, 'B': 25, 'C': 63, 'D': 77}\n"
          ]
        }
      ]
    },
    {
      "cell_type": "code",
      "source": [
        "# Quest-5: Write a Python program to insertion at the beginning in OrderedDict?\n",
        "# Answer: \n",
        "from collections import OrderedDict\n",
        "dict3=OrderedDict({'B' : ['A','B','C','D'],'A' : [22, 25, 63, 77]})\n",
        "dict4=OrderedDict({'C':[1,2,3,4]})\n",
        "dict3.update(dict4)\n",
        "dict3.move_to_end('C', last=False)\n",
        "print(dict3)"
      ],
      "metadata": {
        "colab": {
          "base_uri": "https://localhost:8080/"
        },
        "id": "6JJILO15vC7b",
        "outputId": "24fb8656-1e5a-4c81-b6b7-bad712896310"
      },
      "execution_count": null,
      "outputs": [
        {
          "output_type": "stream",
          "name": "stdout",
          "text": [
            "OrderedDict([('C', [1, 2, 3, 4]), ('B', ['A', 'B', 'C', 'D']), ('A', [22, 25, 63, 77])])\n"
          ]
        }
      ]
    },
    {
      "cell_type": "code",
      "source": [
        "# Order check of characters in ordered dictionary program for future use.\n",
        "from collections import OrderedDict\n",
        "def CO(i, ptrn): \n",
        "    dict = OrderedDict.fromkeys(i)                           # Generation of empty Ordered Dictionary\n",
        "    p = 0                                                      \n",
        "    for key,value in dict.items(): \n",
        "        if (key == ptrn[p]): \n",
        "            p = p + 1\n",
        "        if (p == (len(ptrn))): \n",
        "            return 'Match found'                             # Order was correct and found\n",
        "    return 'Match not found'                                 # order was mismatched \n",
        "  "
      ],
      "metadata": {
        "id": "s06YV2JUD3pZ"
      },
      "execution_count": 32,
      "outputs": []
    },
    {
      "cell_type": "code",
      "source": [
        "# Quest-6: Write a Python program to check order of character in string using OrderedDict()?\n",
        "#Answer:\n",
        "if __name__ == \"__main__\": \n",
        "    i = \"my name is jack\"\n",
        "    ptrn =\"mj\"\n",
        "    print (CO(i,ptrn))"
      ],
      "metadata": {
        "colab": {
          "base_uri": "https://localhost:8080/"
        },
        "id": "QHvmjMeWJCoh",
        "outputId": "fe68403a-1dec-4364-d6f7-e10cdf5fc015"
      },
      "execution_count": 37,
      "outputs": [
        {
          "output_type": "stream",
          "name": "stdout",
          "text": [
            "Match found\n"
          ]
        }
      ]
    },
    {
      "cell_type": "code",
      "source": [
        "# Quest-7: Write a Python program to sort Python Dictionaries by Key or Value?\n",
        "#Answer:\n",
        "from collections import OrderedDict\n",
        "dict={'X':10,'N': 7, 'H': 12}\n",
        "d=OrderedDict(sorted(dict.items()))\n",
        "print(d)"
      ],
      "metadata": {
        "colab": {
          "base_uri": "https://localhost:8080/"
        },
        "id": "4Mcs_2MFNThc",
        "outputId": "a84ecd1f-595f-43c9-e55e-b9e21563c9ed"
      },
      "execution_count": 43,
      "outputs": [
        {
          "output_type": "stream",
          "name": "stdout",
          "text": [
            "OrderedDict([('H', 12), ('N', 7), ('X', 10)])\n"
          ]
        }
      ]
    },
    {
      "cell_type": "code",
      "source": [
        ""
      ],
      "metadata": {
        "id": "ZSKGKSckPoLc"
      },
      "execution_count": null,
      "outputs": []
    }
  ]
}