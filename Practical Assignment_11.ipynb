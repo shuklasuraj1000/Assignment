{
  "nbformat": 4,
  "nbformat_minor": 0,
  "metadata": {
    "colab": {
      "name": "Untitled30.ipynb",
      "provenance": [],
      "collapsed_sections": []
    },
    "kernelspec": {
      "name": "python3",
      "display_name": "Python 3"
    },
    "language_info": {
      "name": "python"
    }
  },
  "cells": [
    {
      "cell_type": "code",
      "execution_count": null,
      "metadata": {
        "colab": {
          "base_uri": "https://localhost:8080/"
        },
        "id": "d3ySZ2LtMk8L",
        "outputId": "9ffdf8da-eae1-4cbc-a04b-b9b3b84c3469"
      },
      "outputs": [
        {
          "output_type": "stream",
          "name": "stdout",
          "text": [
            "Enter string : My name is Suraj Shukla, I am a M&P.\n",
            "Enter the max length of word to identify :3\n",
            "Words in string with length > 3 :  ['name', 'Suraj', 'Shukla,', 'M&P.']\n"
          ]
        }
      ],
      "source": [
        "#Quest-1: Write a Python program to find words which are greater than given length k?\n",
        "#Answer:\n",
        "s=str(input(\"Enter string : \"))\n",
        "n=int(input(\"Enter the max length of word to identify :\"))\n",
        "text=s.split(\" \")\n",
        "l=[]\n",
        "for i in text:\n",
        "  if len(i)>n:\n",
        "    l.append(i)\n",
        "\n",
        "print(\"Words in string with length > {} : \".format(n),l)"
      ]
    },
    {
      "cell_type": "code",
      "source": [
        "#Quest-2: Write a Python program for removing i-th character from a string?\n",
        "#Answer:\n",
        "s=str(input(\"Enter string : \"))\n",
        "n=int(input(\"Enter index number : \"))\n",
        "for i in range(len(s)):\n",
        "  if i==n:\n",
        "    s=str(s).replace(str(s)[n-1],\"\",1)                             # In this step ith index value will be replace with blank >> Index (0,1,2,3,4........)\n",
        "print(str(s))\n",
        "\n"
      ],
      "metadata": {
        "colab": {
          "base_uri": "https://localhost:8080/"
        },
        "id": "Mkt3wrxoSc3J",
        "outputId": "9bf7e5a3-ce2f-4953-b6d0-1cf3f5c15a58"
      },
      "execution_count": 1,
      "outputs": [
        {
          "output_type": "stream",
          "name": "stdout",
          "text": [
            "Enter string : MY NAME IS SURAJ\n",
            "Enter index number : 4\n",
            "MY AME IS SURAJ\n"
          ]
        }
      ]
    },
    {
      "cell_type": "code",
      "source": [
        "#Quest-3: Write a Python program to split and join a string?\n",
        "#Answer: \n",
        "s=str(input(\"Enter string : \"))\n",
        "l=s.split(\" \")                       # Spliting string.\n",
        "p=\"   \".join(l)                      # Joining string.\n",
        "print(p)"
      ],
      "metadata": {
        "id": "K7qbCJRKVwcL",
        "colab": {
          "base_uri": "https://localhost:8080/"
        },
        "outputId": "5c056d76-9708-4d8e-d771-f5af8679377f"
      },
      "execution_count": 5,
      "outputs": [
        {
          "output_type": "stream",
          "name": "stdout",
          "text": [
            "Enter string : MY NAME IS SURAJ\n",
            "['MY', 'NAME', 'IS', 'SURAJ']\n",
            "MY   NAME   IS   SURAJ\n"
          ]
        }
      ]
    },
    {
      "cell_type": "code",
      "source": [
        "#Quest-4: Write a Python to check if a given string is binary string or not?\n",
        "#Answer:\n",
        "s=str(input(\"Enter string : \"))\n",
        "ss=set(s)\n",
        "n={'0','1'}\n",
        "if n==ss or ss=={'0'} or ss=={'1'}:\n",
        "  print(\"String is binary\")\n",
        "else:\n",
        "  print(\"string is not binary\")"
      ],
      "metadata": {
        "colab": {
          "base_uri": "https://localhost:8080/"
        },
        "id": "gY3fm-jGIH5J",
        "outputId": "cbb1ede5-978c-4f40-9460-5934b9f8d7e9"
      },
      "execution_count": 15,
      "outputs": [
        {
          "output_type": "stream",
          "name": "stdout",
          "text": [
            "Enter string : 1010101010\n",
            "String is binary\n"
          ]
        }
      ]
    },
    {
      "cell_type": "code",
      "source": [
        "# Quest-5: Write a Python program to find uncommon words from two Strings?\n",
        "# Answer:\n",
        "s1=str(input(\"Enter string A : \"))\n",
        "s2=str(input(\"Enter string B : \"))\n",
        "l1=s1.split(\" \")\n",
        "l2=s2.split(\" \")\n",
        "l=[]\n",
        "for i in l1:\n",
        "  if i not in l2:\n",
        "    l.append(i)\n",
        "\n",
        "for j in l2:\n",
        "  if j not in l1:\n",
        "    l.append(j)\n",
        "print(\"Uncommon words in both string : \",l)"
      ],
      "metadata": {
        "colab": {
          "base_uri": "https://localhost:8080/"
        },
        "id": "iha06r22JoRW",
        "outputId": "79b09fef-52c8-4edd-860e-13573a68ca53"
      },
      "execution_count": 20,
      "outputs": [
        {
          "output_type": "stream",
          "name": "stdout",
          "text": [
            "Enter string A : bat mat cat\n",
            "Enter string B : mat cat chat rat\n",
            "Uncommon words in both string :  ['bat', 'chat', 'rat']\n"
          ]
        }
      ]
    },
    {
      "cell_type": "code",
      "source": [
        "# Quest-6: Write a Python to find all duplicate characters in string?\n",
        "# Answer: \n",
        "s=str(input(\"Enter string : \"))\n",
        "dup=[]\n",
        "for i in s:\n",
        " if s.count(i)>1:\n",
        "   dup.append(i)\n",
        "print(\"Duplicate chars : \",set(dup))"
      ],
      "metadata": {
        "colab": {
          "base_uri": "https://localhost:8080/"
        },
        "id": "CEjrazaXKb1U",
        "outputId": "a29bde8a-8b00-4925-d2dd-759344e1d9f2"
      },
      "execution_count": 27,
      "outputs": [
        {
          "output_type": "stream",
          "name": "stdout",
          "text": [
            "Enter string : dasfjksdbsd\n",
            "Duplicate chars :  {'s', 'd'}\n"
          ]
        }
      ]
    },
    {
      "cell_type": "code",
      "source": [
        "# Quest-7: Write a Python Program to check if a string contains any special character?\n",
        "#Answer:\n",
        "s1=str(input(\"Enter string A : \"))\n",
        "l1=[j for j in s1]\n",
        "l2=['@','$','%','&']                                   # Define your special chars here.\n",
        "l=False\n",
        "for i in l2:\n",
        "  if i in l1:\n",
        "    print(\"String does have special char.\")\n",
        "    l=True\n",
        "    break\n",
        "if l==False:\n",
        "  print(\"No special Char found.\")\n"
      ],
      "metadata": {
        "colab": {
          "base_uri": "https://localhost:8080/"
        },
        "id": "rXhUwYBLNhN8",
        "outputId": "1161c6c9-0743-4a76-959c-21700342f689"
      },
      "execution_count": 48,
      "outputs": [
        {
          "output_type": "stream",
          "name": "stdout",
          "text": [
            "Enter string A : sdjhadsfjsa$\n",
            "String does have special char.\n"
          ]
        }
      ]
    },
    {
      "cell_type": "code",
      "source": [
        ""
      ],
      "metadata": {
        "id": "wPCh5TdgYJWt"
      },
      "execution_count": null,
      "outputs": []
    }
  ]
}