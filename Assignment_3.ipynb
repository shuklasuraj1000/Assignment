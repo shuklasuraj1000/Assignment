{
  "nbformat": 4,
  "nbformat_minor": 0,
  "metadata": {
    "colab": {
      "name": "Untitled32.ipynb",
      "provenance": [],
      "collapsed_sections": []
    },
    "kernelspec": {
      "name": "python3",
      "display_name": "Python 3"
    },
    "language_info": {
      "name": "python"
    }
  },
  "cells": [
    {
      "cell_type": "code",
      "execution_count": 4,
      "metadata": {
        "id": "XU4JNBv0j4wn"
      },
      "outputs": [],
      "source": [
        "# Quest-1: Why are functions advantageous to have in your programs?\n",
        "#Answer: Function reduces need of duplicate code. This makes program shorter, easy to read/understand and easier to update.\n",
        "#For example.\n",
        "def AMSD (a,b):\n",
        "  c1=a+b\n",
        "  c2=a-b\n",
        "  c3=a*b\n",
        "  c4=a/b\n",
        "  return \"ADD = {}, Sub = {}, Mult = {}, Div = {}\".format(c1,c2,c3,c4)\n"
      ]
    },
    {
      "cell_type": "code",
      "source": [
        "#Calling AMSD function:\n",
        "a=int(input(\"Enter a :\"))\n",
        "b=int(input(\"Enter b :\"))\n",
        "AMSD(a,b)"
      ],
      "metadata": {
        "colab": {
          "base_uri": "https://localhost:8080/",
          "height": 70
        },
        "id": "FDrf7YWElCAG",
        "outputId": "1f0235ca-61d4-40b5-b11f-43b4eb83a068"
      },
      "execution_count": null,
      "outputs": [
        {
          "name": "stdout",
          "output_type": "stream",
          "text": [
            "Enter a :1987\n",
            "Enter b :1678\n"
          ]
        },
        {
          "output_type": "execute_result",
          "data": {
            "text/plain": [
              "'ADD = 3665, Sub = 309, Mult = 3334186, Div = 1.1841477949940404'"
            ],
            "application/vnd.google.colaboratory.intrinsic+json": {
              "type": "string"
            }
          },
          "metadata": {},
          "execution_count": 27
        }
      ]
    },
    {
      "cell_type": "code",
      "source": [
        "# Quest-2: When does the code in a function run: when it is specified or when it is called?\n",
        "#Answer: \n",
        "\"\"\" When function is called, it stops exceuting current section and begins to execute the first line inside the function.\n",
        "    In above exaple when AMSD was called, it started executing first line of AMSD function.\"\"\"\n"
      ],
      "metadata": {
        "id": "GY9QnH1dlaCe"
      },
      "execution_count": null,
      "outputs": []
    },
    {
      "cell_type": "code",
      "source": [
        "# Quest-3: What statement creates a function?\n",
        "#Answer: def keyword (see above example)\n"
      ],
      "metadata": {
        "id": "rwWfyKZGnhfE"
      },
      "execution_count": null,
      "outputs": []
    },
    {
      "cell_type": "code",
      "source": [
        "# Quest-4: What is the difference between a function and a function call?\n",
        "# Answer: \n",
        "#        Function : function is a piece of code which enhanced the reusability and modularity of your program. (See exaple Q-1, first function was create to reuse in later stage)\n",
        "#        Function call: In second stage (Q-1) AMSD function was called/ invoked to perform action."
      ],
      "metadata": {
        "id": "E1NhozTPrtqK"
      },
      "execution_count": null,
      "outputs": []
    },
    {
      "cell_type": "code",
      "source": [
        "# Quest-5: How many global scopes are there in a Python program? How many local scopes?\n",
        "# Answer: \n",
        "# Global scope: There is only one global Python scope per program execution. This scope remains in existence until the program terminates and all its names are forgotten.\n",
        "# Local scope: A variable created inside a function belongs to the local scope of that function, and can only be used inside that function.\n",
        "y=15\n",
        "def dict():\n",
        "  x=10\n",
        "  return x\n",
        "print(y)\n",
        "# print(x) can't be called, will send error (see next example).\n",
        "# In above example, y is global varriable, it can be used by anyone. While x is local varriable and can be accessed from a function within function."
      ],
      "metadata": {
        "colab": {
          "base_uri": "https://localhost:8080/"
        },
        "id": "Iry4WxehslmQ",
        "outputId": "6909ef69-8d49-480b-8960-d4a56d804ab0"
      },
      "execution_count": null,
      "outputs": [
        {
          "output_type": "stream",
          "name": "stdout",
          "text": [
            "15\n"
          ]
        }
      ]
    },
    {
      "cell_type": "code",
      "source": [
        "# Quest-6: What happens to variables in a local scope when the function call returns?\n",
        "# Answer: A local variable becomes undefined after the function call completes.\n",
        "def dict():\n",
        "  x=10\n",
        "  return x\n",
        "print(x)\n",
        "\n",
        "# >>> ERROR: See result after completion of function, x becomes undefined. while in case of global varriable in above example y can be used."
      ],
      "metadata": {
        "colab": {
          "base_uri": "https://localhost:8080/",
          "height": 217
        },
        "id": "OOQqEyqBt4K8",
        "outputId": "9f93a084-c573-4a41-c674-f2a646e53a07"
      },
      "execution_count": null,
      "outputs": [
        {
          "output_type": "error",
          "ename": "NameError",
          "evalue": "ignored",
          "traceback": [
            "\u001b[0;31m---------------------------------------------------------------------------\u001b[0m",
            "\u001b[0;31mNameError\u001b[0m                                 Traceback (most recent call last)",
            "\u001b[0;32m<ipython-input-45-516be0d57306>\u001b[0m in \u001b[0;36m<module>\u001b[0;34m()\u001b[0m\n\u001b[1;32m      4\u001b[0m   \u001b[0mx\u001b[0m\u001b[0;34m=\u001b[0m\u001b[0;36m10\u001b[0m\u001b[0;34m\u001b[0m\u001b[0;34m\u001b[0m\u001b[0m\n\u001b[1;32m      5\u001b[0m   \u001b[0;32mreturn\u001b[0m \u001b[0mx\u001b[0m\u001b[0;34m\u001b[0m\u001b[0;34m\u001b[0m\u001b[0m\n\u001b[0;32m----> 6\u001b[0;31m \u001b[0mprint\u001b[0m\u001b[0;34m(\u001b[0m\u001b[0mx\u001b[0m\u001b[0;34m)\u001b[0m\u001b[0;34m\u001b[0m\u001b[0;34m\u001b[0m\u001b[0m\n\u001b[0m\u001b[1;32m      7\u001b[0m \u001b[0;31m# >>> See result after completion of function x become undefined.\u001b[0m\u001b[0;34m\u001b[0m\u001b[0;34m\u001b[0m\u001b[0;34m\u001b[0m\u001b[0m\n",
            "\u001b[0;31mNameError\u001b[0m: name 'x' is not defined"
          ]
        }
      ]
    },
    {
      "cell_type": "code",
      "source": [
        "# Quest-7: What is the concept of a return value? Is it possible to have a return value in an expression?\n",
        "# Answer: \n",
        "\"\"\"Concept of return value: return is a value that a function returns to the calling function (see example in quest-1)\n",
        "when it completes its task. A return value can be any one of variable types: integer, \n",
        "object, or string (In bellow shown example when we are calling function AMSD(a,b) we are getting return type a string). \n",
        "The type of value your function returns depends largely on the task it performs.\"\"\"\n",
        "\n",
        "#Calling AMSD function:\n",
        "a=int(input(\"Enter a :\"))\n",
        "b=int(input(\"Enter b :\"))\n",
        "type(AMSD(a,b))\n"
      ],
      "metadata": {
        "id": "eWuLSCUIt5IW",
        "colab": {
          "base_uri": "https://localhost:8080/"
        },
        "outputId": "2dea0b07-88b9-45ea-b676-def14d9d81e4"
      },
      "execution_count": 11,
      "outputs": [
        {
          "name": "stdout",
          "output_type": "stream",
          "text": [
            "Enter a :50\n",
            "Enter b :20\n"
          ]
        },
        {
          "output_type": "execute_result",
          "data": {
            "text/plain": [
              "str"
            ]
          },
          "metadata": {},
          "execution_count": 11
        }
      ]
    },
    {
      "cell_type": "code",
      "source": [
        "# it is not possible to have a return value in an expression."
      ],
      "metadata": {
        "id": "IM704MDz9rY7"
      },
      "execution_count": null,
      "outputs": []
    },
    {
      "cell_type": "code",
      "source": [
        "# Quest-8: 8. If a function does not have a return statement, what is the return value of a call to that function?\n",
        "#Answer: After calling function, return value will be undefined, see below example function AD.\n",
        "def AD (a,b):\n",
        "  c1=a+b\n",
        "  c2=a-b\n",
        "  c3=a*b\n",
        "  c4=a/b\n",
        "#Calling AMSD function:\n",
        "a=int(input(\"Enter a :\"))\n",
        "b=int(input(\"Enter b :\"))\n",
        "AD(a,b)\n"
      ],
      "metadata": {
        "colab": {
          "base_uri": "https://localhost:8080/"
        },
        "id": "P4ztjaay-ozs",
        "outputId": "351dcb62-437c-4996-ce9d-d5cb2cc3bcb5"
      },
      "execution_count": 13,
      "outputs": [
        {
          "name": "stdout",
          "output_type": "stream",
          "text": [
            "Enter a :10\n",
            "Enter b :20\n"
          ]
        }
      ]
    },
    {
      "cell_type": "code",
      "source": [
        "# Quest-9: How do you make a function variable refer to the global variable?\n",
        "# Answer: Global varriable use case: see below\n",
        "y=121\n",
        "def atom():\n",
        "  x=10+y\n",
        "  c=x+y                         # Global varriable y used/refered inside function atom()\n",
        "  return c\n",
        "\n",
        "atom()                          # Function atom() call."
      ],
      "metadata": {
        "colab": {
          "base_uri": "https://localhost:8080/"
        },
        "id": "r2jvZ0UP_ATd",
        "outputId": "143d0960-66a6-4665-c436-ea260e949c17"
      },
      "execution_count": 17,
      "outputs": [
        {
          "output_type": "execute_result",
          "data": {
            "text/plain": [
              "252"
            ]
          },
          "metadata": {},
          "execution_count": 17
        }
      ]
    },
    {
      "cell_type": "code",
      "source": [
        "# Quest-10: What is the data type of None?\n",
        "# Answer:  data type of none is ' NoneType '. see example.\n",
        "x= None\n",
        "type(x)\n"
      ],
      "metadata": {
        "colab": {
          "base_uri": "https://localhost:8080/"
        },
        "id": "E88ps2ZIPzAs",
        "outputId": "60dab8ef-0f32-4357-df84-385fef58e200"
      },
      "execution_count": 18,
      "outputs": [
        {
          "output_type": "execute_result",
          "data": {
            "text/plain": [
              "NoneType"
            ]
          },
          "metadata": {},
          "execution_count": 18
        }
      ]
    },
    {
      "cell_type": "code",
      "source": [
        "# Quest-11: What does the sentence import areallyourpetsnamederic do?\n",
        "#Answer: \n",
        "# Import statement will  import the areallyourpetsnamederic module, if it exits. \n"
      ],
      "metadata": {
        "id": "vqJ1DJetRwqy"
      },
      "execution_count": null,
      "outputs": []
    },
    {
      "cell_type": "code",
      "source": [
        "# Quest-12: If you had a bacon() feature in a spam module, what would you call it after importing spam?\n",
        "#Answer: if it exits then yes, first call module, followed by feature. like below-\n",
        "# spam.bacon()"
      ],
      "metadata": {
        "id": "YNqErkhUW6jI"
      },
      "execution_count": null,
      "outputs": []
    },
    {
      "cell_type": "code",
      "source": [
        "def ADF (a,b):\n",
        "  return (a*b)\n",
        " \n",
        "#Calling AMSD function:\n",
        "a=int(input(\"Enter a :\"))\n",
        "b=int(input(\"Enter b :\"))\n",
        "AD(a,b)"
      ],
      "metadata": {
        "colab": {
          "base_uri": "https://localhost:8080/"
        },
        "id": "D6LZwSoVX_4f",
        "outputId": "55a34ba8-1158-4e30-c03a-0adf77162220"
      },
      "execution_count": 38,
      "outputs": [
        {
          "name": "stdout",
          "output_type": "stream",
          "text": [
            "Enter a :10\n",
            "Enter b :30\n"
          ]
        }
      ]
    },
    {
      "cell_type": "code",
      "source": [
        "# Quest-13: What can you do to save a programme from crashing if it encounters an error?\n",
        "#Answer: When program encounters an error while running, the control is passed to the except block, skipping the code in between.\n",
        "# Use try and except , see case 1 & 2.\n",
        "#CASE-1: \n",
        "try:\n",
        " a=input(\"Enter a :\")\n",
        " b=input(\"Enter b :\")\n",
        " c=a/b\n",
        " print(c)\n",
        "except:\n",
        "  print(\"Try to enter different value\")"
      ],
      "metadata": {
        "colab": {
          "base_uri": "https://localhost:8080/"
        },
        "id": "qY69CtambpcA",
        "outputId": "1f66edbb-73c0-442b-83ae-96d88434eec2"
      },
      "execution_count": 47,
      "outputs": [
        {
          "output_type": "stream",
          "name": "stdout",
          "text": [
            "Enter a :10\n",
            "Enter b :0\n",
            "Try to enter different value\n"
          ]
        }
      ]
    },
    {
      "cell_type": "code",
      "source": [
        "#CASE-2:\n",
        "a=input(\"Enter a :\")\n",
        "b=input(\"Enter b :\")\n",
        "c=a/b\n",
        "print(c)"
      ],
      "metadata": {
        "colab": {
          "base_uri": "https://localhost:8080/",
          "height": 252
        },
        "id": "cbg-lkPAzu__",
        "outputId": "44592270-a1ba-4a21-fe91-f8bc7e066dfe"
      },
      "execution_count": 49,
      "outputs": [
        {
          "name": "stdout",
          "output_type": "stream",
          "text": [
            "Enter a :10\n",
            "Enter b :0\n"
          ]
        },
        {
          "output_type": "error",
          "ename": "TypeError",
          "evalue": "ignored",
          "traceback": [
            "\u001b[0;31m---------------------------------------------------------------------------\u001b[0m",
            "\u001b[0;31mTypeError\u001b[0m                                 Traceback (most recent call last)",
            "\u001b[0;32m<ipython-input-49-07016c9b4578>\u001b[0m in \u001b[0;36m<module>\u001b[0;34m()\u001b[0m\n\u001b[1;32m      1\u001b[0m \u001b[0ma\u001b[0m\u001b[0;34m=\u001b[0m\u001b[0minput\u001b[0m\u001b[0;34m(\u001b[0m\u001b[0;34m\"Enter a :\"\u001b[0m\u001b[0;34m)\u001b[0m\u001b[0;34m\u001b[0m\u001b[0;34m\u001b[0m\u001b[0m\n\u001b[1;32m      2\u001b[0m \u001b[0mb\u001b[0m\u001b[0;34m=\u001b[0m\u001b[0minput\u001b[0m\u001b[0;34m(\u001b[0m\u001b[0;34m\"Enter b :\"\u001b[0m\u001b[0;34m)\u001b[0m\u001b[0;34m\u001b[0m\u001b[0;34m\u001b[0m\u001b[0m\n\u001b[0;32m----> 3\u001b[0;31m \u001b[0mc\u001b[0m\u001b[0;34m=\u001b[0m\u001b[0ma\u001b[0m\u001b[0;34m/\u001b[0m\u001b[0mb\u001b[0m\u001b[0;34m\u001b[0m\u001b[0;34m\u001b[0m\u001b[0m\n\u001b[0m\u001b[1;32m      4\u001b[0m \u001b[0mprint\u001b[0m\u001b[0;34m(\u001b[0m\u001b[0mc\u001b[0m\u001b[0;34m)\u001b[0m\u001b[0;34m\u001b[0m\u001b[0;34m\u001b[0m\u001b[0m\n",
            "\u001b[0;31mTypeError\u001b[0m: unsupported operand type(s) for /: 'str' and 'str'"
          ]
        }
      ]
    },
    {
      "cell_type": "code",
      "source": [
        "# Quest-14: What is the purpose of the try clause? What is the purpose of the except clause?\n",
        "# Answer: \n",
        "#   See above example in question 13.\n",
        "#   Try Clause: The try clause lets you test a block of code untill errors encountered. \n",
        "#   Except Clause: The except block lets you handle the error."
      ],
      "metadata": {
        "id": "TN4A-K9f0ZyK"
      },
      "execution_count": null,
      "outputs": []
    }
  ]
}