{
  "nbformat": 4,
  "nbformat_minor": 0,
  "metadata": {
    "colab": {
      "name": "Untitled48.ipynb",
      "provenance": [],
      "collapsed_sections": []
    },
    "kernelspec": {
      "name": "python3",
      "display_name": "Python 3"
    },
    "language_info": {
      "name": "python"
    }
  },
  "cells": [
    {
      "cell_type": "code",
      "execution_count": 10,
      "metadata": {
        "id": "c7CSCcka7P7Z"
      },
      "outputs": [],
      "source": [
        "#Quest-1: \n",
        "\"\"\"\n",
        "Question1. Write a function that stutters a word as if someone is struggling to read it. The\n",
        "first two letters are repeated twice with an ellipsis ... and space after each, and then the\n",
        "word is pronounced with a question mark ?.\n",
        "Examples\n",
        "stutter(incredible) ➞ \"in... in... incredible?\"\n",
        "stutter(enthusiastic) ➞ \"en... en... enthusiastic?\"\n",
        "stutter(outstanding) ➞ \"ou... ou... outstanding?\"\n",
        "\n",
        "Hint :- Assume all input is in lower case and at least two characters long.\n",
        "\n",
        "\"\"\""
      ]
    },
    {
      "cell_type": "code",
      "source": [
        "#Answer:\n",
        "def stutters(s):\n",
        "  \"\"\" enter the word \"\"\"\n",
        "  s1 = s[:2]\n",
        "  return (((s1+\"...\")*2) + s + '?')"
      ],
      "metadata": {
        "id": "ZSRt2HjXQpzp"
      },
      "execution_count": 64,
      "outputs": []
    },
    {
      "cell_type": "code",
      "source": [
        "stutters(\"incredible\")"
      ],
      "metadata": {
        "colab": {
          "base_uri": "https://localhost:8080/",
          "height": 35
        },
        "id": "RI7FW0aBSP93",
        "outputId": "282ba771-5e03-458c-b6bd-32fade0ef4bb"
      },
      "execution_count": 65,
      "outputs": [
        {
          "output_type": "execute_result",
          "data": {
            "text/plain": [
              "'in...in...incredible?'"
            ],
            "application/vnd.google.colaboratory.intrinsic+json": {
              "type": "string"
            }
          },
          "metadata": {},
          "execution_count": 65
        }
      ]
    },
    {
      "cell_type": "code",
      "source": [
        "#Quest-2:\n",
        "\"\"\"\n",
        "Create a function that takes an angle in radians and returns the corresponding\n",
        "angle in degrees rounded to one decimal place.\n",
        "\n",
        "Examples\n",
        "radians_to_degrees(1) ➞ 57.3\n",
        "radians_to_degrees(20) ➞ 1145.9\n",
        "radians_to_degrees(50) ➞ 2864.8\n",
        "\"\"\"\n"
      ],
      "metadata": {
        "id": "Wd2uWNfpSXj3"
      },
      "execution_count": null,
      "outputs": []
    },
    {
      "cell_type": "code",
      "source": [
        "#Answer:\n",
        "def temp_con(*t):\n",
        "  \"\"\"enter tempreture in radian \"\"\"\n",
        "  t=t\n",
        "  # Radian to degree conversion\n",
        "  l=[]\n",
        "  for i in t:\n",
        "    d=round(((i*180)/3.14159),1)\n",
        "    l.append(d)\n",
        "  yield l\n"
      ],
      "metadata": {
        "id": "Ih_u3LegXAO_"
      },
      "execution_count": 104,
      "outputs": []
    },
    {
      "cell_type": "code",
      "source": [
        "for t in temp_con(1,20,50):\n",
        "  print(t)\n",
        "  "
      ],
      "metadata": {
        "colab": {
          "base_uri": "https://localhost:8080/"
        },
        "id": "H0mHrdwaY5Bo",
        "outputId": "1f120951-d88f-4231-a6dd-962c743471be"
      },
      "execution_count": 105,
      "outputs": [
        {
          "output_type": "stream",
          "name": "stdout",
          "text": [
            "[57.3, 1145.9, 2864.8]\n"
          ]
        }
      ]
    },
    {
      "cell_type": "code",
      "source": [
        "#Quest-3:\n",
        "\"\"\"\n",
        "In this challenge, establish if a given integer num is a Curzon number. If 1 plus 2 \n",
        "elevated to num is exactly divisible by 1 plus 2 multiplied by num, then num is a Curzon number.\n",
        "\n",
        "Given a non-negative integer num, implement a function that returns True if num is a Curzon\n",
        "number, or False otherwise.\n",
        "\n",
        "Examples\n",
        "is_curzon(5) ➞ True\n",
        "# 2 ** 5 + 1 = 33\n",
        "# 2 * 5 + 1 = 11\n",
        "# 33 is a multiple of 11\n",
        "\n",
        "is_curzon(10) ➞ False\n",
        "# 2 ** 10 + 1 = 1025\n",
        "# 2 * 10 + 1 = 21\n",
        "# 1025 is not a multiple of 21\n",
        "\n",
        "is_curzon(14) ➞ True\n",
        "# 2 ** 14 + 1 = 16385\n",
        "# 2 * 14 + 1 = 29\n",
        "# 16385 is a multiple of 29\n",
        "\n",
        "\"\"\""
      ],
      "metadata": {
        "id": "_Rp615jIZjis"
      },
      "execution_count": null,
      "outputs": []
    },
    {
      "cell_type": "code",
      "source": [
        "#Answer:\n",
        "def curz_num(n):\n",
        "  a=(2**n) + 1\n",
        "  b=(2*n) + 1\n",
        "  if a%b==0:\n",
        "    return True\n",
        "  else:\n",
        "    return False\n",
        "  "
      ],
      "metadata": {
        "id": "Cv0RT5TJkb1F"
      },
      "execution_count": 107,
      "outputs": []
    },
    {
      "cell_type": "code",
      "source": [
        "curz_num(5)"
      ],
      "metadata": {
        "colab": {
          "base_uri": "https://localhost:8080/"
        },
        "id": "mIxMz16wk6YP",
        "outputId": "7aebfdee-3665-4f2f-ae9e-73d18a1143ea"
      },
      "execution_count": 108,
      "outputs": [
        {
          "output_type": "execute_result",
          "data": {
            "text/plain": [
              "True"
            ]
          },
          "metadata": {},
          "execution_count": 108
        }
      ]
    },
    {
      "cell_type": "code",
      "source": [
        "curz_num(10)"
      ],
      "metadata": {
        "colab": {
          "base_uri": "https://localhost:8080/"
        },
        "id": "TiZtBBo_k_Ak",
        "outputId": "9875b450-a518-4908-eb88-b69883035077"
      },
      "execution_count": 109,
      "outputs": [
        {
          "output_type": "execute_result",
          "data": {
            "text/plain": [
              "False"
            ]
          },
          "metadata": {},
          "execution_count": 109
        }
      ]
    },
    {
      "cell_type": "code",
      "source": [
        "curz_num(14)"
      ],
      "metadata": {
        "colab": {
          "base_uri": "https://localhost:8080/"
        },
        "id": "PneD03QVlD5t",
        "outputId": "9430fd0d-2d99-4518-9b6f-8f02b2b72686"
      },
      "execution_count": 110,
      "outputs": [
        {
          "output_type": "execute_result",
          "data": {
            "text/plain": [
              "True"
            ]
          },
          "metadata": {},
          "execution_count": 110
        }
      ]
    },
    {
      "cell_type": "code",
      "source": [
        "# Quest-4: Given the side length x find the area of a hexagon.\n",
        "#Answer:\n",
        "def area_hex(s):\n",
        "  \"\"\" Enter side of hexagon \"\"\"\n",
        "  import math\n",
        "  A=((math.sqrt(3))*3*s**2)/2\n",
        "  return round(A,1)"
      ],
      "metadata": {
        "id": "Hb3NsxzhlGG4"
      },
      "execution_count": 119,
      "outputs": []
    },
    {
      "cell_type": "code",
      "source": [
        "area_hex(1)"
      ],
      "metadata": {
        "colab": {
          "base_uri": "https://localhost:8080/"
        },
        "id": "oBA_WeUolkQ4",
        "outputId": "e2233dd3-6f35-4307-ea2a-81e480cdd623"
      },
      "execution_count": 120,
      "outputs": [
        {
          "output_type": "execute_result",
          "data": {
            "text/plain": [
              "2.6"
            ]
          },
          "metadata": {},
          "execution_count": 120
        }
      ]
    },
    {
      "cell_type": "code",
      "source": [
        "area_hex(2)"
      ],
      "metadata": {
        "colab": {
          "base_uri": "https://localhost:8080/"
        },
        "id": "ehBFhihtl_gD",
        "outputId": "c995686c-3a50-4ec0-e16f-4790373a375b"
      },
      "execution_count": 121,
      "outputs": [
        {
          "output_type": "execute_result",
          "data": {
            "text/plain": [
              "10.4"
            ]
          },
          "metadata": {},
          "execution_count": 121
        }
      ]
    },
    {
      "cell_type": "code",
      "source": [
        "area_hex(3)"
      ],
      "metadata": {
        "colab": {
          "base_uri": "https://localhost:8080/"
        },
        "id": "iIlc7MwRmJEz",
        "outputId": "8bf7aab5-401b-498f-9093-806344bb444c"
      },
      "execution_count": 122,
      "outputs": [
        {
          "output_type": "execute_result",
          "data": {
            "text/plain": [
              "23.4"
            ]
          },
          "metadata": {},
          "execution_count": 122
        }
      ]
    },
    {
      "cell_type": "code",
      "source": [
        "# Quest-5: \n",
        "\"\"\"\n",
        "Question 5. Create a function that returns a base-2 (binary) representation of a base-10\n",
        "(decimal) string number. To convert is simple: ((2) means base-2 and (10) means base-10)\n",
        "010101001(2) = 1 + 8 + 32 + 128.\n",
        "\n",
        "Going from right to left, the value of the most right bit is 1, now from that every bit to the left\n",
        "will be x2 the value, value of an 8 bit binary numbers are (256, 128, 64, 32, 16, 8, 4, 2, 1).\n",
        "\n",
        "Examples\n",
        "binary(1) ➞ \"1\"\n",
        "# 1*1 = 1\n",
        "binary(5) ➞ \"101\"\n",
        "# 1*1 + 1*4 = 5\n",
        "binary(10) ➞ \"1010\"\n",
        "# 1*2 + 1*8 = 10\n",
        "\n",
        "\"\"\""
      ],
      "metadata": {
        "id": "eefnPZIumKuG"
      },
      "execution_count": null,
      "outputs": []
    },
    {
      "cell_type": "code",
      "source": [
        "def binaryToDecimal(n):\n",
        "  \"\"\" Binary to decimal conversion, enter binary number \"\"\"\n",
        "  a=str(n)\n",
        "  dec=0\n",
        "  i=len(a)-1\n",
        "  for j in a:\n",
        "    d=int(j)*(2**i)\n",
        "    dec=dec+d\n",
        "    i=i-1\n",
        "  print(dec)"
      ],
      "metadata": {
        "id": "XfibSfKymu11"
      },
      "execution_count": 8,
      "outputs": []
    },
    {
      "cell_type": "code",
      "source": [
        "binaryToDecimal(1100101)"
      ],
      "metadata": {
        "colab": {
          "base_uri": "https://localhost:8080/"
        },
        "id": "mFp7DuTr8THP",
        "outputId": "f1ac1359-8b7b-4839-fdc4-75d88d100967"
      },
      "execution_count": 11,
      "outputs": [
        {
          "output_type": "stream",
          "name": "stdout",
          "text": [
            "101\n"
          ]
        }
      ]
    },
    {
      "cell_type": "code",
      "source": [
        "def DecToBin(n):\n",
        "  \"\"\" Enter dec num to convert to binary \"\"\"\n",
        "  if n >= 1:\n",
        "    DecToBin(n // 2)\n",
        "    print (n % 2,end=\"\")\n"
      ],
      "metadata": {
        "id": "sFN4HCAf1_c_"
      },
      "execution_count": 9,
      "outputs": []
    },
    {
      "cell_type": "code",
      "source": [
        "#Answer:\n",
        "DecToBin(101)"
      ],
      "metadata": {
        "colab": {
          "base_uri": "https://localhost:8080/"
        },
        "id": "np2e11mH5qI8",
        "outputId": "74c5a9be-a664-4512-9943-8549b57c6ca9"
      },
      "execution_count": 10,
      "outputs": [
        {
          "output_type": "stream",
          "name": "stdout",
          "text": [
            "1100101"
          ]
        }
      ]
    },
    {
      "cell_type": "code",
      "source": [
        ""
      ],
      "metadata": {
        "id": "t1FUE88W7dea"
      },
      "execution_count": null,
      "outputs": []
    }
  ]
}