{
  "nbformat": 4,
  "nbformat_minor": 0,
  "metadata": {
    "colab": {
      "name": "Untitled49.ipynb",
      "provenance": [],
      "collapsed_sections": []
    },
    "kernelspec": {
      "name": "python3",
      "display_name": "Python 3"
    },
    "language_info": {
      "name": "python"
    }
  },
  "cells": [
    {
      "cell_type": "code",
      "execution_count": null,
      "metadata": {
        "id": "bKOOarbmQgdL"
      },
      "outputs": [],
      "source": [
        "#Quest-1:\n",
        "\"\"\"Create a function that takes three arguments a, b, c and returns the sum of the\n",
        "numbers that are evenly divided by c from the range a, b inclusive.\n",
        "\n",
        "Examples\n",
        "evenly_divisible(1, 10, 20) ➞ 0\n",
        "# No number between 1 and 10 can be evenly divided by 20.\n",
        "evenly_divisible(1, 10, 2) ➞ 30\n",
        "# 2 + 4 + 6 + 8 + 10 = 30\n",
        "evenly_divisible(1, 10, 3) ➞ 18\n",
        "# 3 + 6 + 9 = 18\n",
        "\n",
        "\"\"\""
      ]
    },
    {
      "cell_type": "code",
      "source": [
        "#Answer:\n",
        "def sum(a,b,c):\n",
        "  \"\"\" This function takes three arguments a, b, c and returns the sum of the numbers, that are evenly divided by c from the range a, b inclusive \"\"\"  \n",
        "  n=0\n",
        "  for i in range(a,b+1):\n",
        "    if i%c==0:\n",
        "      n=n+i\n",
        "  print(\"sum of evenly divisible no : \",n)\n",
        "\n"
      ],
      "metadata": {
        "id": "g2V2ztrXRP31"
      },
      "execution_count": 3,
      "outputs": []
    },
    {
      "cell_type": "code",
      "source": [
        "sum(1,10,20)"
      ],
      "metadata": {
        "colab": {
          "base_uri": "https://localhost:8080/"
        },
        "id": "bziMa_yoR5RI",
        "outputId": "bc5eeddc-15d1-46d4-a5ac-7af42891cd80"
      },
      "execution_count": 4,
      "outputs": [
        {
          "output_type": "stream",
          "name": "stdout",
          "text": [
            "sum of evenly divisible no :  0\n"
          ]
        }
      ]
    },
    {
      "cell_type": "code",
      "source": [
        "sum(1,10,2)"
      ],
      "metadata": {
        "colab": {
          "base_uri": "https://localhost:8080/"
        },
        "id": "wXwOKsnHSTCZ",
        "outputId": "8a4bea06-73c7-4e00-8328-72c6573f8abe"
      },
      "execution_count": 5,
      "outputs": [
        {
          "output_type": "stream",
          "name": "stdout",
          "text": [
            "sum of evenly divisible no :  30\n"
          ]
        }
      ]
    },
    {
      "cell_type": "code",
      "source": [
        "sum(1,10,3)"
      ],
      "metadata": {
        "colab": {
          "base_uri": "https://localhost:8080/"
        },
        "id": "5bZa-G-FSVin",
        "outputId": "13ff4722-89c1-457c-8e58-c89549a0e646"
      },
      "execution_count": 6,
      "outputs": [
        {
          "output_type": "stream",
          "name": "stdout",
          "text": [
            "sum of evenly divisible no :  18\n"
          ]
        }
      ]
    },
    {
      "cell_type": "code",
      "source": [
        "#Quest-2: Create a function that returns True if a given inequality expression is correct and False otherwise.\n",
        "\"\"\"\n",
        "Examples\n",
        "correct_signs(\" 3 < 7 < 11 \") ➞ True\n",
        "correct_signs(\" 13 > 44 > 33 > 1 \") ➞ False\n",
        "correct_signs(\" 1 < 2 < 6 < 9 >3 \") ➞ True\n",
        "\n",
        "\"\"\""
      ],
      "metadata": {
        "id": "OG4SpTuFSX21"
      },
      "execution_count": null,
      "outputs": []
    },
    {
      "cell_type": "code",
      "source": [
        "#Answer:\n",
        "def inq_exp(a):\n",
        "  \"\"\"This function will evaluate ixpression, enter expresssion in between \" \" only.\"\"\"\n",
        "  try:\n",
        "   x=eval(a)\n",
        "   print(x)\n",
        "  except:\n",
        "    print(\" Follow function guidlines for result \")"
      ],
      "metadata": {
        "id": "NE_x0SopSmkh"
      },
      "execution_count": 26,
      "outputs": []
    },
    {
      "cell_type": "code",
      "source": [
        "inq_exp(\"3 < 7 < 11\")"
      ],
      "metadata": {
        "colab": {
          "base_uri": "https://localhost:8080/"
        },
        "id": "H2uCfAiMTY8s",
        "outputId": "f44aa223-a7f8-46e3-acfa-6c7469b9375d"
      },
      "execution_count": 27,
      "outputs": [
        {
          "output_type": "stream",
          "name": "stdout",
          "text": [
            "True\n"
          ]
        }
      ]
    },
    {
      "cell_type": "code",
      "source": [
        "inq_exp(\"13 > 44 > 33 > 1\")"
      ],
      "metadata": {
        "colab": {
          "base_uri": "https://localhost:8080/"
        },
        "id": "TFAfl7wUT44N",
        "outputId": "6a6b72b2-7fda-4230-9f9a-1b55bf1640e7"
      },
      "execution_count": 28,
      "outputs": [
        {
          "output_type": "stream",
          "name": "stdout",
          "text": [
            "False\n"
          ]
        }
      ]
    },
    {
      "cell_type": "code",
      "source": [
        "inq_exp(\" 1 < 2 < 6 < 9 >3\" )"
      ],
      "metadata": {
        "colab": {
          "base_uri": "https://localhost:8080/"
        },
        "id": "DyEWUZq5Veo7",
        "outputId": "3141fff6-ceae-4b6c-f5ed-da3ea0be595e"
      },
      "execution_count": 30,
      "outputs": [
        {
          "output_type": "stream",
          "name": "stdout",
          "text": [
            "True\n"
          ]
        }
      ]
    },
    {
      "cell_type": "code",
      "source": [
        "# Quest-3: Create a function that replaces all the vowels in a string with a specified character.\n",
        "\"\"\"\n",
        "Examples\n",
        "replace_vowels(\"the aardvark\",\"#\") ➞ \"the# ##rdv#rk\"\n",
        "replace_vowels(\"minnie mouse\",\"?\") ➞ \"m?nn?? m??s?\"\n",
        "replace_vowels(\"shakespeare\",\"*\") ➞ \"sh*k*sp**r*\"\n",
        "\n",
        "\"\"\""
      ],
      "metadata": {
        "id": "j27WvEhvV3dR"
      },
      "execution_count": null,
      "outputs": []
    },
    {
      "cell_type": "code",
      "source": [
        "#Answer: \n",
        "def rep_vow(string,schr):\n",
        "  \"\"\" This function replaces all the vowels in a string with a specified character given as input \"\"\"\n",
        "  try:\n",
        "   l='AEIOUaeiou'\n",
        "   for i in l:\n",
        "     string=string.replace(i,schr)\n",
        "   return string\n",
        "  except:\n",
        "    print(\" Follow function guidlines for result \")\n",
        "  \n"
      ],
      "metadata": {
        "id": "uq908MdyXHEm"
      },
      "execution_count": 39,
      "outputs": []
    },
    {
      "cell_type": "code",
      "source": [
        "rep_vow(\"the aardvark\",\"#\")"
      ],
      "metadata": {
        "colab": {
          "base_uri": "https://localhost:8080/",
          "height": 35
        },
        "id": "pGklF7fYZAb1",
        "outputId": "f29cecf2-72ec-43dd-a570-531e8329ad25"
      },
      "execution_count": 40,
      "outputs": [
        {
          "output_type": "execute_result",
          "data": {
            "text/plain": [
              "'th# ##rdv#rk'"
            ],
            "application/vnd.google.colaboratory.intrinsic+json": {
              "type": "string"
            }
          },
          "metadata": {},
          "execution_count": 40
        }
      ]
    },
    {
      "cell_type": "code",
      "source": [
        "rep_vow(\"minnie mouse\",\"?\")"
      ],
      "metadata": {
        "colab": {
          "base_uri": "https://localhost:8080/",
          "height": 35
        },
        "id": "alau0BXfZFxI",
        "outputId": "1b098569-f58e-4c6d-b8e4-383bb6a867fc"
      },
      "execution_count": 41,
      "outputs": [
        {
          "output_type": "execute_result",
          "data": {
            "text/plain": [
              "'m?nn?? m??s?'"
            ],
            "application/vnd.google.colaboratory.intrinsic+json": {
              "type": "string"
            }
          },
          "metadata": {},
          "execution_count": 41
        }
      ]
    },
    {
      "cell_type": "code",
      "source": [
        "rep_vow(\"shakespeare\",\"*\")"
      ],
      "metadata": {
        "colab": {
          "base_uri": "https://localhost:8080/",
          "height": 35
        },
        "id": "iwEPBetdZiJB",
        "outputId": "6f34e84f-c2ab-40fb-d7af-2b5a07de4c7a"
      },
      "execution_count": 42,
      "outputs": [
        {
          "output_type": "execute_result",
          "data": {
            "text/plain": [
              "'sh*k*sp**r*'"
            ],
            "application/vnd.google.colaboratory.intrinsic+json": {
              "type": "string"
            }
          },
          "metadata": {},
          "execution_count": 42
        }
      ]
    },
    {
      "cell_type": "code",
      "source": [
        "# Quest-4: Write a function that calculates the factorial of a number recursively.\n",
        "\"\"\"\n",
        "Examples\n",
        "factorial(5) ➞ 120\n",
        "factorial(3) ➞ 6\n",
        "factorial(1) ➞ 1\n",
        "factorial(0) ➞ 1\n",
        "\n",
        "\"\"\""
      ],
      "metadata": {
        "id": "ucMrRaGPZmRP"
      },
      "execution_count": 42,
      "outputs": []
    },
    {
      "cell_type": "code",
      "source": [
        "#Answer: \n",
        "def fact(n):\n",
        "  \"\"\" function that calculates the factorial of a number recursively \"\"\"\n",
        "  if n>=0:\n",
        "   a=1\n",
        "   for i in range(1,n+1):\n",
        "     a=a*i\n",
        "   return a\n",
        "  else:\n",
        "    print(\"Inter natural numbers only\")\n"
      ],
      "metadata": {
        "id": "kzbJLqflaLO9"
      },
      "execution_count": 61,
      "outputs": []
    },
    {
      "cell_type": "code",
      "source": [
        "fact(5)"
      ],
      "metadata": {
        "colab": {
          "base_uri": "https://localhost:8080/"
        },
        "id": "gUULkfJRa1Wy",
        "outputId": "9fd36c2b-7332-4fc3-964c-9797be23cedc"
      },
      "execution_count": 64,
      "outputs": [
        {
          "output_type": "execute_result",
          "data": {
            "text/plain": [
              "120"
            ]
          },
          "metadata": {},
          "execution_count": 64
        }
      ]
    },
    {
      "cell_type": "code",
      "source": [
        "#Quest-5: \n",
        "\"\"\"\n",
        "Hamming distance is the number of characters that differ between two strings.\n",
        "To illustrate:\n",
        "\n",
        "String1: \"abcbba\"\n",
        "String2: \"abcbda\"\n",
        "\n",
        "Hamming Distance: 1 - \"b\" vs. \"d\" is the only difference.\n",
        "\n",
        "Create a function that computes the hamming distance between two strings.\n",
        "\n",
        "Examples\n",
        "hamming_distance(\"abcde\", \"bcdef\") ➞ 5\n",
        "\n",
        "hamming_distance(\"abcde\", \"abcde\") ➞ 0\n",
        "\n",
        "hamming_distance(\"strong\", \"strung\") ➞ 1\n",
        "\n",
        "\"\"\""
      ],
      "metadata": {
        "id": "smLQbiXObux6"
      },
      "execution_count": null,
      "outputs": []
    },
    {
      "cell_type": "code",
      "source": [
        "#Answer: \n",
        "def ham_dis(s1,s2):\n",
        "  \"\"\" The funtion return hamming distance, enter input like :  \"abcde\", \"bcdef\".   \"\"\"\n",
        "  try:\n",
        "   a=0\n",
        "   for i in range(len(s1)):\n",
        "     if s1[i]!=s2[i]:\n",
        "       a=a+1\n",
        "   return a\n",
        "  except:\n",
        "    print(\"Enter input as per instruction \")"
      ],
      "metadata": {
        "id": "SRRGuP68dEfx"
      },
      "execution_count": 75,
      "outputs": []
    },
    {
      "cell_type": "code",
      "source": [
        "ham_dis(\"abcde\", \"bcdef\")"
      ],
      "metadata": {
        "colab": {
          "base_uri": "https://localhost:8080/"
        },
        "id": "CZh7HzBLeJou",
        "outputId": "e78f82ab-daa2-40f9-9a2a-333ce5cc34ac"
      },
      "execution_count": 76,
      "outputs": [
        {
          "output_type": "execute_result",
          "data": {
            "text/plain": [
              "5"
            ]
          },
          "metadata": {},
          "execution_count": 76
        }
      ]
    },
    {
      "cell_type": "code",
      "source": [
        "ham_dis(\"abcde\", \"abcde\")"
      ],
      "metadata": {
        "colab": {
          "base_uri": "https://localhost:8080/"
        },
        "id": "UTP-9buleKer",
        "outputId": "b9817cf8-4787-4354-f80d-0cbb4ed0f086"
      },
      "execution_count": 77,
      "outputs": [
        {
          "output_type": "execute_result",
          "data": {
            "text/plain": [
              "0"
            ]
          },
          "metadata": {},
          "execution_count": 77
        }
      ]
    },
    {
      "cell_type": "code",
      "source": [
        "ham_dis(\"strong\", \"strung\")"
      ],
      "metadata": {
        "colab": {
          "base_uri": "https://localhost:8080/"
        },
        "id": "60tpXjwyhHh4",
        "outputId": "0836a497-ef2d-4bda-a0d6-568b1f4eb7fe"
      },
      "execution_count": 78,
      "outputs": [
        {
          "output_type": "execute_result",
          "data": {
            "text/plain": [
              "1"
            ]
          },
          "metadata": {},
          "execution_count": 78
        }
      ]
    },
    {
      "cell_type": "code",
      "source": [
        ""
      ],
      "metadata": {
        "id": "uA3zco1jhMh1"
      },
      "execution_count": 78,
      "outputs": []
    }
  ]
}