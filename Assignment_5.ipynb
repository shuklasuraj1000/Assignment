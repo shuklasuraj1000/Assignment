{
  "nbformat": 4,
  "nbformat_minor": 0,
  "metadata": {
    "colab": {
      "name": "Untitled36.ipynb",
      "provenance": [],
      "collapsed_sections": []
    },
    "kernelspec": {
      "name": "python3",
      "display_name": "Python 3"
    },
    "language_info": {
      "name": "python"
    }
  },
  "cells": [
    {
      "cell_type": "code",
      "execution_count": 2,
      "metadata": {
        "colab": {
          "base_uri": "https://localhost:8080/"
        },
        "id": "TCal7_DVv-qV",
        "outputId": "94216dda-9b69-43de-b21b-1744e3728991"
      },
      "outputs": [
        {
          "output_type": "execute_result",
          "data": {
            "text/plain": [
              "dict"
            ]
          },
          "metadata": {},
          "execution_count": 2
        }
      ],
      "source": [
        "#Quest-1: What does an empty dictionary's code look like?\n",
        "#Answer: \n",
        "d={}\n",
        "type(d)"
      ]
    },
    {
      "cell_type": "code",
      "source": [
        "#Quest-2: What is the value of a dictionary value with the key 'foo' and the value 42?\n",
        "#Answer:\n",
        "d={'foo':42}\n",
        "d.values()"
      ],
      "metadata": {
        "colab": {
          "base_uri": "https://localhost:8080/"
        },
        "id": "tdNtXF6rFYYB",
        "outputId": "ffa3069d-b748-4cc3-c08d-5c344e0b4895"
      },
      "execution_count": 4,
      "outputs": [
        {
          "output_type": "execute_result",
          "data": {
            "text/plain": [
              "dict_values([42])"
            ]
          },
          "metadata": {},
          "execution_count": 4
        }
      ]
    },
    {
      "cell_type": "code",
      "source": [
        "#Quest-3: What is the most significant distinction between a dictionary and a list?\n",
        "#Answer: \n",
        "# LIST:\n",
        "\"\"\"\n",
        "Lists are just like the arrays, declared in other languages. Lists need not be homogeneous always which makes it a most powerful tool in Python. \n",
        "A single list may contain DataTypes like Integers, Strings, as well as Objects. Lists are mutable, and hence, they can be altered even after their creation\n",
        "\n",
        "\"\"\"\n",
        "#DICTINCTION: \n",
        "\"\"\"in Python on the other hand is an unordered collection of data values, used to store data values like a map, \n",
        "which unlike other Data Types that hold only single value as an element, Dictionary holds key:value pair. Key-value is provided \n",
        "in the dictionary to make it more optimized. Each key-value pair in a Dictionary is separated by a colon :, whereas each key is separated by a ‘comma’.\"\"\"\n"
      ],
      "metadata": {
        "id": "2NUhi3qEF3rU"
      },
      "execution_count": null,
      "outputs": []
    },
    {
      "cell_type": "code",
      "source": [
        "#Quest-4: What happens if you try to access spam['foo'] if spam is {bar: 100}?\n",
        "#Answer: \n",
        "spam={'bar':100}\n",
        "spam['foo']\n",
        "\n",
        "#>>>> KeyError will generate, there is no key with name 'foo' in the dictionary spam."
      ],
      "metadata": {
        "colab": {
          "base_uri": "https://localhost:8080/",
          "height": 200
        },
        "id": "HYvNS-dive5I",
        "outputId": "d1e7a75e-365b-46a9-b7cc-3ac3b82c78c7"
      },
      "execution_count": 2,
      "outputs": [
        {
          "output_type": "error",
          "ename": "KeyError",
          "evalue": "ignored",
          "traceback": [
            "\u001b[0;31m---------------------------------------------------------------------------\u001b[0m",
            "\u001b[0;31mKeyError\u001b[0m                                  Traceback (most recent call last)",
            "\u001b[0;32m<ipython-input-2-a116802ddbb0>\u001b[0m in \u001b[0;36m<module>\u001b[0;34m()\u001b[0m\n\u001b[1;32m      2\u001b[0m \u001b[0;31m#Answer:\u001b[0m\u001b[0;34m\u001b[0m\u001b[0;34m\u001b[0m\u001b[0;34m\u001b[0m\u001b[0m\n\u001b[1;32m      3\u001b[0m \u001b[0mspam\u001b[0m\u001b[0;34m=\u001b[0m\u001b[0;34m{\u001b[0m\u001b[0;34m'bar'\u001b[0m\u001b[0;34m:\u001b[0m\u001b[0;36m100\u001b[0m\u001b[0;34m}\u001b[0m\u001b[0;34m\u001b[0m\u001b[0;34m\u001b[0m\u001b[0m\n\u001b[0;32m----> 4\u001b[0;31m \u001b[0mspam\u001b[0m\u001b[0;34m[\u001b[0m\u001b[0;34m'foo'\u001b[0m\u001b[0;34m]\u001b[0m\u001b[0;34m\u001b[0m\u001b[0;34m\u001b[0m\u001b[0m\n\u001b[0m",
            "\u001b[0;31mKeyError\u001b[0m: 'foo'"
          ]
        }
      ]
    },
    {
      "cell_type": "code",
      "source": [
        "# Quest-5: If a dictionary is stored in spam, what is the difference between the expressions 'cat' in spam and 'cat' in spam.keys()?\n",
        "# Answer: There will be no difference.\n",
        "spam={'cat':12345}\n",
        "'cat' in spam                 # searching expression in keys."
      ],
      "metadata": {
        "colab": {
          "base_uri": "https://localhost:8080/"
        },
        "id": "pMcYAaQlxkZm",
        "outputId": "f1561f55-8cb5-4fd9-be64-2a33ff6a9a32"
      },
      "execution_count": 10,
      "outputs": [
        {
          "output_type": "execute_result",
          "data": {
            "text/plain": [
              "True"
            ]
          },
          "metadata": {},
          "execution_count": 10
        }
      ]
    },
    {
      "cell_type": "code",
      "source": [
        "'cat' in spam.keys()"
      ],
      "metadata": {
        "colab": {
          "base_uri": "https://localhost:8080/"
        },
        "id": "gskmqw6YyzOD",
        "outputId": "5e28b234-7047-47fd-8876-5ac248d7de6d"
      },
      "execution_count": 11,
      "outputs": [
        {
          "output_type": "execute_result",
          "data": {
            "text/plain": [
              "True"
            ]
          },
          "metadata": {},
          "execution_count": 11
        }
      ]
    },
    {
      "cell_type": "code",
      "source": [
        "# Quest-6: If a dictionary is stored in spam, what is the difference between the expressions ('cat' in spam) and ('cat' in spam.values())\n",
        "# Answer:\n",
        "spam={'cat':12345}\n",
        "'cat' in spam"
      ],
      "metadata": {
        "colab": {
          "base_uri": "https://localhost:8080/"
        },
        "id": "Kkuz9WIs1Atd",
        "outputId": "2d1a43e5-c595-4ed3-b0c7-90276348a840"
      },
      "execution_count": 12,
      "outputs": [
        {
          "output_type": "execute_result",
          "data": {
            "text/plain": [
              "True"
            ]
          },
          "metadata": {},
          "execution_count": 12
        }
      ]
    },
    {
      "cell_type": "code",
      "source": [
        "'cat' in spam.values()                 # searching expression in values, and there is no such value 'cat'"
      ],
      "metadata": {
        "colab": {
          "base_uri": "https://localhost:8080/"
        },
        "id": "ufW11WGT1mc9",
        "outputId": "d87dc605-ab64-456a-bda1-da30977e065e"
      },
      "execution_count": 13,
      "outputs": [
        {
          "output_type": "execute_result",
          "data": {
            "text/plain": [
              "False"
            ]
          },
          "metadata": {},
          "execution_count": 13
        }
      ]
    },
    {
      "cell_type": "code",
      "source": [
        "# Quest-7: What is a shortcut for the following code?\n",
        "\"\"\"\n",
        "if 'color' not in spam:\n",
        "spam['color] = 'black'\n",
        "\n",
        "\"\"\""
      ],
      "metadata": {
        "id": "IRmbyDTS1rw6"
      },
      "execution_count": null,
      "outputs": []
    },
    {
      "cell_type": "code",
      "source": [
        "#Answer:\n",
        "spam ={'cat':100}\n",
        "if 'color' not in spam:\n",
        "  spam.setdefault('color','black')\n",
        "spam"
      ],
      "metadata": {
        "colab": {
          "base_uri": "https://localhost:8080/"
        },
        "id": "OJktPiCl3UUV",
        "outputId": "c418b69a-265b-453b-93f2-7675e137e20e"
      },
      "execution_count": 16,
      "outputs": [
        {
          "output_type": "execute_result",
          "data": {
            "text/plain": [
              "{'cat': 100, 'color': 'black'}"
            ]
          },
          "metadata": {},
          "execution_count": 16
        }
      ]
    },
    {
      "cell_type": "code",
      "source": [
        "\n",
        "# Quest-8: How do you \"pretty print\" dictionary values using which module and function?\n",
        "# Answer: pprint module\n",
        "import pprint\n",
        "\"\"\"\n",
        "The pprint module provides a capability to “pretty-print” arbitrary Python data structures \n",
        "in a form which can be used as input to the interpreter.\"\"\""
      ],
      "metadata": {
        "id": "6z5DG0SV3WWa"
      },
      "execution_count": null,
      "outputs": []
    },
    {
      "cell_type": "code",
      "source": [
        ""
      ],
      "metadata": {
        "id": "_nEKKpMv4HDZ"
      },
      "execution_count": null,
      "outputs": []
    }
  ]
}