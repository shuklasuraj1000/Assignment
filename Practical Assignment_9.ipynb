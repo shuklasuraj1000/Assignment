{
  "nbformat": 4,
  "nbformat_minor": 0,
  "metadata": {
    "colab": {
      "name": "Untitled28.ipynb",
      "provenance": [],
      "collapsed_sections": []
    },
    "kernelspec": {
      "name": "python3",
      "display_name": "Python 3"
    },
    "language_info": {
      "name": "python"
    }
  },
  "cells": [
    {
      "cell_type": "code",
      "execution_count": null,
      "metadata": {
        "id": "yMGA8EEY-Lmb"
      },
      "outputs": [],
      "source": [
        "#Disarium test program\n",
        "def test_disar(a):\n",
        " j=1\n",
        " b=0\n",
        " for i in (str(a)):\n",
        "   b=b+int(i)**j\n",
        "   j=j+1\n",
        " return b"
      ]
    },
    {
      "cell_type": "code",
      "source": [
        "# Happy number program for future use.\n",
        "def test_happy(e):\n",
        "  f=10\n",
        "  n=e\n",
        "  while f>9:\n",
        "   f=0\n",
        "   for i in (str(e)):\n",
        "    f=f+int(i)**2\n",
        "    e=f\n",
        "    f=f\n",
        "  return f"
      ],
      "metadata": {
        "id": "Z1MkxweY4lhw"
      },
      "execution_count": 16,
      "outputs": []
    },
    {
      "cell_type": "code",
      "source": [
        "# Finding pronic number program for future use.\n",
        "def pronic_num(a):    \n",
        "    b=False     \n",
        "    for j in range(1,a+1):    \n",
        "        #Checks for pronic number by multiplying consecutive numbers    \n",
        "        if(j*(j+1))==a:    \n",
        "            b=True  \n",
        "            break    \n",
        "    return b"
      ],
      "metadata": {
        "id": "CpZA_RzW7ZVw"
      },
      "execution_count": 45,
      "outputs": []
    },
    {
      "cell_type": "code",
      "source": [
        "#Quest-1: Write a Python program to check if the given number is a Disarium Number?\n",
        "#Answer:\n",
        "a=int(input(\"Enter a positive number : \"))\n",
        "c=test_disar(a)\n",
        "if c==a:\n",
        "  print(\"Entered number {} is Disarium\".format(a))\n",
        "else:\n",
        "  print(\"Entered number {} is not Disarium\".format(a))"
      ],
      "metadata": {
        "colab": {
          "base_uri": "https://localhost:8080/"
        },
        "id": "dUtk7TskD6Eb",
        "outputId": "085294f6-bf5c-49e4-9e47-9cc521fafbf4"
      },
      "execution_count": null,
      "outputs": [
        {
          "output_type": "stream",
          "name": "stdout",
          "text": [
            "Enter a positive number : 89\n",
            "Entered number 89 is Disarium\n"
          ]
        }
      ]
    },
    {
      "cell_type": "code",
      "source": [
        "#Quest-2: Write a Python program to print all disarium numbers between 1 to 100?\n",
        "#Answer:\n",
        "l=[]\n",
        "for i in range(1,101):\n",
        "  a=test_disar(i)\n",
        "  if a==i:\n",
        "    l.append(i)\n",
        "  else:\n",
        "    pass\n",
        "print(l)"
      ],
      "metadata": {
        "id": "FSuEOZEMDgi6",
        "colab": {
          "base_uri": "https://localhost:8080/"
        },
        "outputId": "a980f2b4-11b8-4b7c-92a3-23143cf35e25"
      },
      "execution_count": null,
      "outputs": [
        {
          "output_type": "stream",
          "name": "stdout",
          "text": [
            "[1, 2, 3, 4, 5, 6, 7, 8, 9, 89]\n"
          ]
        }
      ]
    },
    {
      "cell_type": "code",
      "source": [
        "#Quest-3: Write a Python program to check if the given number is Happy Number?\n",
        "#Answer:\n",
        "e=int(input(\"Enter a positive number : \"))\n",
        "test_happy(e)                                             # Calling predefined function test_happy(e)\n",
        "f=test_happy(e)\n",
        "if f==1:\n",
        "  print(\"Given number {} is a Happy number\".format(e))\n",
        "else:\n",
        " print(\"Given number {} is not a Happy number\".format(e))\n"
      ],
      "metadata": {
        "id": "HPc9xQn03eRt",
        "colab": {
          "base_uri": "https://localhost:8080/"
        },
        "outputId": "0a1f08b5-0c3c-4ea1-95e0-2a574e89c335"
      },
      "execution_count": 28,
      "outputs": [
        {
          "output_type": "stream",
          "name": "stdout",
          "text": [
            "Enter a positive number : 49\n",
            "Given number 49 is a Happy number\n"
          ]
        }
      ]
    },
    {
      "cell_type": "code",
      "source": [
        "#Quest-4: Write a Python program to print all happy numbers between 1 and 100?\n",
        "#Answer:\n",
        "l=[]\n",
        "for e in range(1,101):\n",
        "  test_happy(e)\n",
        "  a=test_happy(e)\n",
        "  if a==1:\n",
        "    l.append(e)\n",
        "  else:\n",
        "    pass\n",
        "print(l)                     # Result can be validate with Quest-3.\n"
      ],
      "metadata": {
        "id": "9yWwMPQiGu3k",
        "colab": {
          "base_uri": "https://localhost:8080/"
        },
        "outputId": "4007a587-9c97-4f9b-dcb1-26d4f1d13c2f"
      },
      "execution_count": 23,
      "outputs": [
        {
          "output_type": "stream",
          "name": "stdout",
          "text": [
            "[1, 7, 10, 13, 19, 23, 28, 31, 32, 44, 49, 68, 70, 79, 82, 86, 91, 94, 97, 100]\n"
          ]
        }
      ]
    },
    {
      "cell_type": "code",
      "source": [
        "#Quest-5: Write a Python program to determine whether the given number is a Harshad Number?\n",
        "#Answer:\n",
        "q=str(input(\"Enter a positive number : \"))\n",
        "n=0\n",
        "for i in q:\n",
        "  n=n+int(i)\n",
        "if int(q)%n==0:\n",
        "  print(\"Given number {} is Harsad number.\".format(q))\n",
        "else:\n",
        "  print(\"Given number {} is not Harsad number.\".format(q))\n"
      ],
      "metadata": {
        "id": "CUsi7orUG7Uy",
        "colab": {
          "base_uri": "https://localhost:8080/"
        },
        "outputId": "7f33953c-2044-4612-d340-7c1b3b1600c0"
      },
      "execution_count": 40,
      "outputs": [
        {
          "output_type": "stream",
          "name": "stdout",
          "text": [
            "Enter a positive number : 54\n",
            "Given number 54 is Harsad number.\n"
          ]
        }
      ]
    },
    {
      "cell_type": "code",
      "source": [
        "#Quest-6: Write a Python program to print all pronic numbers between 1 and 100?\n",
        "l=[]\n",
        "for a in range(1,101):\n",
        "  pronic_num(a)\n",
        "  b=pronic_num(a)\n",
        "  if b==True:\n",
        "    l.append(a)\n",
        "  else:\n",
        "    pass\n",
        "print(l)              "
      ],
      "metadata": {
        "id": "h7_b35gMG7nR",
        "colab": {
          "base_uri": "https://localhost:8080/"
        },
        "outputId": "7cf127d1-fb71-4984-e513-01ac22d403c3"
      },
      "execution_count": 47,
      "outputs": [
        {
          "output_type": "stream",
          "name": "stdout",
          "text": [
            "[2, 6, 12, 20, 30, 42, 56, 72, 90]\n"
          ]
        }
      ]
    },
    {
      "cell_type": "code",
      "source": [
        ""
      ],
      "metadata": {
        "id": "Xiw3WKGnEv-_"
      },
      "execution_count": null,
      "outputs": []
    }
  ]
}