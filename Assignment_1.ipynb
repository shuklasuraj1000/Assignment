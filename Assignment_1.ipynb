{
  "nbformat": 4,
  "nbformat_minor": 0,
  "metadata": {
    "colab": {
      "name": "Untitled12.ipynb",
      "provenance": [],
      "collapsed_sections": []
    },
    "kernelspec": {
      "name": "python3",
      "display_name": "Python 3"
    },
    "language_info": {
      "name": "python"
    }
  },
  "cells": [
    {
      "cell_type": "code",
      "source": [
        "#Ques-1:In the below elements which of them are values or an expression? eg:- values can be integer or string and expressions will be mathematical operators.* \n",
        "#       'hello'\n",
        "#       -87.8\n",
        "#       - \n",
        "#       / \n",
        "#       +\t\n",
        "#       6 \n",
        "#Answer: Values: ‘hello’, -87.8, 6; Expression: * , - , / , +\n",
        "\n",
        "#Ques-2: What is the difference between string and variable?\n",
        "#Answer: String: Anything we assign to a variable using quotes (single or double) will be considered as a string. Eg. ‘HGS_@123’ or “jsjkaa”\n",
        "#        Variable: A Variable stores information. Information can be a value\n",
        "#                  X = “sds”   X= 123    X= 1.2     X= [123, ‘DD’, ‘S1@’]\n",
        "#        In above shown example X is a variable which is storing variety of information.\n",
        "\n",
        "#Ques-3: Describe three different data types.\n",
        "#Answer: Integer (ex. 1) , float (ex. 1.23) and Boolean (True , False)\n",
        "\n",
        "#Ques-4: What is an expression made up of? What do all expressions do?\n",
        "#Answer: Expression: An expression is a combination of operators and operands that is interpreted to produce some other value.\n",
        "#        Ex.L = a + b * c \n",
        "#        In above shown expression a, b, c are operands and ‘+’ and ‘*’ is operator. And L is a variable to store value of expression. \n",
        "\n",
        "#Ques-5: This assignment statements, like spam = 10. What is the difference between an expression and a statement?\n",
        "#Answer: expression: it is a combination of values and functions that are combined and interpreted by the compiler to create a new value.\n",
        "#        Ex: a=10*15/2\n",
        "#       Statement: A Statement is the smallest executable unit of code that has an effect, like creating a variable or displaying a value\n",
        "#        Ex: spam=10, a=\"abc\", b=10\n",
        "\n",
        "#Ques-6: After running the following code, what does the variable bacon contain?\n",
        "#        bacon = 22\n",
        "#        bacon + 1\n",
        "\n",
        "#Answer: 23\n",
        "bacon=22\n",
        "bacon+1"
      ],
      "metadata": {
        "colab": {
          "base_uri": "https://localhost:8080/"
        },
        "id": "XgFcwBc0lY-R",
        "outputId": "d22b46bf-4164-4bde-bfa2-6de6d19a800a"
      },
      "execution_count": 19,
      "outputs": [
        {
          "output_type": "execute_result",
          "data": {
            "text/plain": [
              "23"
            ]
          },
          "metadata": {},
          "execution_count": 19
        }
      ]
    },
    {
      "cell_type": "code",
      "source": [
        "#Ques-7: What should the values of the following two terms be?\n",
        "#        'spam' + 'spamspam'\n",
        "#        'spam' * 3\n",
        "#Answer: In both cases answer will be ‘spamspamspam’\n",
        "print('spam' + 'spamspam')\n",
        "print('spam' * 3)\n"
      ],
      "metadata": {
        "colab": {
          "base_uri": "https://localhost:8080/"
        },
        "id": "iE180lI0l0DF",
        "outputId": "fb44b90a-e65c-4b94-a89b-98590a5e9cb2"
      },
      "execution_count": 13,
      "outputs": [
        {
          "output_type": "stream",
          "name": "stdout",
          "text": [
            "spamspamspam\n",
            "spamspamspam\n"
          ]
        }
      ]
    },
    {
      "cell_type": "code",
      "source": [
        "#Ques-8: Why is eggs a valid variable name while 100 is invalid?\n",
        "#Answer: A variable name can’t start with a number that is why 100 can’t be a variable. If we start like x100, now it can be a valid variable.\n",
        "# any number int/float will have a fix value. we can't say 100 value will be 200.\n",
        "\n",
        "\n",
        "#Ques-9: What three functions can be used to get the integer, floating-point number, or string version of a value?\n",
        "#Answer: int()   float()   str()\n",
        "\n",
        "\n",
        "#Ques-10: Why does this expression cause an error? How can you fix it?\n",
        "#        'I have eaten ' + 99 + ' burritos.'\n",
        "#Answer: To add it, change 99 data type from integer to string.\n",
        "print('I have eaten ' + str(99) + ' burritos.')"
      ],
      "metadata": {
        "colab": {
          "base_uri": "https://localhost:8080/"
        },
        "id": "IC3Lg5ibpQHF",
        "outputId": "2609234b-bce8-4497-d3ca-7f9099ce3504"
      },
      "execution_count": 15,
      "outputs": [
        {
          "output_type": "stream",
          "name": "stdout",
          "text": [
            "I have eaten 99 burritos.\n"
          ]
        }
      ]
    },
    {
      "cell_type": "code",
      "source": [
        "# NOTE: we can’t change string to integer int(‘I have eaten’)  is not possible."
      ],
      "metadata": {
        "id": "PZ_tWNJTqoWK"
      },
      "execution_count": null,
      "outputs": []
    }
  ]
}