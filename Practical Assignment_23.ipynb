{
  "nbformat": 4,
  "nbformat_minor": 0,
  "metadata": {
    "colab": {
      "name": "Untitled56.ipynb",
      "provenance": [],
      "collapsed_sections": []
    },
    "kernelspec": {
      "name": "python3",
      "display_name": "Python 3"
    },
    "language_info": {
      "name": "python"
    }
  },
  "cells": [
    {
      "cell_type": "code",
      "execution_count": null,
      "metadata": {
        "id": "so-_nhOA7fxB"
      },
      "outputs": [],
      "source": [
        "#Quest-1:\n",
        "\"\"\"\n",
        "Create a function that takes a number as an argument and returns True or False depending on \n",
        "whether the number is symmetrical or not. A number is symmetrical when it is the same as its reverse.\n",
        "\n",
        "Examples\n",
        "is_symmetrical(7227) ➞ True\n",
        "\n",
        "is_symmetrical(12567) ➞ False\n",
        "\n",
        "is_symmetrical(44444444) ➞ True\n",
        "\n",
        "is_symmetrical(9939) ➞ False\n",
        "\n",
        "is_symmetrical(1112111) ➞ True\n",
        "\n",
        "\"\"\""
      ]
    },
    {
      "cell_type": "code",
      "source": [
        "#Answer:\n",
        "def is_sym(n):\n",
        "  \"\"\" This function will test symetry in the given number\"\"\"\n",
        "  n=str(n)\n",
        "  if len(n)>=4:\n",
        "   l=[]\n",
        "   for i in n:\n",
        "     l.append(i)\n",
        "   n=round(len(l)/2)+1\n",
        "   l1=l[:n]\n",
        "   l2=l[n:]\n",
        "   for i in range(len(l2)):\n",
        "     if l1[i]==l2[i]:\n",
        "       continue\n",
        "     else:\n",
        "       return False\n",
        "       break\n",
        "   return True\n",
        "  else:\n",
        "    return \"Enter only string or int value with min 4 chr in lenth\"\n"
      ],
      "metadata": {
        "id": "8dF4HOqwId25"
      },
      "execution_count": 36,
      "outputs": []
    },
    {
      "cell_type": "code",
      "source": [
        "is_sym(7227)"
      ],
      "metadata": {
        "colab": {
          "base_uri": "https://localhost:8080/"
        },
        "id": "JTnZBxCQL1Fr",
        "outputId": "09e23928-1aab-478c-a610-dfc7278fed53"
      },
      "execution_count": 37,
      "outputs": [
        {
          "output_type": "execute_result",
          "data": {
            "text/plain": [
              "True"
            ]
          },
          "metadata": {},
          "execution_count": 37
        }
      ]
    },
    {
      "cell_type": "code",
      "source": [
        "is_sym(12567)"
      ],
      "metadata": {
        "colab": {
          "base_uri": "https://localhost:8080/"
        },
        "id": "67CBZeSjM-Uy",
        "outputId": "d4418e7f-06f1-44ca-fe09-ccdb37eaf24b"
      },
      "execution_count": 38,
      "outputs": [
        {
          "output_type": "execute_result",
          "data": {
            "text/plain": [
              "False"
            ]
          },
          "metadata": {},
          "execution_count": 38
        }
      ]
    },
    {
      "cell_type": "code",
      "source": [
        "is_sym(44444444)"
      ],
      "metadata": {
        "colab": {
          "base_uri": "https://localhost:8080/"
        },
        "id": "lzxORFKPNUMJ",
        "outputId": "819aacbe-79de-41ca-844a-75643947c67e"
      },
      "execution_count": 39,
      "outputs": [
        {
          "output_type": "execute_result",
          "data": {
            "text/plain": [
              "True"
            ]
          },
          "metadata": {},
          "execution_count": 39
        }
      ]
    },
    {
      "cell_type": "code",
      "source": [
        "#Quest-2:\n",
        "\"\"\"\n",
        "numbers.\n",
        "Examples\n",
        "multiply_nums(\"2, 3\") ➞ 6\n",
        "\n",
        "multiply_nums(\"1, 2, 3, 4\") ➞ 24\n",
        "\n",
        "multiply_nums(\"54, 75, 453, 0\") ➞ 0\n",
        "\n",
        "multiply_nums(\"10, -2\") ➞ -20\n",
        "\n",
        "\"\"\""
      ],
      "metadata": {
        "id": "I6CW6HjWO7jJ"
      },
      "execution_count": null,
      "outputs": []
    },
    {
      "cell_type": "code",
      "source": [
        "#Answer:\n",
        "def mult(s):\n",
        "  \"\"\"This function will return multiplication value\"\"\"\n",
        "  try:\n",
        "   s=s.split(',')\n",
        "   a=[int(i) for i in s]\n",
        "   n=1\n",
        "   for i in a:\n",
        "     n=n*i\n",
        "   return n\n",
        "  except:\n",
        "    return \"Enter string only with integrs\"\n"
      ],
      "metadata": {
        "id": "XMsd1VvDYYDr"
      },
      "execution_count": 91,
      "outputs": []
    },
    {
      "cell_type": "code",
      "source": [
        "mult(\"2, 3\")"
      ],
      "metadata": {
        "colab": {
          "base_uri": "https://localhost:8080/"
        },
        "id": "e5zPJ_1ogo16",
        "outputId": "cb3e00e1-418a-4259-b162-84193a56405e"
      },
      "execution_count": 93,
      "outputs": [
        {
          "output_type": "execute_result",
          "data": {
            "text/plain": [
              "6"
            ]
          },
          "metadata": {},
          "execution_count": 93
        }
      ]
    },
    {
      "cell_type": "code",
      "source": [
        "mult(\"54, 75, 453, 0\")"
      ],
      "metadata": {
        "colab": {
          "base_uri": "https://localhost:8080/"
        },
        "id": "5YB0DoG2jUeF",
        "outputId": "f9de0d59-5118-4e9f-9836-2e5370e0f16d"
      },
      "execution_count": 94,
      "outputs": [
        {
          "output_type": "execute_result",
          "data": {
            "text/plain": [
              "0"
            ]
          },
          "metadata": {},
          "execution_count": 94
        }
      ]
    },
    {
      "cell_type": "code",
      "source": [
        "mult(\"10, -2\")"
      ],
      "metadata": {
        "colab": {
          "base_uri": "https://localhost:8080/"
        },
        "id": "i-XPMczLkO8z",
        "outputId": "0c5bfb92-dd43-4ea4-8703-638d173b782e"
      },
      "execution_count": 95,
      "outputs": [
        {
          "output_type": "execute_result",
          "data": {
            "text/plain": [
              "-20"
            ]
          },
          "metadata": {},
          "execution_count": 95
        }
      ]
    },
    {
      "cell_type": "code",
      "source": [
        "#Quest-3:\n",
        "\"\"\"\n",
        "Create a function that squares every digit of a number.\n",
        "\n",
        "Examples\n",
        "square_digits(9119) ➞ 811181\n",
        "\n",
        "square_digits(2483) ➞ 416649\n",
        "\n",
        "square_digits(3212) ➞ 9414\n",
        "Notes\n",
        "The function receives an integer and must return an integer.\n",
        "\n",
        "\"\"\""
      ],
      "metadata": {
        "id": "6BiKVmVnkU4f"
      },
      "execution_count": null,
      "outputs": []
    },
    {
      "cell_type": "code",
      "source": [
        "#Answer:\n",
        "def digi_sqr(n):\n",
        "  \"\"\"This function will squre digits in a number\"\"\"\n",
        "  n=str(n)\n",
        "  for i in n:\n",
        "    yield int(i)**2\n"
      ],
      "metadata": {
        "id": "NEdJED4BnkSW"
      },
      "execution_count": 112,
      "outputs": []
    },
    {
      "cell_type": "code",
      "source": [
        "for i in digi_sqr(9119):\n",
        "  print(i,end=\"\")"
      ],
      "metadata": {
        "colab": {
          "base_uri": "https://localhost:8080/"
        },
        "id": "rN1QXkJXoAbd",
        "outputId": "492d8649-447a-4851-8479-624e6bf6d5e6"
      },
      "execution_count": 113,
      "outputs": [
        {
          "output_type": "stream",
          "name": "stdout",
          "text": [
            "811181"
          ]
        }
      ]
    },
    {
      "cell_type": "code",
      "source": [
        "for i in digi_sqr(2483):\n",
        "  print(i,end=\"\")"
      ],
      "metadata": {
        "colab": {
          "base_uri": "https://localhost:8080/"
        },
        "id": "fKjGtBsroHij",
        "outputId": "61970929-1114-4340-eaab-c3f25031fe3f"
      },
      "execution_count": 114,
      "outputs": [
        {
          "output_type": "stream",
          "name": "stdout",
          "text": [
            "416649"
          ]
        }
      ]
    },
    {
      "cell_type": "code",
      "source": [
        "#Quest-4:\n",
        "\"\"\"\n",
        "Create a function that sorts a list and removes all duplicate items from it.\n",
        "\n",
        "Examples\n",
        "setify([1, 3, 3, 5, 5]) ➞ [1, 3, 5]\n",
        "\n",
        "setify([4, 4, 4, 4]) ➞ [4]\n",
        "\n",
        "setify([5, 7, 8, 9, 10, 15]) ➞ [5, 7, 8, 9, 10, 15]\n",
        "\n",
        "setify([3, 3, 3, 2, 1]) ➞ [1, 2, 3]\n",
        "\n",
        "\"\"\""
      ],
      "metadata": {
        "id": "jffvuYv1qXZv"
      },
      "execution_count": null,
      "outputs": []
    },
    {
      "cell_type": "code",
      "source": [
        "#Answer:\n",
        "def rem_dup(l):\n",
        "  l.sort()\n",
        "  a=set(l)\n",
        "  return [i for i in a]\n"
      ],
      "metadata": {
        "id": "dsdzHEaErxQ7"
      },
      "execution_count": 121,
      "outputs": []
    },
    {
      "cell_type": "code",
      "source": [
        "rem_dup([1, 3, 3, 5, 5])"
      ],
      "metadata": {
        "colab": {
          "base_uri": "https://localhost:8080/"
        },
        "id": "WVdy0cFusaq6",
        "outputId": "8fd02f09-7091-4f16-b52b-4eab66d20fc7"
      },
      "execution_count": 122,
      "outputs": [
        {
          "output_type": "execute_result",
          "data": {
            "text/plain": [
              "[1, 3, 5]"
            ]
          },
          "metadata": {},
          "execution_count": 122
        }
      ]
    },
    {
      "cell_type": "code",
      "source": [
        "rem_dup([4, 4, 4, 4])"
      ],
      "metadata": {
        "colab": {
          "base_uri": "https://localhost:8080/"
        },
        "id": "zspg8rSDsfMc",
        "outputId": "ee485aab-9e7f-4053-d75c-3261751a3d7d"
      },
      "execution_count": 123,
      "outputs": [
        {
          "output_type": "execute_result",
          "data": {
            "text/plain": [
              "[4]"
            ]
          },
          "metadata": {},
          "execution_count": 123
        }
      ]
    },
    {
      "cell_type": "code",
      "source": [
        "#Quest-5:\n",
        "\"\"\"\n",
        "Create a function that returns the mean of all digits.\n",
        "\n",
        "Examples\n",
        "mean(42) ➞ 3\n",
        "\n",
        "mean(12345) ➞ 3\n",
        "\n",
        "mean(666) ➞ 6\n",
        "\n",
        "Notes\n",
        "•\tThe mean of all digits is the sum of digits / how many digits there are (e.g. mean of digits in 512 is (5+1+2)/3(number of digits) = 8/3=2).\n",
        "•\tThe mean will always be an integer.\n",
        "\n",
        "\"\"\""
      ],
      "metadata": {
        "id": "KgUHuYI-s98B"
      },
      "execution_count": null,
      "outputs": []
    },
    {
      "cell_type": "code",
      "source": [
        "#Answer:\n",
        "def mean(n):\n",
        "  n=str(n)\n",
        "  a=0\n",
        "  for i in n:\n",
        "    a=a+int(i)\n",
        "  b=a/len(n)\n",
        "  return int(b)\n"
      ],
      "metadata": {
        "id": "cm4KPCJgyPZ1"
      },
      "execution_count": 128,
      "outputs": []
    },
    {
      "cell_type": "code",
      "source": [
        "mean(42)"
      ],
      "metadata": {
        "colab": {
          "base_uri": "https://localhost:8080/"
        },
        "id": "O6govC60y8n4",
        "outputId": "5c388053-bab0-4c23-9d73-2fb86f0cd5db"
      },
      "execution_count": 132,
      "outputs": [
        {
          "output_type": "execute_result",
          "data": {
            "text/plain": [
              "3"
            ]
          },
          "metadata": {},
          "execution_count": 132
        }
      ]
    },
    {
      "cell_type": "code",
      "source": [
        "mean(12345)"
      ],
      "metadata": {
        "colab": {
          "base_uri": "https://localhost:8080/"
        },
        "id": "F0ejzdumy-3A",
        "outputId": "7effeb88-1f2d-47e7-999a-85c0ce94f717"
      },
      "execution_count": 133,
      "outputs": [
        {
          "output_type": "execute_result",
          "data": {
            "text/plain": [
              "3"
            ]
          },
          "metadata": {},
          "execution_count": 133
        }
      ]
    },
    {
      "cell_type": "code",
      "source": [
        "mean(666)"
      ],
      "metadata": {
        "colab": {
          "base_uri": "https://localhost:8080/"
        },
        "id": "FUwYV7u0zsTX",
        "outputId": "c6267b81-174f-4a4b-cdd3-273d6cf7ead2"
      },
      "execution_count": 134,
      "outputs": [
        {
          "output_type": "execute_result",
          "data": {
            "text/plain": [
              "6"
            ]
          },
          "metadata": {},
          "execution_count": 134
        }
      ]
    },
    {
      "cell_type": "code",
      "source": [
        ""
      ],
      "metadata": {
        "id": "b8C4YfItzu83"
      },
      "execution_count": null,
      "outputs": []
    }
  ]
}