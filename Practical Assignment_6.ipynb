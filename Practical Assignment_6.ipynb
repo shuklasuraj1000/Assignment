{
  "nbformat": 4,
  "nbformat_minor": 0,
  "metadata": {
    "colab": {
      "name": "Untitled23.ipynb",
      "provenance": [],
      "collapsed_sections": []
    },
    "kernelspec": {
      "name": "python3",
      "display_name": "Python 3"
    },
    "language_info": {
      "name": "python"
    }
  },
  "cells": [
    {
      "cell_type": "code",
      "source": [
        "#Quest-1: Write a Python Program to Display Fibonacci Sequence Using Recursion?\n",
        "#Answer: creating a function for future use to generate fibonacci sequence.\n",
        "def rec_fibo(x):\n",
        "  if x<=1:\n",
        "    return x\n",
        "  else:\n",
        "    return (rec_fibo(x-1)+rec_fibo(x-2))\n"
      ],
      "metadata": {
        "id": "GNh-7dAUxy7y"
      },
      "execution_count": 3,
      "outputs": []
    },
    {
      "cell_type": "code",
      "source": [
        "# Calling function rec_fibo(x)\n",
        "n=int(input(\"Enter number of terms : \"))\n",
        "if n>0:\n",
        "  for i in range(n):\n",
        "    print(rec_fibo(i),end=\" \")\n",
        "else:\n",
        "  print(\"Enetr positive intergers only\")"
      ],
      "metadata": {
        "colab": {
          "base_uri": "https://localhost:8080/"
        },
        "id": "gsmA9C9N0PAs",
        "outputId": "33ae4d76-f9c6-4343-becf-a345e3684de3"
      },
      "execution_count": 7,
      "outputs": [
        {
          "output_type": "stream",
          "name": "stdout",
          "text": [
            "Enter number of terms : 15\n",
            "0 1 1 2 3 5 8 13 21 34 55 89 144 233 377 "
          ]
        }
      ]
    },
    {
      "cell_type": "code",
      "source": [
        "#Quest-2: Write a Python Program to Find Factorial of Number Using Recursion?\n",
        "#Answer: creating a function for future use to generate factorila of a number.\n",
        "def rec_fact(x):\n",
        "  if x==1:\n",
        "    return x\n",
        "  else:\n",
        "    return (x*rec_fact(x-1))\n",
        "\n",
        "\n",
        "# Calling function rec_fact(x)\n",
        "n=int(input(\"Enter the number : \"))\n",
        "if n>0:\n",
        "  for i in range(1,n+1):\n",
        "   factorial=rec_fact(i)\n",
        "  print(\"Factorial of\", n, \"is\", factorial)\n",
        "else:\n",
        "  print(\"Enter a number more than zero\")\n"
      ],
      "metadata": {
        "colab": {
          "base_uri": "https://localhost:8080/"
        },
        "id": "SFW1aOUc0SiO",
        "outputId": "c7460c11-a28e-4b54-9f89-08e8e1edb673"
      },
      "execution_count": 16,
      "outputs": [
        {
          "output_type": "stream",
          "name": "stdout",
          "text": [
            "Enter the number : 4\n",
            "Factorial of 4 is 24\n"
          ]
        }
      ]
    },
    {
      "cell_type": "code",
      "source": [
        "#Quest-3: Write a Python Program to calculate your Body Mass Index?\n",
        "#Answer: \n",
        "H=float(input(\"Enter your hight in cm : \"))\n",
        "W=float(input(\"Enter your weight in Kg : \"))\n",
        "if H>0 and W>0:\n",
        "  Body_Mass_Index=(W/(H/100)**2)\n",
        "  print(\"Your body mass index is \",Body_Mass_Index)\n",
        "else:\n",
        "  print(\"Enter correct data for height and mass, it should not be zero\")\n",
        "\n"
      ],
      "metadata": {
        "colab": {
          "base_uri": "https://localhost:8080/"
        },
        "id": "3ntX-vOY4X0C",
        "outputId": "3868caf6-8d71-4a59-bcb1-c19d016775b8"
      },
      "execution_count": 19,
      "outputs": [
        {
          "output_type": "stream",
          "name": "stdout",
          "text": [
            "Enter your hight in cm : 171\n",
            "Enter your weight in Kg : 78\n",
            "Your body mass index is  26.674874320303687\n"
          ]
        }
      ]
    },
    {
      "cell_type": "code",
      "source": [
        "#Quest-4:Write a Python Program to calculate the natural logarithm of any number?\n",
        "#Answer: \n",
        "import math\n",
        "n=float(input(\"Enter a number : \"))\n",
        "if n>0:\n",
        " print(\"Value of log({}) is : \".format(n),math.log(n))\n",
        "else:\n",
        "  print(\"Enter any value more than zero\")\n",
        "\n"
      ],
      "metadata": {
        "colab": {
          "base_uri": "https://localhost:8080/"
        },
        "id": "PSyrQ6rt-PPm",
        "outputId": "430ca16d-b050-48ce-ee71-dacea38a66ba"
      },
      "execution_count": 28,
      "outputs": [
        {
          "output_type": "stream",
          "name": "stdout",
          "text": [
            "Enter a number : 2\n",
            "Value of log(2.0) is :  0.6931471805599453\n"
          ]
        }
      ]
    },
    {
      "cell_type": "code",
      "source": [
        "#Quest-5: Write a Python Program for cube sum of first n natural numbers?\n",
        "#Answer:creating a function for future use to generate cubic of a number.\n",
        "def cube_sum(x):\n",
        "  if x==1:\n",
        "    return x\n",
        "  else:\n",
        "    return (x**3)\n",
        "# Calling cube_sum() function to make cube and add (first n natural numbers).\n",
        "n=int(input(\"Enter natural numbers only : \"))\n",
        "a=0\n",
        "for i in range(1,n+1):\n",
        "  x=cube_sum(i)\n",
        "  a=x+a\n",
        "print(\"Cube sum : \",a)\n",
        "\n"
      ],
      "metadata": {
        "colab": {
          "base_uri": "https://localhost:8080/"
        },
        "id": "VJBF1ryV_aFh",
        "outputId": "7c95f47e-d642-4d8e-eb6a-70e35d63b24e"
      },
      "execution_count": 64,
      "outputs": [
        {
          "output_type": "stream",
          "name": "stdout",
          "text": [
            "Enter natural numbers only : 5\n",
            "Cube sum :  225\n"
          ]
        }
      ]
    },
    {
      "cell_type": "code",
      "source": [
        ""
      ],
      "metadata": {
        "id": "gqXxw-ywbI8M"
      },
      "execution_count": null,
      "outputs": []
    }
  ]
}