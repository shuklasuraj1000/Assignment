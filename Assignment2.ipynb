{
  "nbformat": 4,
  "nbformat_minor": 0,
  "metadata": {
    "colab": {
      "name": "Untitled17.ipynb",
      "provenance": [],
      "collapsed_sections": []
    },
    "kernelspec": {
      "name": "python3",
      "display_name": "Python 3"
    },
    "language_info": {
      "name": "python"
    }
  },
  "cells": [
    {
      "cell_type": "code",
      "execution_count": null,
      "metadata": {
        "id": "BmBiE9j8HuJ6"
      },
      "outputs": [],
      "source": [
        "#Quest-1: What are the two values of the Boolean data type? How do you write them?\n",
        "#Answer: Two values of Boolean: True and False\n",
        "a=True\n",
        "b=False\n",
        "\n"
      ]
    },
    {
      "cell_type": "code",
      "source": [
        "#Quest-2: What are the three different types of Boolean operators?\n",
        "#Answer: AND , OR , NOT\n"
      ],
      "metadata": {
        "id": "F-x2IPcGIrAO"
      },
      "execution_count": null,
      "outputs": []
    },
    {
      "cell_type": "code",
      "source": [
        "#Quest-3: Make a list of each Boolean operator's truth tables (i.e. every possible combination of Boolean values for the operator and what it evaluate ).\n",
        "#Answer: Operator \"AND\"  [Value: True = 1, False = 0]\n",
        "print(True and True)\n",
        "print(True and False)\n",
        "print(False and False)"
      ],
      "metadata": {
        "colab": {
          "base_uri": "https://localhost:8080/"
        },
        "id": "DQJHpW9iXVtU",
        "outputId": "e9956fcd-1ef2-4d61-ee91-15a32c149c6b"
      },
      "execution_count": 7,
      "outputs": [
        {
          "output_type": "stream",
          "name": "stdout",
          "text": [
            "True\n",
            "False\n",
            "False\n"
          ]
        }
      ]
    },
    {
      "cell_type": "code",
      "source": [
        "# Operator \"OR\"\n",
        "print(True or True)\n",
        "print(True or False)\n",
        "print(False or False)"
      ],
      "metadata": {
        "colab": {
          "base_uri": "https://localhost:8080/"
        },
        "id": "ANssQ_z2YZ9z",
        "outputId": "348ddcde-5353-4a00-f42e-1db31ddb839c"
      },
      "execution_count": 8,
      "outputs": [
        {
          "output_type": "stream",
          "name": "stdout",
          "text": [
            "True\n",
            "True\n",
            "False\n"
          ]
        }
      ]
    },
    {
      "cell_type": "code",
      "source": [
        "# Operator \"NOT\"\n",
        "print(not(True))\n",
        "print(not(False))"
      ],
      "metadata": {
        "colab": {
          "base_uri": "https://localhost:8080/"
        },
        "id": "y5mjYBnnY40l",
        "outputId": "36295956-bc87-40af-c1d4-b8a0f3ecc241"
      },
      "execution_count": 9,
      "outputs": [
        {
          "output_type": "stream",
          "name": "stdout",
          "text": [
            "False\n",
            "True\n"
          ]
        }
      ]
    },
    {
      "cell_type": "code",
      "source": [
        "#Quest-4: What are the values of the following expressions?\n",
        "\"\"\" \n",
        "(5 > 4) and (3 == 5)\n",
        "not (5 > 4)\n",
        "(5 > 4) or (3 == 5)\n",
        "not ((5 > 4) or (3 == 5))\n",
        "(True and True) and (True == False)\n",
        "(not False) or (not True)\n",
        "\n",
        "\"\"\"\n",
        "#Answer: (1) (5 > 4) and (3 == 5)  >>> (Ture) and (False) result: False (Ref Answer-3)\n",
        "(5 > 4) and (3 == 5)\n"
      ],
      "metadata": {
        "colab": {
          "base_uri": "https://localhost:8080/"
        },
        "id": "_MFBlyP9ZJY1",
        "outputId": "bc5ea2a2-ce77-486a-ac72-5d4eac7fbbb6"
      },
      "execution_count": 10,
      "outputs": [
        {
          "output_type": "execute_result",
          "data": {
            "text/plain": [
              "False"
            ]
          },
          "metadata": {},
          "execution_count": 10
        }
      ]
    },
    {
      "cell_type": "code",
      "source": [
        "#(2) not(5>4) Result: False    (Ref Answer-3)\n",
        "not(5>4)"
      ],
      "metadata": {
        "colab": {
          "base_uri": "https://localhost:8080/"
        },
        "id": "guNUNcwSZ8d6",
        "outputId": "4fcad268-8376-4fb2-e5a4-f05bdbb8184c"
      },
      "execution_count": 11,
      "outputs": [
        {
          "output_type": "execute_result",
          "data": {
            "text/plain": [
              "False"
            ]
          },
          "metadata": {},
          "execution_count": 11
        }
      ]
    },
    {
      "cell_type": "code",
      "source": [
        "#(3) (5 > 4) or (3 == 5)  >>> (Ture) and (False) result: True (Ref Answer-3)\n",
        "(5 > 4) or (3 == 5)"
      ],
      "metadata": {
        "colab": {
          "base_uri": "https://localhost:8080/"
        },
        "id": "Wrdm0HYjaWiZ",
        "outputId": "63776f20-62e6-4931-8507-ac03a57b2a9b"
      },
      "execution_count": 12,
      "outputs": [
        {
          "output_type": "execute_result",
          "data": {
            "text/plain": [
              "True"
            ]
          },
          "metadata": {},
          "execution_count": 12
        }
      ]
    },
    {
      "cell_type": "code",
      "source": [
        "#(4)  (True and True) and (True==False) >>> (True) and (Flase) >>> Result: False  (Ref Answer-3)\n",
        "(True and True) and (True==False)"
      ],
      "metadata": {
        "colab": {
          "base_uri": "https://localhost:8080/"
        },
        "id": "y004O6LramAO",
        "outputId": "32445f0f-cd54-4639-acee-bf8663a114e6"
      },
      "execution_count": 13,
      "outputs": [
        {
          "output_type": "execute_result",
          "data": {
            "text/plain": [
              "False"
            ]
          },
          "metadata": {},
          "execution_count": 13
        }
      ]
    },
    {
      "cell_type": "code",
      "source": [
        "#(5)  (not False) or (not True)  >> (True) or (False) >>> Result: True\n",
        "(not False) or (not True)"
      ],
      "metadata": {
        "colab": {
          "base_uri": "https://localhost:8080/"
        },
        "id": "kuQUoNvPbNMs",
        "outputId": "8f061317-7842-4e39-ed63-cd38f244ee06"
      },
      "execution_count": 14,
      "outputs": [
        {
          "output_type": "execute_result",
          "data": {
            "text/plain": [
              "True"
            ]
          },
          "metadata": {},
          "execution_count": 14
        }
      ]
    },
    {
      "cell_type": "code",
      "source": [
        "#Quest-5: What are the six comparison operators?\n",
        "#Answer:   == ,   > ,   < ,  <= , >= , !=\n",
        "a=10\n",
        "b=20\n",
        "c=10\n",
        "# Let us try to use all 6 comparison operators and getting output True.\n",
        "print(a==c)\n",
        "print(b>a)\n",
        "print(a<b)\n",
        "print(a>=c)\n",
        "print(a<=c)\n",
        "print(a!=b)"
      ],
      "metadata": {
        "colab": {
          "base_uri": "https://localhost:8080/"
        },
        "id": "jaQ0XbuwcPHV",
        "outputId": "3a55bcf3-69df-455b-8832-151bacddd543"
      },
      "execution_count": 15,
      "outputs": [
        {
          "output_type": "stream",
          "name": "stdout",
          "text": [
            "True\n",
            "True\n",
            "True\n",
            "True\n",
            "True\n",
            "True\n"
          ]
        }
      ]
    },
    {
      "cell_type": "code",
      "source": [
        "#Quest-6: How do you tell the difference between the equal to and assignment operators? Describe a condition and when you would use one.\n",
        "#Answer: Assignment Operator: = is a assignment operator , this assigns a value to varriable or expression. When we have to assign a value, use = .\n",
        "#        a= 10 , here = to assigning a value 10 to varriable a.\n",
        "#        Equal Operator : == operator is used to perform comparison. Ex: 'Suraj'=='Suraj , in this case we are making comparison so use == .\n",
        "'Suraj'=='Suraj'"
      ],
      "metadata": {
        "colab": {
          "base_uri": "https://localhost:8080/"
        },
        "id": "zrTtRU9BdbFG",
        "outputId": "bf92c727-c840-49d8-ca4a-b5f392baa943"
      },
      "execution_count": 17,
      "outputs": [
        {
          "output_type": "execute_result",
          "data": {
            "text/plain": [
              "True"
            ]
          },
          "metadata": {},
          "execution_count": 17
        }
      ]
    },
    {
      "cell_type": "code",
      "source": [
        "#Quest-7: Identify the three blocks in this code:\n",
        "\"\"\"\n",
        "\n",
        "spam = 0\n",
        "if spam == 10:\n",
        "print('eggs')\n",
        "if spam > 5:\n",
        "print('bacon')\n",
        "else:\n",
        "print('ham')\n",
        "print('spam')\n",
        "print('spam')\n",
        "\n",
        "\"\"\"\n",
        "#Answer: \n",
        "spam = 0\n",
        "if spam == 10:                # Entry to Block A\n",
        "  print('eggs')\n",
        "  if spam > 5:                # Entry to Block B, inside block A\n",
        "    print('bacon')\n",
        "  else:                       # Entry to Block C, inside block A\n",
        "    print('ham')\n",
        "  print('spam')               # Block C ended in above line\n",
        "print('spam')                 # Block A end in above line.From entry of A till above line we were in block A."
      ],
      "metadata": {
        "colab": {
          "base_uri": "https://localhost:8080/"
        },
        "id": "QYFVnM55fzUE",
        "outputId": "ce261f14-f414-4f68-84bf-b8b21523f6ee"
      },
      "execution_count": 19,
      "outputs": [
        {
          "output_type": "stream",
          "name": "stdout",
          "text": [
            "spam\n"
          ]
        }
      ]
    },
    {
      "cell_type": "code",
      "source": [
        "#Quest-8: Write code that prints Hello if 1 is stored in spam, prints Howdy if 2 is stored in spam, and prints Greetings! if anything else is stored in spam.\n",
        "#Answer:\n",
        "\n",
        "spam=int(input(\"Enter spam value: \"))\n",
        "if spam==1:\n",
        "  print(\"Hello\")\n",
        "elif spam==2:\n",
        "    print(\"Howdy\")\n",
        "else:\n",
        "  print(\"Greetings!\")\n",
        "\n",
        "\n"
      ],
      "metadata": {
        "colab": {
          "base_uri": "https://localhost:8080/"
        },
        "id": "607EgcG9iOUH",
        "outputId": "3c2196ea-8b31-4acc-e62a-5541a1c08a6c"
      },
      "execution_count": 38,
      "outputs": [
        {
          "output_type": "stream",
          "name": "stdout",
          "text": [
            "Enter spam value: 1\n",
            "Hello\n"
          ]
        }
      ]
    },
    {
      "cell_type": "code",
      "source": [
        "# Quest-9: If your programme is stuck in an endless loop, what keys you’ll press?\n",
        "#Answer: Ctrl+C\n"
      ],
      "metadata": {
        "id": "t-hus1YFlM8D"
      },
      "execution_count": null,
      "outputs": []
    },
    {
      "cell_type": "code",
      "source": [
        "# Quest-10: How can you tell the difference between break and continue?\n",
        "#Answer: Break: Break terminates the execution of the current loop and passes the control over the next loop.\n",
        "#        Continue: Continue skips the current iteration and executes the very next iteration in the loop."
      ],
      "metadata": {
        "id": "4gZJ215JpBcV"
      },
      "execution_count": null,
      "outputs": []
    },
    {
      "cell_type": "code",
      "source": [
        "# Quest-11: In a for loop, what is the difference between range(10), range(0, 10), and range(0, 10, 1)?\n",
        "# Answer: Meaning is same for all three (0,1,2,3,4,5,6,7,8,9)\n",
        "for i in range(10):\n",
        "  print(i, end=\" \")\n",
        "print(\"Result is from 1st Condition\")\n",
        "\n",
        "for i in range(0,10):\n",
        "  print(i, end=\" \")\n",
        "print(\"Result is from 2nd Condition\")\n",
        "\n",
        "for i in range(0,10,1):\n",
        "  print(i, end=\" \")\n",
        "print(\"Result is from 3rd Condition\")\n"
      ],
      "metadata": {
        "colab": {
          "base_uri": "https://localhost:8080/"
        },
        "id": "KO9GPQAWqU2g",
        "outputId": "44b05929-8ff2-417d-d6d2-727eb328376e"
      },
      "execution_count": 47,
      "outputs": [
        {
          "output_type": "stream",
          "name": "stdout",
          "text": [
            "0 1 2 3 4 5 6 7 8 9 Result is from 1st Condition\n",
            "0 1 2 3 4 5 6 7 8 9 Result is from 2nd Condition\n",
            "0 1 2 3 4 5 6 7 8 9 Result is from 3rd Condition\n"
          ]
        }
      ]
    },
    {
      "cell_type": "code",
      "source": [
        "# Quest-12: Write a short program that prints the numbers 1 to 10 using a for loop. Then write an equivalent program that prints the numbers 1 to 10 using a while loop.\n",
        "# Answer:\n",
        "for i in range(1,11):\n",
        "  print(i,end=\" \")\n",
        "print(\"\\r\")\n",
        "\n",
        "i=1\n",
        "while i<11:\n",
        "  print(i, end=\" \")\n",
        "  i=i+1"
      ],
      "metadata": {
        "colab": {
          "base_uri": "https://localhost:8080/"
        },
        "id": "w1wVJ1shqn61",
        "outputId": "93a5cc2c-6a6e-4a8a-f689-3ea659f2fd0a"
      },
      "execution_count": 6,
      "outputs": [
        {
          "output_type": "stream",
          "name": "stdout",
          "text": [
            "1 2 3 4 5 6 7 8 9 10 \r\n",
            "1 2 3 4 5 6 7 8 9 10 "
          ]
        }
      ]
    },
    {
      "cell_type": "code",
      "source": [
        "#Quest-13: If you had a function named bacon() inside a module named spam, how would you call it after importing spam?\n",
        "#Answer:  spam.bacon()\n"
      ],
      "metadata": {
        "id": "6rO5SEGasKdS"
      },
      "execution_count": null,
      "outputs": []
    },
    {
      "cell_type": "code",
      "source": [
        ""
      ],
      "metadata": {
        "id": "Ut-W1iI6uIlE"
      },
      "execution_count": null,
      "outputs": []
    }
  ]
}