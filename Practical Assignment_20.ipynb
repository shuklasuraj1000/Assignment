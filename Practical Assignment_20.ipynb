{
  "nbformat": 4,
  "nbformat_minor": 0,
  "metadata": {
    "colab": {
      "name": "Untitled53.ipynb",
      "provenance": [],
      "collapsed_sections": []
    },
    "kernelspec": {
      "name": "python3",
      "display_name": "Python 3"
    },
    "language_info": {
      "name": "python"
    }
  },
  "cells": [
    {
      "cell_type": "code",
      "execution_count": null,
      "metadata": {
        "id": "BmwzgJz4EwRq"
      },
      "outputs": [],
      "source": [
        "#Quest-1:\n",
        "\"\"\"\n",
        "Create a function that takes a list of strings and integers, and filters out the list so that it returns a list of integers only.\n",
        "Examples\n",
        "filter_list([1, 2, 3, \"a\", \"b\", 4]) ➞ [1, 2, 3, 4]\n",
        "\n",
        "filter_list([\"A\", 0, \"Edabit\", 1729, \"Python\", \"1729\"]) ➞ [0, 1729]\n",
        "\n",
        "filter_list([\"Nothing\", \"here\"]) ➞ []\n",
        "\n",
        "\"\"\""
      ]
    },
    {
      "cell_type": "code",
      "source": [
        "#Answer:\n",
        "def int_list(l):\n",
        "  \"\"\"This function will return list of int only \"\"\"\n",
        "  try:\n",
        "   l1=[]\n",
        "   for i in l:\n",
        "     if type(i)==int:\n",
        "       l1.append(i)\n",
        "   return l1\n",
        "  except:\n",
        "    print(\"Enter correct input\")\n"
      ],
      "metadata": {
        "id": "-JFT2_L7E2aR"
      },
      "execution_count": null,
      "outputs": []
    },
    {
      "cell_type": "code",
      "source": [
        "int_list([1, 2, 3, \"a\", \"b\", 4])"
      ],
      "metadata": {
        "colab": {
          "base_uri": "https://localhost:8080/"
        },
        "id": "W5gLW4yMFRm-",
        "outputId": "076c67b0-d270-468e-b2a8-d1dbdaff0f15"
      },
      "execution_count": null,
      "outputs": [
        {
          "output_type": "execute_result",
          "data": {
            "text/plain": [
              "[1, 2, 3, 4]"
            ]
          },
          "metadata": {},
          "execution_count": 10
        }
      ]
    },
    {
      "cell_type": "code",
      "source": [
        "# Quest-2:\n",
        "\"\"\"\n",
        "Given a list of numbers, create a function which returns the list but with each element's index in the list added to itself. This means you add 0 to the number at index 0, add 1 to the number at index 1, etc...\n",
        "Examples\n",
        "add_indexes([0, 0, 0, 0, 0]) ➞ [0, 1, 2, 3, 4]\n",
        "\n",
        "add_indexes([1, 2, 3, 4, 5]) ➞ [1, 3, 5, 7, 9]\n",
        "\n",
        "add_indexes([5, 4, 3, 2, 1]) ➞ [5, 5, 5, 5, 5]\n",
        "\n",
        "\"\"\""
      ],
      "metadata": {
        "id": "6mrqRczzGMKc"
      },
      "execution_count": null,
      "outputs": []
    },
    {
      "cell_type": "code",
      "source": [
        "#Answer:\n",
        "def sp_list(l):\n",
        "  \"\"\"This function will return list of int only \"\"\"\n",
        "  try:\n",
        "   l1=[]\n",
        "   n=0\n",
        "   for i in l:\n",
        "     l1.append(i+n)\n",
        "     n=n+1\n",
        "   return l1\n",
        "  except:\n",
        "    print(\"Enter correct input\")"
      ],
      "metadata": {
        "id": "jXID2R07GnV3"
      },
      "execution_count": null,
      "outputs": []
    },
    {
      "cell_type": "code",
      "source": [
        "sp_list([0, 0, 0, 0, 0])"
      ],
      "metadata": {
        "colab": {
          "base_uri": "https://localhost:8080/"
        },
        "id": "tNz1QqSJHHnf",
        "outputId": "4fcefc97-21f5-4506-cc03-7796356eb8d8"
      },
      "execution_count": null,
      "outputs": [
        {
          "output_type": "execute_result",
          "data": {
            "text/plain": [
              "[0, 1, 2, 3, 4]"
            ]
          },
          "metadata": {},
          "execution_count": 23
        }
      ]
    },
    {
      "cell_type": "code",
      "source": [
        "sp_list([5, 4, 3, 2, 1])"
      ],
      "metadata": {
        "colab": {
          "base_uri": "https://localhost:8080/"
        },
        "id": "A2DF-PhfHpXh",
        "outputId": "9a80f40d-34f7-4528-d6b5-df99b86adfcc"
      },
      "execution_count": null,
      "outputs": [
        {
          "output_type": "execute_result",
          "data": {
            "text/plain": [
              "[5, 5, 5, 5, 5]"
            ]
          },
          "metadata": {},
          "execution_count": 24
        }
      ]
    },
    {
      "cell_type": "code",
      "source": [
        "# Quest-3: \n",
        "\"\"\"\n",
        "Create a function that takes the height and radius of a cone as arguments and returns the volume of the cone rounded to the nearest hundredth. See the resources tab for the formula.\n",
        " \n",
        "Examples\n",
        "cone_volume(3, 2) ➞ 12.57\n",
        "\n",
        "cone_volume(15, 6) ➞ 565.49\n",
        "\n",
        "cone_volume(18, 0) ➞ 0\n",
        "\n",
        "\"\"\""
      ],
      "metadata": {
        "id": "WyU8nB9FIP6o"
      },
      "execution_count": null,
      "outputs": []
    },
    {
      "cell_type": "code",
      "source": [
        "#Answer:\n",
        "def vol_cone(h,r):\n",
        "  \"\"\"This fnction will return volume of cone, enter h and r value\"\"\"\n",
        "  import math\n",
        "  v=(3.14159*r*2*h)/3\n",
        "  return round(v,2)"
      ],
      "metadata": {
        "id": "fDC_lZxRIbJ6"
      },
      "execution_count": null,
      "outputs": []
    },
    {
      "cell_type": "code",
      "source": [
        "vol_cone(3,2)"
      ],
      "metadata": {
        "colab": {
          "base_uri": "https://localhost:8080/"
        },
        "id": "Q3sM1WZHIxtb",
        "outputId": "240ca8d1-1441-420a-dcb5-8c5eda65bcae"
      },
      "execution_count": null,
      "outputs": [
        {
          "output_type": "execute_result",
          "data": {
            "text/plain": [
              "12.57"
            ]
          },
          "metadata": {},
          "execution_count": 29
        }
      ]
    },
    {
      "cell_type": "code",
      "source": [
        "# Quest-4:\n",
        "\"\"\"\n",
        "This Triangular Number Sequence is generated from a pattern of dots that form a triangle. The first 5 numbers of the sequence, or dots, are: \n",
        "1, 3, 6, 10, 15\n",
        "This means that the first triangle has just one dot, the second one has three dots, the third one has 6 dots and so on.\n",
        "Write a function that gives the number of dots with its corresponding triangle number of the sequence.\n",
        "Examples\n",
        "triangle(1) ➞ 1\n",
        "\n",
        "triangle(6) ➞ 21\n",
        "\n",
        "triangle(215) ➞ 23220\n",
        "\n",
        "\"\"\""
      ],
      "metadata": {
        "id": "RoE1rfjuJICr"
      },
      "execution_count": null,
      "outputs": []
    },
    {
      "cell_type": "code",
      "source": [
        "#Answer:\n",
        "def tri(n):\n",
        "  \"\"\" This Triangular Number Sequence is generated from a pattern of dots that form a triangle \"\"\"\n",
        "  s=0\n",
        "  for i in range(1,n+1):\n",
        "    s=s+i\n",
        "  return s"
      ],
      "metadata": {
        "id": "vdh_ypAuJh0R"
      },
      "execution_count": null,
      "outputs": []
    },
    {
      "cell_type": "code",
      "source": [
        "tri(6)"
      ],
      "metadata": {
        "colab": {
          "base_uri": "https://localhost:8080/"
        },
        "id": "UM0dutE7LUJq",
        "outputId": "5da4cb2d-718f-44af-8fdb-27866dc1f38a"
      },
      "execution_count": null,
      "outputs": [
        {
          "output_type": "execute_result",
          "data": {
            "text/plain": [
              "21"
            ]
          },
          "metadata": {},
          "execution_count": 33
        }
      ]
    },
    {
      "cell_type": "code",
      "source": [
        "tri(215)"
      ],
      "metadata": {
        "colab": {
          "base_uri": "https://localhost:8080/"
        },
        "id": "kETtM6dxLWQK",
        "outputId": "2f905a1f-a356-4b0d-bd52-721f8355b44b"
      },
      "execution_count": null,
      "outputs": [
        {
          "output_type": "execute_result",
          "data": {
            "text/plain": [
              "23220"
            ]
          },
          "metadata": {},
          "execution_count": 34
        }
      ]
    },
    {
      "cell_type": "code",
      "source": [
        "#Quest-5:\n",
        "\"\"\"\n",
        "Create a function that takes a list of numbers between 1 and 10 (excluding one number) and returns the missing number.\n",
        "Examples\n",
        "missing_num([1, 2, 3, 4, 6, 7, 8, 9, 10]) ➞ 5\n",
        "\n",
        "missing_num([7, 2, 3, 6, 5, 9, 1, 4, 8]) ➞ 10\n",
        "\n",
        "missing_num([10, 5, 1, 2, 4, 6, 8, 3, 9]) ➞ 7\n",
        "\n",
        "\"\"\""
      ],
      "metadata": {
        "id": "1Gx0Kzg0Lid7"
      },
      "execution_count": null,
      "outputs": []
    },
    {
      "cell_type": "code",
      "source": [
        "#Answer:\n",
        "def miss_num(l):\n",
        "  \"\"\" This number will generate list of missing number in the sequence \"\"\"\n",
        "  s2={2,3,4,5,6,7,8,9,10}\n",
        "  s1=set(l)\n",
        "  s=s2.difference(s1)\n",
        "  return s"
      ],
      "metadata": {
        "id": "e5J9djQXuHob"
      },
      "execution_count": 12,
      "outputs": []
    },
    {
      "cell_type": "code",
      "source": [
        "miss_num([1, 2, 3, 4, 6, 7, 8, 9, 10])"
      ],
      "metadata": {
        "colab": {
          "base_uri": "https://localhost:8080/"
        },
        "id": "RHLNW-szv0lD",
        "outputId": "81a3d94b-89e4-4f9c-d947-2cea54c06888"
      },
      "execution_count": 13,
      "outputs": [
        {
          "output_type": "execute_result",
          "data": {
            "text/plain": [
              "{5}"
            ]
          },
          "metadata": {},
          "execution_count": 13
        }
      ]
    },
    {
      "cell_type": "code",
      "source": [
        "miss_num([7, 2, 3, 6, 5, 9, 1, 4, 8])"
      ],
      "metadata": {
        "colab": {
          "base_uri": "https://localhost:8080/"
        },
        "id": "HbrVGp3xv6u5",
        "outputId": "127d584b-e173-40c9-9760-c7d758f1249e"
      },
      "execution_count": 14,
      "outputs": [
        {
          "output_type": "execute_result",
          "data": {
            "text/plain": [
              "{10}"
            ]
          },
          "metadata": {},
          "execution_count": 14
        }
      ]
    },
    {
      "cell_type": "code",
      "source": [
        "miss_num([10, 5, 1, 2, 4, 6, 8, 3, 9])"
      ],
      "metadata": {
        "colab": {
          "base_uri": "https://localhost:8080/"
        },
        "id": "nics-ueHv6_0",
        "outputId": "1ac85c22-9748-4f84-c63e-92862fda5998"
      },
      "execution_count": 15,
      "outputs": [
        {
          "output_type": "execute_result",
          "data": {
            "text/plain": [
              "{7}"
            ]
          },
          "metadata": {},
          "execution_count": 15
        }
      ]
    },
    {
      "cell_type": "code",
      "source": [
        "# Alteration:.......Practice.\n",
        "def miss_num_adv(l):\n",
        "  \"\"\" This number will generate list of missing number in the sequence \"\"\"\n",
        "  l.sort()\n",
        "  a=l[0]\n",
        "  n=len(l)\n",
        "  b=l[n-1]\n",
        "  l1=[]\n",
        "  for i in range(a,b+1):\n",
        "    l1.append(i)\n",
        "  s1=set(l)\n",
        "  s2=set(l1)\n",
        "  s=s2.difference(s1)\n",
        "  if len(s)>=1:\n",
        "    return s\n",
        "  else:\n",
        "    return \"Blank,no missing data in lower and upper range\"\n"
      ],
      "metadata": {
        "id": "VQZUX62MLrSS"
      },
      "execution_count": 9,
      "outputs": []
    },
    {
      "cell_type": "code",
      "source": [
        "miss_num_adv([1, 2, 3, 4, 6, 7, 8, 9, 10])"
      ],
      "metadata": {
        "colab": {
          "base_uri": "https://localhost:8080/"
        },
        "id": "I50PPsIyNGPx",
        "outputId": "4571b33a-9012-4076-f2f0-e09cbbb2cec2"
      },
      "execution_count": 10,
      "outputs": [
        {
          "output_type": "execute_result",
          "data": {
            "text/plain": [
              "{5}"
            ]
          },
          "metadata": {},
          "execution_count": 10
        }
      ]
    },
    {
      "cell_type": "code",
      "source": [
        "miss_num_adv([7, 2, 3, 6, 5, 9, 1, 4, 8])"
      ],
      "metadata": {
        "colab": {
          "base_uri": "https://localhost:8080/",
          "height": 35
        },
        "id": "cUPhWKbwOWIj",
        "outputId": "d508f8bc-bc73-488d-9f35-29dc3bb025ab"
      },
      "execution_count": 11,
      "outputs": [
        {
          "output_type": "execute_result",
          "data": {
            "text/plain": [
              "'Blank,no missing data in lower and upper range'"
            ],
            "application/vnd.google.colaboratory.intrinsic+json": {
              "type": "string"
            }
          },
          "metadata": {},
          "execution_count": 11
        }
      ]
    }
  ]
}