{
  "nbformat": 4,
  "nbformat_minor": 0,
  "metadata": {
    "colab": {
      "name": "Untitled25.ipynb",
      "provenance": [],
      "collapsed_sections": []
    },
    "kernelspec": {
      "name": "python3",
      "display_name": "Python 3"
    },
    "language_info": {
      "name": "python"
    }
  },
  "cells": [
    {
      "cell_type": "code",
      "execution_count": null,
      "metadata": {
        "colab": {
          "base_uri": "https://localhost:8080/"
        },
        "id": "9nyfOGjx6zeo",
        "outputId": "16136e59-b28e-456b-9f73-dc906dc3981e"
      },
      "outputs": [
        {
          "output_type": "stream",
          "name": "stdout",
          "text": [
            "Enter size of arry : 20\n",
            "Array :  {7, 10, 13, 17, 23, 24, 25, 31, 33, 38, 39, 43, 44, 55, 60, 67, 68, 74, 81, 89}\n",
            "Sum of Array :  841\n"
          ]
        }
      ],
      "source": [
        "#Quest-1: Write a Python Program to find sum of array?\n",
        "#Answer:\n",
        "import random\n",
        "# STEP-1: Generate array with random numbers:\n",
        "n=int(input(\"Enter size of arry : \"))\n",
        "if n>0:                                     # Condition to check, user select array size at least 1.\n",
        " l=[]\n",
        " for j in range(0,n):                       # Generating list with n random integer.\n",
        "   i=random.randint(0,100)\n",
        "   l.append(i)\n",
        " print(\"Array : \",set(l))                   # Change from list to array for display.\n",
        "\n",
        "# STEP-2:Addtion of array elements:\n",
        " a=0\n",
        " for k in l:\n",
        "   a=a+k\n",
        " print(\"Sum of Array : \", a)\n",
        "else:\n",
        "  print(\"Enter size of array 1 or more\")\n",
        "\n"
      ]
    },
    {
      "cell_type": "code",
      "source": [
        "#Quest-2: Write a Python Program to find largest element in an array?\n",
        "#Answer:\n",
        "import random\n",
        "# STEP-1: Generate array with random numbers:\n",
        "n=int(input(\"Enter size of arry : \"))\n",
        "if n>0:                                     # Condition to check, user select array size at least 1.\n",
        " l=[]\n",
        " for j in range(0,n):                       # Generating list with n random integer.\n",
        "   i=random.randint(0,100)\n",
        "   l.append(i)\n",
        " print(\"Array : \",set(l))                   # Change from list to array for display.\n",
        "\n",
        "# STEP-2: Finding largest element in array:\n",
        " m=0                                        # Initial assumption for largest number\n",
        " for k in l:\n",
        "   if k>=m:\n",
        "      m=k\n",
        "   else:\n",
        "       m=m\n",
        " print(\"Largest number is {}\".format(m))    # Printing largest number out of array.\n",
        "else:\n",
        "  print(\"Enter size of array 1 or more\")"
      ],
      "metadata": {
        "colab": {
          "base_uri": "https://localhost:8080/"
        },
        "id": "r68GDExSHcNi",
        "outputId": "41cb285e-e58a-4862-e94a-e3cd4d9de255"
      },
      "execution_count": null,
      "outputs": [
        {
          "output_type": "stream",
          "name": "stdout",
          "text": [
            "Enter size of arry : 5\n",
            "Array :  {3, 85, 58, 91, 92}\n",
            "Largest number is 92\n"
          ]
        }
      ]
    },
    {
      "cell_type": "code",
      "source": [
        "# CREATING FUNCTION TO GENERATE ARRAY WITH RANDOM NUMBERS FOR FUTURE USES.\n",
        "def gen_arr(n):\n",
        "  l=[]\n",
        "  for j in range(0,n):\n",
        "    i=random.randint(0,100)\n",
        "    l.append(i)\n",
        "  return l"
      ],
      "metadata": {
        "id": "RPQRuX64my4E"
      },
      "execution_count": null,
      "outputs": []
    },
    {
      "cell_type": "code",
      "source": [
        "#Quest-3: Write a Python Program for array rotation?\n",
        "#Answer:\n",
        "# Generate array with random numbers:\n",
        "n=int(input(\"Enter size of arry : \"))\n",
        "p=int(input(\"Enter number of elements of arry to rotate : \"))\n",
        "if n>0 and p<=n:\n",
        "#STEP-1: Calling gen_arr(n) function to get array.\n",
        " l1=gen_arr(n)\n",
        "\n",
        "#STEP-2: Generating temp_arry of element to be rotated.\n",
        " print(\"Input array : \",l1)\n",
        " l2=[]                                      \n",
        " for k in range(0,p):\n",
        "   a=l1[k]\n",
        "   l2.append(a)\n",
        " print(\"Rotating elements array : \",l2)\n",
        "\n",
        "# STEP-3: Shifting array elements.\n",
        " for k in l2:\n",
        "   l1.remove(k)\n",
        " print(\"Array after shifting: \",l1)              # Printing shifted array.\n",
        "\n",
        "#STEP-4: Storing back elements.\n",
        " for p in l2:\n",
        "   l1.append(p)\n",
        " print(\"Resultant roated Array : \",l1)           # Printing rotated array.\n",
        "else:\n",
        "  print(\"Make value of n should be more than 0 & p should be always <=n.\")\n",
        "\n",
        "\n"
      ],
      "metadata": {
        "colab": {
          "base_uri": "https://localhost:8080/"
        },
        "id": "w1j3u-c3K6DR",
        "outputId": "aeab86f7-d0bc-4742-ed67-cf9dbd49d2e2"
      },
      "execution_count": null,
      "outputs": [
        {
          "output_type": "stream",
          "name": "stdout",
          "text": [
            "Enter size of arry : 7\n",
            "Enter number of elements of arry to rotate : 3\n",
            "Input array :  [8, 12, 60, 18, 93, 30, 49]\n",
            "Rotating elements array :  [8, 12, 60]\n",
            "Array after shifting:  [18, 93, 30, 49]\n",
            "Resultant roated Array :  [18, 93, 30, 49, 8, 12, 60]\n"
          ]
        }
      ]
    },
    {
      "cell_type": "code",
      "source": [
        "from numpy.lib.shape_base import array_split\n",
        "# Quest-4: Write a Python Program to Split the array and add the first part to the end?\n",
        "# Answer:\n",
        "\n",
        "# STEP-1: Calling gen_arr(n) function to get array.\n",
        "n=int(input(\"Enter size of arry : \"))\n",
        "l1=gen_arr(n)\n",
        "print(\"Generated Array : \",l1)\n",
        "\n",
        "#STEP-2: Spliting array.\n",
        "l2=array_split(l1,2)\n",
        "l3=list(l2[0])\n",
        "l4=list(l2[1])\n",
        "\n",
        "#STEP-3: adding first part to end of second part of array.\n",
        "print(\"First  split : \",l3)\n",
        "print(\"Second split : \",l4)\n",
        "for i in l3:\n",
        "  l4.append(i)\n",
        "print(\"Result Array : \",l4)\n",
        "\n"
      ],
      "metadata": {
        "colab": {
          "base_uri": "https://localhost:8080/"
        },
        "id": "ypXvX-GDU6HW",
        "outputId": "0015d236-cf1d-416f-a8e1-d2bb3e8e5a2e"
      },
      "execution_count": null,
      "outputs": [
        {
          "output_type": "stream",
          "name": "stdout",
          "text": [
            "Enter size of arry : 13\n",
            "Generated Array :  [9, 6, 77, 32, 91, 25, 82, 8, 50, 20, 61, 20, 21]\n",
            "First  split :  [9, 6, 77, 32, 91, 25, 82]\n",
            "Second split :  [8, 50, 20, 61, 20, 21]\n",
            "Result Array :  [8, 50, 20, 61, 20, 21, 9, 6, 77, 32, 91, 25, 82]\n"
          ]
        }
      ]
    },
    {
      "cell_type": "code",
      "source": [
        "def test_Monotonic(a):\n",
        "  return (all(a[i] <= a[i + 1] for i in range(len(a) - 1)) or all(a[i] >= a[i + 1] for i in range(len(a) - 1)))\n"
      ],
      "metadata": {
        "id": "yXn_dkElQcLu"
      },
      "execution_count": null,
      "outputs": []
    },
    {
      "cell_type": "code",
      "source": [
        "# Quest-5: Write a Python Program to check if given array is Monotonic?\n",
        "#Answer: \n",
        "# STEP-1: Calling gen_arr(n) function to get array.\n",
        "n=int(input(\"Enter size of arry : \"))\n",
        "l1=gen_arr(n)\n",
        "print(\"Auto generated Array : \",l1)\n",
        "\n",
        "#STEP-2: Checking if array is Monotonic\n",
        "a=l1                                           # Here auto generated array is taken as feed.      \n",
        "b=test_Monotonic(a)\n",
        "if b==True:\n",
        "  print(\"Given Array is Monotonic\")\n",
        "else:\n",
        "  print(\"Given Array is not Monotonic\")\n"
      ],
      "metadata": {
        "colab": {
          "base_uri": "https://localhost:8080/"
        },
        "id": "_2EW3dRAcDXe",
        "outputId": "ddd0fc1e-5a6f-4ff9-fbb4-9dee9ec908d8"
      },
      "execution_count": null,
      "outputs": [
        {
          "output_type": "stream",
          "name": "stdout",
          "text": [
            "Enter size of arry : 3\n",
            "Auto generated Array :  [47, 38, 37]\n",
            "Given Array is Monotonic\n"
          ]
        }
      ]
    },
    {
      "cell_type": "code",
      "source": [
        ""
      ],
      "metadata": {
        "id": "-TLgBlkxDcEC"
      },
      "execution_count": null,
      "outputs": []
    }
  ]
}