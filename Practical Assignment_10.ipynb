{
  "nbformat": 4,
  "nbformat_minor": 0,
  "metadata": {
    "colab": {
      "name": "Untitled29.ipynb",
      "provenance": [],
      "collapsed_sections": []
    },
    "kernelspec": {
      "name": "python3",
      "display_name": "Python 3"
    },
    "language_info": {
      "name": "python"
    }
  },
  "cells": [
    {
      "cell_type": "code",
      "execution_count": 6,
      "metadata": {
        "colab": {
          "base_uri": "https://localhost:8080/"
        },
        "id": "ZfI1cKXuhAh7",
        "outputId": "90cde378-4c78-4c7a-dd85-492b2782772f"
      },
      "outputs": [
        {
          "output_type": "stream",
          "name": "stdout",
          "text": [
            "Enetr desired length of list : 10\n",
            "Random generated list :  [57, 7, 13, 82, 56, 51, 44, 18, 12, 67]\n",
            "Sum of list's elements :  407\n"
          ]
        }
      ],
      "source": [
        "# Quest-1: Write a Python program to find sum of elements in list?\n",
        "#Answer:\n",
        "import random\n",
        "n=int(input(\"Enetr desired length of list : \"))\n",
        "l=[]\n",
        "for i in range(n):\n",
        "   b=random.randint(0,100)\n",
        "   l.append(b)\n",
        "print(\"Random generated list : \",l)\n",
        "a=0\n",
        "for j in l:\n",
        "  a=a+j\n",
        "print(\"Sum of list's elements : \",a)\n",
        "\n",
        "\n"
      ]
    },
    {
      "cell_type": "code",
      "source": [
        "# Quest-2: Write a Python program to Multiply all numbers in the list?\n",
        "#Answer:\n",
        "import random\n",
        "n=int(input(\"Enetr desired length of list : \"))\n",
        "l=[]\n",
        "for i in range(n):\n",
        "   b=random.randint(0,100)\n",
        "   l.append(b)\n",
        "print(\"Random generated list : \",l)\n",
        "a=1\n",
        "for j in l:\n",
        "  a=a*j\n",
        "print(\"Sum of list's elements : \",a)"
      ],
      "metadata": {
        "colab": {
          "base_uri": "https://localhost:8080/"
        },
        "id": "cKn9EU5wiFqm",
        "outputId": "c4468b68-0aea-4a0b-84ea-5d011557b5da"
      },
      "execution_count": 7,
      "outputs": [
        {
          "output_type": "stream",
          "name": "stdout",
          "text": [
            "Enetr desired length of list : 10\n",
            "Random generated list :  [95, 64, 17, 99, 40, 30, 23, 46, 38, 92]\n",
            "Sum of list's elements :  45417793665024000\n"
          ]
        }
      ]
    },
    {
      "cell_type": "code",
      "source": [
        "# Quest-3: Write a Python program to find smallest number in a list?\n",
        "# Answer:\n",
        "import random\n",
        "n=int(input(\"Enetr desired length of list : \"))\n",
        "l=[]\n",
        "for i in range(n):\n",
        "   b=random.randint(0,100)\n",
        "   l.append(b)\n",
        "print(\"Random generated list : \",l)\n",
        "\n",
        "l.sort()\n",
        "print(\"Smallest number in the list: \",l[0])"
      ],
      "metadata": {
        "colab": {
          "base_uri": "https://localhost:8080/"
        },
        "id": "DlmLDEDwjWjw",
        "outputId": "d27d2df7-2629-4fe6-cea2-f57250905a8f"
      },
      "execution_count": 10,
      "outputs": [
        {
          "output_type": "stream",
          "name": "stdout",
          "text": [
            "Enetr desired length of list : 10\n",
            "Random generated list :  [13, 96, 76, 4, 0, 75, 78, 3, 5, 65]\n",
            "Smallest number in the list:  0\n"
          ]
        }
      ]
    },
    {
      "cell_type": "code",
      "source": [
        "# Quest-4: Write a Python program to find largest number in a list?\n",
        "#Answer:\n",
        "import random\n",
        "n=int(input(\"Enetr desired length of list : \"))\n",
        "l=[]\n",
        "for i in range(n):\n",
        "   b=random.randint(0,100)\n",
        "   l.append(b)\n",
        "print(\"Random generated list : \",l)\n",
        "\n",
        "l.sort()\n",
        "print(\"Largest number in the list: \",l[-1])"
      ],
      "metadata": {
        "colab": {
          "base_uri": "https://localhost:8080/"
        },
        "id": "G-XfXQlrkZNQ",
        "outputId": "d3c585f1-a6e0-4681-9dbf-39ca72c089d2"
      },
      "execution_count": 13,
      "outputs": [
        {
          "output_type": "stream",
          "name": "stdout",
          "text": [
            "Enetr desired length of list : 10\n",
            "Random generated list :  [80, 1, 71, 53, 42, 4, 77, 62, 73, 36]\n",
            "Largest number in the list:  80\n"
          ]
        }
      ]
    },
    {
      "cell_type": "code",
      "source": [
        "# Quest-5: Write a Python program to find second largest number in a list?\n",
        "#Answer: \n",
        "import random\n",
        "n=int(input(\"Enetr desired length of list : \"))\n",
        "l=[]\n",
        "for i in range(n):\n",
        "   b=random.randint(0,100)\n",
        "   l.append(b)\n",
        "\n",
        "l.sort()\n",
        "print(\"Random generated shorted list : \",l)\n",
        "for i in range(0,len(l)-1):                                   # This step introducced to double check. once recived unexpected auto-list with last elements with same value (Like ... 99, 99).\n",
        "  m=min(l[i],l[i+1])\n",
        "print(m)\n"
      ],
      "metadata": {
        "colab": {
          "base_uri": "https://localhost:8080/"
        },
        "id": "fyL_I29uk83S",
        "outputId": "6b0336ae-c7d7-4cb9-f0b3-d94d78178762"
      },
      "execution_count": 23,
      "outputs": [
        {
          "output_type": "stream",
          "name": "stdout",
          "text": [
            "Enetr desired length of list : 10\n",
            "Random generated shorted list :  [7, 17, 24, 40, 51, 64, 75, 80, 81, 99]\n",
            "81\n"
          ]
        }
      ]
    },
    {
      "cell_type": "code",
      "source": [
        "# Quest-6: Write a Python program to find N largest elements from a list?\n",
        "#Answer:\n",
        "import random\n",
        "n=int(input(\"Enetr desired length of list : \"))\n",
        "m=int(input(\"Enetr no of largest number want to get : \"))\n",
        "if n>=m:\n",
        " l=[]\n",
        " for i in range(n):\n",
        "    b=random.randint(0,100)\n",
        "    l.append(b)\n",
        " l.sort()\n",
        " print(\"Sort auto-generated list : \",l)\n",
        " print(l[-m:])\n",
        "else:\n",
        "  print(\"Enter value of m <= n.\")\n"
      ],
      "metadata": {
        "colab": {
          "base_uri": "https://localhost:8080/"
        },
        "id": "HFAw2st6lJli",
        "outputId": "88ca0f62-33b1-4d63-861b-2b06e3231295"
      },
      "execution_count": 30,
      "outputs": [
        {
          "output_type": "stream",
          "name": "stdout",
          "text": [
            "Enetr desired length of list : 10\n",
            "Enetr no of largest number want to get : 3\n",
            "Sort auto-generated list :  [9, 17, 29, 35, 51, 70, 78, 84, 90, 98]\n",
            "[84, 90, 98]\n"
          ]
        }
      ]
    },
    {
      "cell_type": "code",
      "source": [
        "# Quest-7: Write a Python program to print even numbers in a list?\n",
        "#Answer:\n",
        "import random\n",
        "n=int(input(\"Enetr desired length of list : \"))\n",
        "l=[]\n",
        "for i in range(n):\n",
        "  b=random.randint(1,100)\n",
        "  l.append(b)\n",
        "print(\"Auto_gen list : \",l)\n",
        "p=[]\n",
        "for i in range(len(l)):\n",
        "  if l[i]%2==0:\n",
        "    p.append(l[i])\n",
        "  else:\n",
        "    pass\n",
        "print(\"Even numbers of list : \",p)              "
      ],
      "metadata": {
        "colab": {
          "base_uri": "https://localhost:8080/"
        },
        "id": "Ioj8eF9owK77",
        "outputId": "575880c3-df7f-4b5b-d152-82c33261c79d"
      },
      "execution_count": 55,
      "outputs": [
        {
          "output_type": "stream",
          "name": "stdout",
          "text": [
            "Enetr desired length of list : 10\n",
            "Auto_gen list :  [35, 68, 80, 75, 32, 64, 23, 46, 25, 39]\n",
            "Even numbers of list :  [68, 80, 32, 64, 46]\n"
          ]
        }
      ]
    },
    {
      "cell_type": "code",
      "source": [
        "# Quest-8: Write a Python program to print even numbers in a list?\n",
        "#Answer:\n",
        "import random\n",
        "n=int(input(\"Enetr desired length of list : \"))\n",
        "l=[]\n",
        "for i in range(n):\n",
        "  b=random.randint(1,100)\n",
        "  l.append(b)\n",
        "print(\"Auto_gen list : \",l)\n",
        "p=[]\n",
        "for i in range(len(l)):\n",
        "  if l[i]%2!=0:\n",
        "    p.append(l[i])\n",
        "  else:\n",
        "    pass\n",
        "print(\"Odd numbers of list : \",p) "
      ],
      "metadata": {
        "colab": {
          "base_uri": "https://localhost:8080/"
        },
        "id": "Bj1uS73cwjm5",
        "outputId": "20bf840c-6447-401e-eb56-cf091f463b42"
      },
      "execution_count": 57,
      "outputs": [
        {
          "output_type": "stream",
          "name": "stdout",
          "text": [
            "Enetr desired length of list : 10\n",
            "Auto_gen list :  [12, 33, 88, 32, 93, 30, 83, 42, 37, 89]\n",
            "Odd numbers of list :  [33, 93, 83, 37, 89]\n"
          ]
        }
      ]
    },
    {
      "cell_type": "code",
      "source": [
        "# Quest-9: Write a Python program to Remove empty List from List?\n",
        "# Answer; \n",
        "l=[1,2,3,5,[],7,[],9,[1,2,3]]\n",
        "p=[]\n",
        "for i in l:\n",
        "  if i!=[]:\n",
        "    p.append(i)\n",
        "print(\"Modified list\",p)\n"
      ],
      "metadata": {
        "colab": {
          "base_uri": "https://localhost:8080/"
        },
        "id": "puP2UsS_39GI",
        "outputId": "3e982e76-3891-4b37-87bb-abeee5ba0cdc"
      },
      "execution_count": 63,
      "outputs": [
        {
          "output_type": "stream",
          "name": "stdout",
          "text": [
            "Modified list [1, 2, 3, 5, 7, 9, [1, 2, 3]]\n"
          ]
        }
      ]
    },
    {
      "cell_type": "code",
      "source": [
        "# Quest-10: Write a Python program to Cloning or Copying a list?\n",
        "#Answer: \n",
        "l=[1,2,3,5,[],7,[],9,[1,2,3]]\n",
        "l_copy=[i for i in l]\n",
        "print(\"Copied list: \",l_copy)"
      ],
      "metadata": {
        "colab": {
          "base_uri": "https://localhost:8080/"
        },
        "id": "kkGeHiO-5D8g",
        "outputId": "73885827-13dc-4202-8d73-479f1362440f"
      },
      "execution_count": 66,
      "outputs": [
        {
          "output_type": "stream",
          "name": "stdout",
          "text": [
            "Copied list:  [1, 2, 3, 5, [], 7, [], 9, [1, 2, 3]]\n"
          ]
        }
      ]
    },
    {
      "cell_type": "code",
      "source": [
        "# Quest-11:Write a Python program to Count occurrences of an element in a list?\n",
        "#Answer:\n",
        "l=[2,3,4,5,3,6,7,8]\n",
        "print(l.count(3))\n"
      ],
      "metadata": {
        "colab": {
          "base_uri": "https://localhost:8080/"
        },
        "id": "q0aDMwAo64bY",
        "outputId": "7697c1d2-c8c2-4fed-c0db-3be2acd64726"
      },
      "execution_count": 68,
      "outputs": [
        {
          "output_type": "stream",
          "name": "stdout",
          "text": [
            "2\n"
          ]
        }
      ]
    },
    {
      "cell_type": "code",
      "source": [
        ""
      ],
      "metadata": {
        "id": "aIft-0W17exb"
      },
      "execution_count": null,
      "outputs": []
    }
  ]
}