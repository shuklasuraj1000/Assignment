{
  "nbformat": 4,
  "nbformat_minor": 0,
  "metadata": {
    "colab": {
      "name": "Untitled24.ipynb",
      "provenance": [],
      "collapsed_sections": []
    },
    "kernelspec": {
      "name": "python3",
      "display_name": "Python 3"
    },
    "language_info": {
      "name": "python"
    }
  },
  "cells": [
    {
      "cell_type": "code",
      "execution_count": 37,
      "metadata": {
        "colab": {
          "base_uri": "https://localhost:8080/"
        },
        "id": "mQIQQ7I5jesf",
        "outputId": "02f6c797-f4b5-46b2-9ad1-7348079eefe6"
      },
      "outputs": [
        {
          "output_type": "stream",
          "name": "stdout",
          "text": [
            "Enter first number : 50\n",
            "Enter first number : 70\n",
            "[2, 5, 10, 25, 50]\n",
            "LCM for given two numbers is :  2\n"
          ]
        }
      ],
      "source": [
        "# Practice Question: Write a Python Program to find lowest commond factor between two numbers?\n",
        "# Answer:\n",
        "import math\n",
        "a=int(input(\"Enter first number : \"))\n",
        "b=int(input(\"Enter first number : \"))\n",
        "#Finding factor of first numbers:\n",
        "l1=[]\n",
        "for i in range(2,a+1):\n",
        "  if a%i==0:\n",
        "    l1.append(i)\n",
        "print(l1)\n",
        "l2=[]\n",
        "for j in range(2,b+1):\n",
        "  if b%j==0:\n",
        "    l2.append(j)\n",
        "for k in l1:                                    # Finding lowest commond factor between two numbers.\n",
        "  if k in l2:\n",
        "    print(\"LCf for given two numbers is : \",k) \n",
        "    break"
      ]
    },
    {
      "cell_type": "code",
      "source": [
        "#ASSIGNMENT:\n",
        "\n",
        "# Quest-1: Write a Python Program to Find LCM?\n",
        "#Answer:\n",
        "a=int(input(\"Enter first number : \"))\n",
        "b=int(input(\"Enter first number : \"))\n",
        "if a>0 and b>0:                                       # Validation if entered numbers are natural or not.\n",
        " if a>=b:                                             # Finding greater number among two.\n",
        "   greater=a\n",
        " else:\n",
        "   greater=b\n",
        " while(True):                                         # LCM calculation start.\n",
        "   if (greater%a==0 and greater%b==0):\n",
        "     print(\"LCM for given two numbers is : \",greater)\n",
        "     break\n",
        "   greater=greater+1\n",
        "else:\n",
        "  print(\"WARNING: Enter natural numbers only\")\n"
      ],
      "metadata": {
        "colab": {
          "base_uri": "https://localhost:8080/"
        },
        "id": "QpIFWbo2te1t",
        "outputId": "6aec459a-38e8-430a-898b-627f6fb23c34"
      },
      "execution_count": 52,
      "outputs": [
        {
          "output_type": "stream",
          "name": "stdout",
          "text": [
            "Enter first number : 3\n",
            "Enter first number : 5\n",
            "LCM for given two numbers is :  15\n"
          ]
        }
      ]
    },
    {
      "cell_type": "code",
      "source": [
        "# Quest-2: Write a Python Program to Find HCF?\n",
        "#Answer: HCF X LCM = a X b\n",
        "a=int(input(\"Enter first number : \"))\n",
        "b=int(input(\"Enter first number : \"))\n",
        "if a>0 and b>0:                                       # Validation if entered numbers are natural or not.\n",
        " if a>=b:                                             # Finding greater number among two.\n",
        "   greater=a\n",
        " else:\n",
        "   greater=b\n",
        " while(True):                                         # LCM calculation start.\n",
        "   if (greater%a==0 and greater%b==0):\n",
        "     #print(\"LCM for given two numbers is : \",greater)\n",
        "     break\n",
        "   greater=greater+1\n",
        " HCF=(a*b)/greater                                    # Calculation for HCF.\n",
        " print(\"HCF for given two numbers are : \",int(HCF))\n",
        "else:\n",
        "  print(\"WARNING: Enter natural numbers only\")"
      ],
      "metadata": {
        "colab": {
          "base_uri": "https://localhost:8080/"
        },
        "id": "MPDpQi-5zlc7",
        "outputId": "9625865a-b809-4acf-85c9-d40c9ebba213"
      },
      "execution_count": 57,
      "outputs": [
        {
          "output_type": "stream",
          "name": "stdout",
          "text": [
            "Enter first number : 125\n",
            "Enter first number : 25\n",
            "HCF for given two numbers are :  25\n"
          ]
        }
      ]
    },
    {
      "cell_type": "code",
      "source": [
        "#Quest-3: Write a Python Program to Convert Decimal to Binary, Octal and Hexadecimal?\n",
        "#Answer:\n",
        "n=int(input(\"Enter decimal number : \"))\n",
        "print(\"In binary system : \", bin(n))\n",
        "print(\"In Octal system : \", oct(n))\n",
        "print(\"In Hexadecimal system : \", hex(n))\n"
      ],
      "metadata": {
        "colab": {
          "base_uri": "https://localhost:8080/"
        },
        "id": "ioG92ujr-H84",
        "outputId": "803fa2e3-8ed8-43e0-87a4-8c26d6c7d855"
      },
      "execution_count": 68,
      "outputs": [
        {
          "output_type": "stream",
          "name": "stdout",
          "text": [
            "Enter decimal number : 101\n",
            "In binary system :  0b1100101\n",
            "In Octal system :  0o145\n",
            "In Hexadecimal system :  0x65\n"
          ]
        }
      ]
    },
    {
      "cell_type": "code",
      "source": [
        "# Quest-4: Write a Python Program To Find ASCII value of a character?\n",
        "#Answer:\n",
        "chara=input(\"Enter a character : \")\n",
        "if len(chara)<=1:\n",
        " print(\"ASCII value for entered charater is : \",ord(chara[0]))\n",
        "else:\n",
        "  print(\"Enter one character at a time, this program will generate ASCII code for first charactor only\")\n"
      ],
      "metadata": {
        "colab": {
          "base_uri": "https://localhost:8080/"
        },
        "id": "KbZUTz_SH_0T",
        "outputId": "31584ccc-38d4-4d49-f269-d0b54d520a17"
      },
      "execution_count": 96,
      "outputs": [
        {
          "output_type": "stream",
          "name": "stdout",
          "text": [
            "Enter a character : c\n",
            "ASCII value for entered charater is :  99\n"
          ]
        }
      ]
    },
    {
      "cell_type": "code",
      "source": [
        "#Quest-5: Write a Python Program to Make a Simple Calculator with 4 basic mathematical operations?\n",
        "#Answer: \n",
        "print(\"Enetr 1 to add numbers\")\n",
        "print(\"Enetr 2 to substract numbers\")\n",
        "print(\"Enetr 3 to Multiply numbers\")\n",
        "print(\"Enetr 4 to Divide numbers\")\n",
        "a=int(input(\"Enter operation code : \"))\n",
        "x,y=float(input(\"Enter first number: \")),float(input(\"Enter second number: \"))\n",
        "if a==1:\n",
        "  print(\"Addition of x and y is : {} \".format(x+y))\n",
        "elif a==2:\n",
        "  print(\"Substraction of x and y is : {} \".format(x-y))\n",
        "elif a==3:\n",
        "  print(\"Multiplication of x and y is : {} \".format(x*y))\n",
        "elif a==4:\n",
        "  print(\"Divison of x and y is : {} \".format(x/y))\n",
        "else:\n",
        "  print(\"Seclect operation code from 1 to 4 only\")"
      ],
      "metadata": {
        "colab": {
          "base_uri": "https://localhost:8080/"
        },
        "id": "aas9t7TaKUyw",
        "outputId": "782865e7-45dd-4845-8fa6-97186245a584"
      },
      "execution_count": 117,
      "outputs": [
        {
          "output_type": "stream",
          "name": "stdout",
          "text": [
            "Enetr 1 to add numbers\n",
            "Enetr 2 to substract numbers\n",
            "Enetr 3 to Multiply numbers\n",
            "Enetr 4 to Divide numbers\n",
            "Enter operation code : 4\n",
            "Enter first number: 10.5\n",
            "Enter second number: 2.5\n",
            "Divison of x and y is : 4.2 \n"
          ]
        }
      ]
    },
    {
      "cell_type": "code",
      "source": [
        ""
      ],
      "metadata": {
        "id": "vskn-VucTmVO"
      },
      "execution_count": null,
      "outputs": []
    }
  ]
}