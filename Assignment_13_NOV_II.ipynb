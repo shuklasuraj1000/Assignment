{
  "nbformat": 4,
  "nbformat_minor": 0,
  "metadata": {
    "colab": {
      "provenance": [],
      "collapsed_sections": [
        "v4G5BI8LKGi0"
      ],
      "authorship_tag": "ABX9TyOh21Zg5H1ClwQcNJjrzarV",
      "include_colab_link": true
    },
    "kernelspec": {
      "name": "python3",
      "display_name": "Python 3"
    },
    "language_info": {
      "name": "python"
    },
    "accelerator": "GPU",
    "gpuClass": "standard"
  },
  "cells": [
    {
      "cell_type": "markdown",
      "metadata": {
        "id": "view-in-github",
        "colab_type": "text"
      },
      "source": [
        "<a href=\"https://colab.research.google.com/github/shuklasuraj1000/Assignment/blob/main/Assignment_13_NOV_II.ipynb\" target=\"_parent\"><img src=\"https://colab.research.google.com/assets/colab-badge.svg\" alt=\"Open In Colab\"/></a>"
      ]
    },
    {
      "cell_type": "markdown",
      "source": [
        "![logo.webp](data:image/webp;base64,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)"
      ],
      "metadata": {
        "id": "8NKNL0BKxI3J"
      }
    },
    {
      "cell_type": "markdown",
      "source": [
        "\n",
        "**College admission dataset**\n",
        "\n",
        "> **Life cycle of Machine learning Project**\n",
        "1.   Data ingestion\n",
        "2.   EDA\n",
        "3.   FE\n",
        "4.   ML Model\n",
        "5.   Validation\n",
        "\n",
        "> **Source:**\n",
        "1.   ***URL:*** https://raw.githubusercontent.com/shuklasuraj1000/EDA_DATA/main/Census_Income_Data_Set.csv\n",
        "\n",
        "\n",
        "\n",
        "\n",
        "\n",
        "\n",
        "\n",
        "\n",
        "\n",
        "\n",
        "\n"
      ],
      "metadata": {
        "id": "KmsaHiP_sG3l"
      }
    },
    {
      "cell_type": "markdown",
      "source": [
        "**Import Data and Required Packages**\n",
        "\n",
        "`Importing Pandas, Numpy, Matplotlib, Seaborn and Warings Library.`"
      ],
      "metadata": {
        "id": "KYlcTmXgxrbT"
      }
    },
    {
      "cell_type": "code",
      "source": [
        "import pandas as pd\n",
        "import numpy as np\n",
        "import seaborn as sns\n",
        "import matplotlib.pyplot as plt\n",
        "import plotly.express as px\n",
        "import warnings\n",
        "warnings.filterwarnings(\"ignore\")\n",
        "%matplotlib inline"
      ],
      "metadata": {
        "id": "oh7r0ICBxFSJ"
      },
      "execution_count": 1,
      "outputs": []
    },
    {
      "cell_type": "markdown",
      "source": [
        "**Import the CSV Data from Git as Pandas DataFrame**"
      ],
      "metadata": {
        "id": "LczTrRdcyCMr"
      }
    },
    {
      "cell_type": "code",
      "source": [
        "df=pd.read_csv(\"https://raw.githubusercontent.com/shuklasuraj1000/EDA_DATA/main/Census_Income_Data_Set.csv\")"
      ],
      "metadata": {
        "id": "_VM4IMwrmV79"
      },
      "execution_count": 2,
      "outputs": []
    },
    {
      "cell_type": "markdown",
      "source": [
        "**Exploring schemas/Features**"
      ],
      "metadata": {
        "id": "KYAYNUm2yS8C"
      }
    },
    {
      "cell_type": "code",
      "source": [
        "df.head()"
      ],
      "metadata": {
        "colab": {
          "base_uri": "https://localhost:8080/",
          "height": 206
        },
        "id": "nft-BoYqmc_7",
        "outputId": "57c23b63-20fe-42ee-ae75-a437fcf66968"
      },
      "execution_count": 3,
      "outputs": [
        {
          "output_type": "execute_result",
          "data": {
            "text/plain": [
              "   age          workclass  fnlwgt   education  education-num  \\\n",
              "0   39          State-gov   77516   Bachelors             13   \n",
              "1   50   Self-emp-not-inc   83311   Bachelors             13   \n",
              "2   38            Private  215646     HS-grad              9   \n",
              "3   53            Private  234721        11th              7   \n",
              "4   28            Private  338409   Bachelors             13   \n",
              "\n",
              "        marital-status          occupation    relationship    race      sex  \\\n",
              "0        Never-married        Adm-clerical   Not-in-family   White     Male   \n",
              "1   Married-civ-spouse     Exec-managerial         Husband   White     Male   \n",
              "2             Divorced   Handlers-cleaners   Not-in-family   White     Male   \n",
              "3   Married-civ-spouse   Handlers-cleaners         Husband   Black     Male   \n",
              "4   Married-civ-spouse      Prof-specialty            Wife   Black   Female   \n",
              "\n",
              "   capital-gain  capital-loss  hours-per-week  native-country Earning  \n",
              "0          2174             0              40   United-States   <=50K  \n",
              "1             0             0              13   United-States   <=50K  \n",
              "2             0             0              40   United-States   <=50K  \n",
              "3             0             0              40   United-States   <=50K  \n",
              "4             0             0              40            Cuba   <=50K  "
            ],
            "text/html": [
              "\n",
              "  <div id=\"df-10c5e388-1ab5-4658-a0f1-e83041ce6f96\">\n",
              "    <div class=\"colab-df-container\">\n",
              "      <div>\n",
              "<style scoped>\n",
              "    .dataframe tbody tr th:only-of-type {\n",
              "        vertical-align: middle;\n",
              "    }\n",
              "\n",
              "    .dataframe tbody tr th {\n",
              "        vertical-align: top;\n",
              "    }\n",
              "\n",
              "    .dataframe thead th {\n",
              "        text-align: right;\n",
              "    }\n",
              "</style>\n",
              "<table border=\"1\" class=\"dataframe\">\n",
              "  <thead>\n",
              "    <tr style=\"text-align: right;\">\n",
              "      <th></th>\n",
              "      <th>age</th>\n",
              "      <th>workclass</th>\n",
              "      <th>fnlwgt</th>\n",
              "      <th>education</th>\n",
              "      <th>education-num</th>\n",
              "      <th>marital-status</th>\n",
              "      <th>occupation</th>\n",
              "      <th>relationship</th>\n",
              "      <th>race</th>\n",
              "      <th>sex</th>\n",
              "      <th>capital-gain</th>\n",
              "      <th>capital-loss</th>\n",
              "      <th>hours-per-week</th>\n",
              "      <th>native-country</th>\n",
              "      <th>Earning</th>\n",
              "    </tr>\n",
              "  </thead>\n",
              "  <tbody>\n",
              "    <tr>\n",
              "      <th>0</th>\n",
              "      <td>39</td>\n",
              "      <td>State-gov</td>\n",
              "      <td>77516</td>\n",
              "      <td>Bachelors</td>\n",
              "      <td>13</td>\n",
              "      <td>Never-married</td>\n",
              "      <td>Adm-clerical</td>\n",
              "      <td>Not-in-family</td>\n",
              "      <td>White</td>\n",
              "      <td>Male</td>\n",
              "      <td>2174</td>\n",
              "      <td>0</td>\n",
              "      <td>40</td>\n",
              "      <td>United-States</td>\n",
              "      <td>&lt;=50K</td>\n",
              "    </tr>\n",
              "    <tr>\n",
              "      <th>1</th>\n",
              "      <td>50</td>\n",
              "      <td>Self-emp-not-inc</td>\n",
              "      <td>83311</td>\n",
              "      <td>Bachelors</td>\n",
              "      <td>13</td>\n",
              "      <td>Married-civ-spouse</td>\n",
              "      <td>Exec-managerial</td>\n",
              "      <td>Husband</td>\n",
              "      <td>White</td>\n",
              "      <td>Male</td>\n",
              "      <td>0</td>\n",
              "      <td>0</td>\n",
              "      <td>13</td>\n",
              "      <td>United-States</td>\n",
              "      <td>&lt;=50K</td>\n",
              "    </tr>\n",
              "    <tr>\n",
              "      <th>2</th>\n",
              "      <td>38</td>\n",
              "      <td>Private</td>\n",
              "      <td>215646</td>\n",
              "      <td>HS-grad</td>\n",
              "      <td>9</td>\n",
              "      <td>Divorced</td>\n",
              "      <td>Handlers-cleaners</td>\n",
              "      <td>Not-in-family</td>\n",
              "      <td>White</td>\n",
              "      <td>Male</td>\n",
              "      <td>0</td>\n",
              "      <td>0</td>\n",
              "      <td>40</td>\n",
              "      <td>United-States</td>\n",
              "      <td>&lt;=50K</td>\n",
              "    </tr>\n",
              "    <tr>\n",
              "      <th>3</th>\n",
              "      <td>53</td>\n",
              "      <td>Private</td>\n",
              "      <td>234721</td>\n",
              "      <td>11th</td>\n",
              "      <td>7</td>\n",
              "      <td>Married-civ-spouse</td>\n",
              "      <td>Handlers-cleaners</td>\n",
              "      <td>Husband</td>\n",
              "      <td>Black</td>\n",
              "      <td>Male</td>\n",
              "      <td>0</td>\n",
              "      <td>0</td>\n",
              "      <td>40</td>\n",
              "      <td>United-States</td>\n",
              "      <td>&lt;=50K</td>\n",
              "    </tr>\n",
              "    <tr>\n",
              "      <th>4</th>\n",
              "      <td>28</td>\n",
              "      <td>Private</td>\n",
              "      <td>338409</td>\n",
              "      <td>Bachelors</td>\n",
              "      <td>13</td>\n",
              "      <td>Married-civ-spouse</td>\n",
              "      <td>Prof-specialty</td>\n",
              "      <td>Wife</td>\n",
              "      <td>Black</td>\n",
              "      <td>Female</td>\n",
              "      <td>0</td>\n",
              "      <td>0</td>\n",
              "      <td>40</td>\n",
              "      <td>Cuba</td>\n",
              "      <td>&lt;=50K</td>\n",
              "    </tr>\n",
              "  </tbody>\n",
              "</table>\n",
              "</div>\n",
              "      <button class=\"colab-df-convert\" onclick=\"convertToInteractive('df-10c5e388-1ab5-4658-a0f1-e83041ce6f96')\"\n",
              "              title=\"Convert this dataframe to an interactive table.\"\n",
              "              style=\"display:none;\">\n",
              "        \n",
              "  <svg xmlns=\"http://www.w3.org/2000/svg\" height=\"24px\"viewBox=\"0 0 24 24\"\n",
              "       width=\"24px\">\n",
              "    <path d=\"M0 0h24v24H0V0z\" fill=\"none\"/>\n",
              "    <path d=\"M18.56 5.44l.94 2.06.94-2.06 2.06-.94-2.06-.94-.94-2.06-.94 2.06-2.06.94zm-11 1L8.5 8.5l.94-2.06 2.06-.94-2.06-.94L8.5 2.5l-.94 2.06-2.06.94zm10 10l.94 2.06.94-2.06 2.06-.94-2.06-.94-.94-2.06-.94 2.06-2.06.94z\"/><path d=\"M17.41 7.96l-1.37-1.37c-.4-.4-.92-.59-1.43-.59-.52 0-1.04.2-1.43.59L10.3 9.45l-7.72 7.72c-.78.78-.78 2.05 0 2.83L4 21.41c.39.39.9.59 1.41.59.51 0 1.02-.2 1.41-.59l7.78-7.78 2.81-2.81c.8-.78.8-2.07 0-2.86zM5.41 20L4 18.59l7.72-7.72 1.47 1.35L5.41 20z\"/>\n",
              "  </svg>\n",
              "      </button>\n",
              "      \n",
              "  <style>\n",
              "    .colab-df-container {\n",
              "      display:flex;\n",
              "      flex-wrap:wrap;\n",
              "      gap: 12px;\n",
              "    }\n",
              "\n",
              "    .colab-df-convert {\n",
              "      background-color: #E8F0FE;\n",
              "      border: none;\n",
              "      border-radius: 50%;\n",
              "      cursor: pointer;\n",
              "      display: none;\n",
              "      fill: #1967D2;\n",
              "      height: 32px;\n",
              "      padding: 0 0 0 0;\n",
              "      width: 32px;\n",
              "    }\n",
              "\n",
              "    .colab-df-convert:hover {\n",
              "      background-color: #E2EBFA;\n",
              "      box-shadow: 0px 1px 2px rgba(60, 64, 67, 0.3), 0px 1px 3px 1px rgba(60, 64, 67, 0.15);\n",
              "      fill: #174EA6;\n",
              "    }\n",
              "\n",
              "    [theme=dark] .colab-df-convert {\n",
              "      background-color: #3B4455;\n",
              "      fill: #D2E3FC;\n",
              "    }\n",
              "\n",
              "    [theme=dark] .colab-df-convert:hover {\n",
              "      background-color: #434B5C;\n",
              "      box-shadow: 0px 1px 3px 1px rgba(0, 0, 0, 0.15);\n",
              "      filter: drop-shadow(0px 1px 2px rgba(0, 0, 0, 0.3));\n",
              "      fill: #FFFFFF;\n",
              "    }\n",
              "  </style>\n",
              "\n",
              "      <script>\n",
              "        const buttonEl =\n",
              "          document.querySelector('#df-10c5e388-1ab5-4658-a0f1-e83041ce6f96 button.colab-df-convert');\n",
              "        buttonEl.style.display =\n",
              "          google.colab.kernel.accessAllowed ? 'block' : 'none';\n",
              "\n",
              "        async function convertToInteractive(key) {\n",
              "          const element = document.querySelector('#df-10c5e388-1ab5-4658-a0f1-e83041ce6f96');\n",
              "          const dataTable =\n",
              "            await google.colab.kernel.invokeFunction('convertToInteractive',\n",
              "                                                     [key], {});\n",
              "          if (!dataTable) return;\n",
              "\n",
              "          const docLinkHtml = 'Like what you see? Visit the ' +\n",
              "            '<a target=\"_blank\" href=https://colab.research.google.com/notebooks/data_table.ipynb>data table notebook</a>'\n",
              "            + ' to learn more about interactive tables.';\n",
              "          element.innerHTML = '';\n",
              "          dataTable['output_type'] = 'display_data';\n",
              "          await google.colab.output.renderOutput(dataTable, element);\n",
              "          const docLink = document.createElement('div');\n",
              "          docLink.innerHTML = docLinkHtml;\n",
              "          element.appendChild(docLink);\n",
              "        }\n",
              "      </script>\n",
              "    </div>\n",
              "  </div>\n",
              "  "
            ]
          },
          "metadata": {},
          "execution_count": 3
        }
      ]
    },
    {
      "cell_type": "markdown",
      "source": [
        "**Shape and Size of Data**"
      ],
      "metadata": {
        "id": "HhYDC9e-ybLj"
      }
    },
    {
      "cell_type": "code",
      "source": [
        "df.shape"
      ],
      "metadata": {
        "colab": {
          "base_uri": "https://localhost:8080/"
        },
        "id": "FFsjFKzIme1A",
        "outputId": "3dcdcc89-06ad-49a4-82b7-196d8d408579"
      },
      "execution_count": 4,
      "outputs": [
        {
          "output_type": "execute_result",
          "data": {
            "text/plain": [
              "(48842, 15)"
            ]
          },
          "metadata": {},
          "execution_count": 4
        }
      ]
    },
    {
      "cell_type": "markdown",
      "source": [
        "**Checking data tpye and checking null**"
      ],
      "metadata": {
        "id": "8s7iSZz4yyYE"
      }
    },
    {
      "cell_type": "code",
      "source": [
        "df.info()"
      ],
      "metadata": {
        "colab": {
          "base_uri": "https://localhost:8080/"
        },
        "id": "DipxvnN2yh-C",
        "outputId": "eed1c900-e3c2-4b8d-9d6d-846d019ef656"
      },
      "execution_count": 5,
      "outputs": [
        {
          "output_type": "stream",
          "name": "stdout",
          "text": [
            "<class 'pandas.core.frame.DataFrame'>\n",
            "RangeIndex: 48842 entries, 0 to 48841\n",
            "Data columns (total 15 columns):\n",
            " #   Column          Non-Null Count  Dtype \n",
            "---  ------          --------------  ----- \n",
            " 0   age             48842 non-null  int64 \n",
            " 1   workclass       48842 non-null  object\n",
            " 2   fnlwgt          48842 non-null  int64 \n",
            " 3   education       48842 non-null  object\n",
            " 4   education-num   48842 non-null  int64 \n",
            " 5   marital-status  48842 non-null  object\n",
            " 6   occupation      48842 non-null  object\n",
            " 7   relationship    48842 non-null  object\n",
            " 8   race            48842 non-null  object\n",
            " 9   sex             48842 non-null  object\n",
            " 10  capital-gain    48842 non-null  int64 \n",
            " 11  capital-loss    48842 non-null  int64 \n",
            " 12  hours-per-week  48842 non-null  int64 \n",
            " 13  native-country  48842 non-null  object\n",
            " 14  Earning         48842 non-null  object\n",
            "dtypes: int64(6), object(9)\n",
            "memory usage: 5.6+ MB\n"
          ]
        }
      ]
    },
    {
      "cell_type": "markdown",
      "source": [
        "**Quick observation for outlier:**"
      ],
      "metadata": {
        "id": "1q6uPm1w0W_g"
      }
    },
    {
      "cell_type": "code",
      "source": [
        "df.describe().T"
      ],
      "metadata": {
        "colab": {
          "base_uri": "https://localhost:8080/",
          "height": 238
        },
        "id": "JFZU4Tsszw9b",
        "outputId": "55ae24bc-c698-40f6-c82d-539f7a08c97a"
      },
      "execution_count": 6,
      "outputs": [
        {
          "output_type": "execute_result",
          "data": {
            "text/plain": [
              "                  count           mean            std      min       25%  \\\n",
              "age             48842.0      38.643585      13.710510     17.0      28.0   \n",
              "fnlwgt          48842.0  189664.134597  105604.025423  12285.0  117550.5   \n",
              "education-num   48842.0      10.078089       2.570973      1.0       9.0   \n",
              "capital-gain    48842.0    1079.067626    7452.019058      0.0       0.0   \n",
              "capital-loss    48842.0      87.502314     403.004552      0.0       0.0   \n",
              "hours-per-week  48842.0      40.422382      12.391444      1.0      40.0   \n",
              "\n",
              "                     50%       75%        max  \n",
              "age                 37.0      48.0       90.0  \n",
              "fnlwgt          178144.5  237642.0  1490400.0  \n",
              "education-num       10.0      12.0       16.0  \n",
              "capital-gain         0.0       0.0    99999.0  \n",
              "capital-loss         0.0       0.0     4356.0  \n",
              "hours-per-week      40.0      45.0       99.0  "
            ],
            "text/html": [
              "\n",
              "  <div id=\"df-6c13158f-97cd-45da-bd10-842228dddbb8\">\n",
              "    <div class=\"colab-df-container\">\n",
              "      <div>\n",
              "<style scoped>\n",
              "    .dataframe tbody tr th:only-of-type {\n",
              "        vertical-align: middle;\n",
              "    }\n",
              "\n",
              "    .dataframe tbody tr th {\n",
              "        vertical-align: top;\n",
              "    }\n",
              "\n",
              "    .dataframe thead th {\n",
              "        text-align: right;\n",
              "    }\n",
              "</style>\n",
              "<table border=\"1\" class=\"dataframe\">\n",
              "  <thead>\n",
              "    <tr style=\"text-align: right;\">\n",
              "      <th></th>\n",
              "      <th>count</th>\n",
              "      <th>mean</th>\n",
              "      <th>std</th>\n",
              "      <th>min</th>\n",
              "      <th>25%</th>\n",
              "      <th>50%</th>\n",
              "      <th>75%</th>\n",
              "      <th>max</th>\n",
              "    </tr>\n",
              "  </thead>\n",
              "  <tbody>\n",
              "    <tr>\n",
              "      <th>age</th>\n",
              "      <td>48842.0</td>\n",
              "      <td>38.643585</td>\n",
              "      <td>13.710510</td>\n",
              "      <td>17.0</td>\n",
              "      <td>28.0</td>\n",
              "      <td>37.0</td>\n",
              "      <td>48.0</td>\n",
              "      <td>90.0</td>\n",
              "    </tr>\n",
              "    <tr>\n",
              "      <th>fnlwgt</th>\n",
              "      <td>48842.0</td>\n",
              "      <td>189664.134597</td>\n",
              "      <td>105604.025423</td>\n",
              "      <td>12285.0</td>\n",
              "      <td>117550.5</td>\n",
              "      <td>178144.5</td>\n",
              "      <td>237642.0</td>\n",
              "      <td>1490400.0</td>\n",
              "    </tr>\n",
              "    <tr>\n",
              "      <th>education-num</th>\n",
              "      <td>48842.0</td>\n",
              "      <td>10.078089</td>\n",
              "      <td>2.570973</td>\n",
              "      <td>1.0</td>\n",
              "      <td>9.0</td>\n",
              "      <td>10.0</td>\n",
              "      <td>12.0</td>\n",
              "      <td>16.0</td>\n",
              "    </tr>\n",
              "    <tr>\n",
              "      <th>capital-gain</th>\n",
              "      <td>48842.0</td>\n",
              "      <td>1079.067626</td>\n",
              "      <td>7452.019058</td>\n",
              "      <td>0.0</td>\n",
              "      <td>0.0</td>\n",
              "      <td>0.0</td>\n",
              "      <td>0.0</td>\n",
              "      <td>99999.0</td>\n",
              "    </tr>\n",
              "    <tr>\n",
              "      <th>capital-loss</th>\n",
              "      <td>48842.0</td>\n",
              "      <td>87.502314</td>\n",
              "      <td>403.004552</td>\n",
              "      <td>0.0</td>\n",
              "      <td>0.0</td>\n",
              "      <td>0.0</td>\n",
              "      <td>0.0</td>\n",
              "      <td>4356.0</td>\n",
              "    </tr>\n",
              "    <tr>\n",
              "      <th>hours-per-week</th>\n",
              "      <td>48842.0</td>\n",
              "      <td>40.422382</td>\n",
              "      <td>12.391444</td>\n",
              "      <td>1.0</td>\n",
              "      <td>40.0</td>\n",
              "      <td>40.0</td>\n",
              "      <td>45.0</td>\n",
              "      <td>99.0</td>\n",
              "    </tr>\n",
              "  </tbody>\n",
              "</table>\n",
              "</div>\n",
              "      <button class=\"colab-df-convert\" onclick=\"convertToInteractive('df-6c13158f-97cd-45da-bd10-842228dddbb8')\"\n",
              "              title=\"Convert this dataframe to an interactive table.\"\n",
              "              style=\"display:none;\">\n",
              "        \n",
              "  <svg xmlns=\"http://www.w3.org/2000/svg\" height=\"24px\"viewBox=\"0 0 24 24\"\n",
              "       width=\"24px\">\n",
              "    <path d=\"M0 0h24v24H0V0z\" fill=\"none\"/>\n",
              "    <path d=\"M18.56 5.44l.94 2.06.94-2.06 2.06-.94-2.06-.94-.94-2.06-.94 2.06-2.06.94zm-11 1L8.5 8.5l.94-2.06 2.06-.94-2.06-.94L8.5 2.5l-.94 2.06-2.06.94zm10 10l.94 2.06.94-2.06 2.06-.94-2.06-.94-.94-2.06-.94 2.06-2.06.94z\"/><path d=\"M17.41 7.96l-1.37-1.37c-.4-.4-.92-.59-1.43-.59-.52 0-1.04.2-1.43.59L10.3 9.45l-7.72 7.72c-.78.78-.78 2.05 0 2.83L4 21.41c.39.39.9.59 1.41.59.51 0 1.02-.2 1.41-.59l7.78-7.78 2.81-2.81c.8-.78.8-2.07 0-2.86zM5.41 20L4 18.59l7.72-7.72 1.47 1.35L5.41 20z\"/>\n",
              "  </svg>\n",
              "      </button>\n",
              "      \n",
              "  <style>\n",
              "    .colab-df-container {\n",
              "      display:flex;\n",
              "      flex-wrap:wrap;\n",
              "      gap: 12px;\n",
              "    }\n",
              "\n",
              "    .colab-df-convert {\n",
              "      background-color: #E8F0FE;\n",
              "      border: none;\n",
              "      border-radius: 50%;\n",
              "      cursor: pointer;\n",
              "      display: none;\n",
              "      fill: #1967D2;\n",
              "      height: 32px;\n",
              "      padding: 0 0 0 0;\n",
              "      width: 32px;\n",
              "    }\n",
              "\n",
              "    .colab-df-convert:hover {\n",
              "      background-color: #E2EBFA;\n",
              "      box-shadow: 0px 1px 2px rgba(60, 64, 67, 0.3), 0px 1px 3px 1px rgba(60, 64, 67, 0.15);\n",
              "      fill: #174EA6;\n",
              "    }\n",
              "\n",
              "    [theme=dark] .colab-df-convert {\n",
              "      background-color: #3B4455;\n",
              "      fill: #D2E3FC;\n",
              "    }\n",
              "\n",
              "    [theme=dark] .colab-df-convert:hover {\n",
              "      background-color: #434B5C;\n",
              "      box-shadow: 0px 1px 3px 1px rgba(0, 0, 0, 0.15);\n",
              "      filter: drop-shadow(0px 1px 2px rgba(0, 0, 0, 0.3));\n",
              "      fill: #FFFFFF;\n",
              "    }\n",
              "  </style>\n",
              "\n",
              "      <script>\n",
              "        const buttonEl =\n",
              "          document.querySelector('#df-6c13158f-97cd-45da-bd10-842228dddbb8 button.colab-df-convert');\n",
              "        buttonEl.style.display =\n",
              "          google.colab.kernel.accessAllowed ? 'block' : 'none';\n",
              "\n",
              "        async function convertToInteractive(key) {\n",
              "          const element = document.querySelector('#df-6c13158f-97cd-45da-bd10-842228dddbb8');\n",
              "          const dataTable =\n",
              "            await google.colab.kernel.invokeFunction('convertToInteractive',\n",
              "                                                     [key], {});\n",
              "          if (!dataTable) return;\n",
              "\n",
              "          const docLinkHtml = 'Like what you see? Visit the ' +\n",
              "            '<a target=\"_blank\" href=https://colab.research.google.com/notebooks/data_table.ipynb>data table notebook</a>'\n",
              "            + ' to learn more about interactive tables.';\n",
              "          element.innerHTML = '';\n",
              "          dataTable['output_type'] = 'display_data';\n",
              "          await google.colab.output.renderOutput(dataTable, element);\n",
              "          const docLink = document.createElement('div');\n",
              "          docLink.innerHTML = docLinkHtml;\n",
              "          element.appendChild(docLink);\n",
              "        }\n",
              "      </script>\n",
              "    </div>\n",
              "  </div>\n",
              "  "
            ]
          },
          "metadata": {},
          "execution_count": 6
        }
      ]
    },
    {
      "cell_type": "markdown",
      "source": [
        "**Dropping Null row:**"
      ],
      "metadata": {
        "id": "jIGQMsLZ1LTY"
      }
    },
    {
      "cell_type": "code",
      "source": [
        "df.isnull().sum()"
      ],
      "metadata": {
        "colab": {
          "base_uri": "https://localhost:8080/"
        },
        "id": "s0nb832z0KJT",
        "outputId": "ffa6e61f-3aef-43c5-8789-937cc97442fb"
      },
      "execution_count": 7,
      "outputs": [
        {
          "output_type": "execute_result",
          "data": {
            "text/plain": [
              "age               0\n",
              "workclass         0\n",
              "fnlwgt            0\n",
              "education         0\n",
              "education-num     0\n",
              "marital-status    0\n",
              "occupation        0\n",
              "relationship      0\n",
              "race              0\n",
              "sex               0\n",
              "capital-gain      0\n",
              "capital-loss      0\n",
              "hours-per-week    0\n",
              "native-country    0\n",
              "Earning           0\n",
              "dtype: int64"
            ]
          },
          "metadata": {},
          "execution_count": 7
        }
      ]
    },
    {
      "cell_type": "code",
      "source": [
        "for i in df.columns:\n",
        "  print(\" {} : {}\".format(i,df[i].unique()))"
      ],
      "metadata": {
        "colab": {
          "base_uri": "https://localhost:8080/"
        },
        "id": "UwyZ4h4qmvb-",
        "outputId": "29c9bc7b-481b-4a87-b1a8-2ae175fa6829"
      },
      "execution_count": 8,
      "outputs": [
        {
          "output_type": "stream",
          "name": "stdout",
          "text": [
            " age : [39 50 38 53 28 37 49 52 31 42 30 23 32 40 34 25 43 54 35 59 56 19 20 45\n",
            " 22 48 21 24 57 44 41 29 18 47 46 36 79 27 67 33 76 17 55 61 70 64 71 68\n",
            " 66 51 58 26 60 90 75 65 77 62 63 80 72 74 69 73 81 78 88 82 83 84 85 86\n",
            " 87 89]\n",
            " workclass : [' State-gov' ' Self-emp-not-inc' ' Private' ' Federal-gov' ' Local-gov'\n",
            " ' ?' ' Self-emp-inc' ' Without-pay' ' Never-worked']\n",
            " fnlwgt : [ 77516  83311 215646 ... 173449  89686 350977]\n",
            " education : [' Bachelors' ' HS-grad' ' 11th' ' Masters' ' 9th' ' Some-college'\n",
            " ' Assoc-acdm' ' Assoc-voc' ' 7th-8th' ' Doctorate' ' Prof-school'\n",
            " ' 5th-6th' ' 10th' ' 1st-4th' ' Preschool' ' 12th']\n",
            " education-num : [13  9  7 14  5 10 12 11  4 16 15  3  6  2  1  8]\n",
            " marital-status : [' Never-married' ' Married-civ-spouse' ' Divorced'\n",
            " ' Married-spouse-absent' ' Separated' ' Married-AF-spouse' ' Widowed']\n",
            " occupation : [' Adm-clerical' ' Exec-managerial' ' Handlers-cleaners' ' Prof-specialty'\n",
            " ' Other-service' ' Sales' ' Craft-repair' ' Transport-moving'\n",
            " ' Farming-fishing' ' Machine-op-inspct' ' Tech-support' ' ?'\n",
            " ' Protective-serv' ' Armed-Forces' ' Priv-house-serv']\n",
            " relationship : [' Not-in-family' ' Husband' ' Wife' ' Own-child' ' Unmarried'\n",
            " ' Other-relative']\n",
            " race : [' White' ' Black' ' Asian-Pac-Islander' ' Amer-Indian-Eskimo' ' Other']\n",
            " sex : [' Male' ' Female']\n",
            " capital-gain : [ 2174     0 14084  5178  5013  2407 14344 15024  7688 34095  4064  4386\n",
            "  7298  1409  3674  1055  3464  2050  2176   594 20051  6849  4101  1111\n",
            "  8614  3411  2597 25236  4650  9386  2463  3103 10605  2964  3325  2580\n",
            "  3471  4865 99999  6514  1471  2329  2105  2885 25124 10520  2202  2961\n",
            " 27828  6767  2228  1506 13550  2635  5556  4787  3781  3137  3818  3942\n",
            "   914   401  2829  2977  4934  2062  2354  5455 15020  1424  3273 22040\n",
            "  4416  3908 10566   991  4931  1086  7430  6497   114  7896  2346  3418\n",
            "  3432  2907  1151  2414  2290 15831 41310  4508  2538  3456  6418  1848\n",
            "  3887  5721  9562  1455  2036  1831 11678  2936  2993  7443  6360  1797\n",
            "  1173  4687  6723  2009  6097  2653  1639 18481  7978  2387  5060  1264\n",
            "  7262  1731  6612]\n",
            " capital-loss : [   0 2042 1408 1902 1573 1887 1719 1762 1564 2179 1816 1980 1977 1876\n",
            " 1340 2206 1741 1485 2339 2415 1380 1721 2051 2377 1669 2352 1672  653\n",
            " 2392 1504 2001 1590 1651 1628 1848 1740 2002 1579 2258 1602  419 2547\n",
            " 2174 2205 1726 2444 1138 2238  625  213 1539  880 1668 1092 1594 3004\n",
            " 2231 1844  810 2824 2559 2057 1974  974 2149 1825 1735 1258 2129 2603\n",
            " 2282  323 4356 2246 1617 1648 2489 3770 1755 3683 2267 2080 2457  155\n",
            " 3900 2201 1944 2467 2163 2754 2472 1411 1429 3175 1510 1870 1911 2465\n",
            " 1421]\n",
            " hours-per-week : [40 13 16 45 50 80 30 35 60 20 52 44 15 25 38 43 55 48 58 32 70  2 22 56\n",
            " 41 28 36 24 46 42 12 65  1 10 34 75 98 33 54  8  6 64 19 18 72  5  9 47\n",
            " 37 21 26 14  4 59  7 99 53 39 62 57 78 90 66 11 49 84  3 17 68 27 85 31\n",
            " 51 77 63 23 87 88 73 89 97 94 29 96 67 82 86 91 81 76 92 61 74 95 79 69]\n",
            " native-country : [' United-States' ' Cuba' ' Jamaica' ' India' ' ?' ' Mexico' ' South'\n",
            " ' Puerto-Rico' ' Honduras' ' England' ' Canada' ' Germany' ' Iran'\n",
            " ' Philippines' ' Italy' ' Poland' ' Columbia' ' Cambodia' ' Thailand'\n",
            " ' Ecuador' ' Laos' ' Taiwan' ' Haiti' ' Portugal' ' Dominican-Republic'\n",
            " ' El-Salvador' ' France' ' Guatemala' ' China' ' Japan' ' Yugoslavia'\n",
            " ' Peru' ' Outlying-US(Guam-USVI-etc)' ' Scotland' ' Trinadad&Tobago'\n",
            " ' Greece' ' Nicaragua' ' Vietnam' ' Hong' ' Ireland' ' Hungary'\n",
            " ' Holand-Netherlands']\n",
            " Earning : [' <=50K' ' >50K' ' <=50K.' ' >50K.']\n"
          ]
        }
      ]
    },
    {
      "cell_type": "code",
      "source": [
        "df.columns"
      ],
      "metadata": {
        "colab": {
          "base_uri": "https://localhost:8080/"
        },
        "id": "oTI0tAc8y7Bx",
        "outputId": "a3f13d2d-3226-48c7-a891-62eb175a5064"
      },
      "execution_count": 9,
      "outputs": [
        {
          "output_type": "execute_result",
          "data": {
            "text/plain": [
              "Index(['age', 'workclass', 'fnlwgt', 'education', 'education-num',\n",
              "       'marital-status', 'occupation', 'relationship', 'race', 'sex',\n",
              "       'capital-gain', 'capital-loss', 'hours-per-week', 'native-country',\n",
              "       'Earning'],\n",
              "      dtype='object')"
            ]
          },
          "metadata": {},
          "execution_count": 9
        }
      ]
    },
    {
      "cell_type": "markdown",
      "source": [
        "**Encoding:**"
      ],
      "metadata": {
        "id": "0TY96dtFWkIX"
      }
    },
    {
      "cell_type": "code",
      "source": [
        "df['workclass']=df['workclass'].replace(' ?', df['workclass'].mode()[0])\n",
        "df['occupation']=df['occupation'].replace(' ?', df['occupation'].mode()[0])\n",
        "df['native-country']=df['native-country'].replace(' ?', df['native-country'].mode()[0])"
      ],
      "metadata": {
        "id": "15nylgy_y94B"
      },
      "execution_count": 10,
      "outputs": []
    },
    {
      "cell_type": "code",
      "source": [
        "df['sex']=df['sex'].replace({' Male':1, ' Female':0})\n",
        "df['Earning']=df['Earning'].replace({' <=50K':0, ' >50K':1, ' <=50K.':0, ' >50K.':1 })"
      ],
      "metadata": {
        "id": "hP56EGc224l6"
      },
      "execution_count": 11,
      "outputs": []
    },
    {
      "cell_type": "code",
      "source": [
        "df.head()"
      ],
      "metadata": {
        "colab": {
          "base_uri": "https://localhost:8080/",
          "height": 206
        },
        "id": "fv-yqizNY_H7",
        "outputId": "22d5bcf9-03d7-482f-f7fd-801b75a2a178"
      },
      "execution_count": 12,
      "outputs": [
        {
          "output_type": "execute_result",
          "data": {
            "text/plain": [
              "   age          workclass  fnlwgt   education  education-num  \\\n",
              "0   39          State-gov   77516   Bachelors             13   \n",
              "1   50   Self-emp-not-inc   83311   Bachelors             13   \n",
              "2   38            Private  215646     HS-grad              9   \n",
              "3   53            Private  234721        11th              7   \n",
              "4   28            Private  338409   Bachelors             13   \n",
              "\n",
              "        marital-status          occupation    relationship    race  sex  \\\n",
              "0        Never-married        Adm-clerical   Not-in-family   White    1   \n",
              "1   Married-civ-spouse     Exec-managerial         Husband   White    1   \n",
              "2             Divorced   Handlers-cleaners   Not-in-family   White    1   \n",
              "3   Married-civ-spouse   Handlers-cleaners         Husband   Black    1   \n",
              "4   Married-civ-spouse      Prof-specialty            Wife   Black    0   \n",
              "\n",
              "   capital-gain  capital-loss  hours-per-week  native-country  Earning  \n",
              "0          2174             0              40   United-States        0  \n",
              "1             0             0              13   United-States        0  \n",
              "2             0             0              40   United-States        0  \n",
              "3             0             0              40   United-States        0  \n",
              "4             0             0              40            Cuba        0  "
            ],
            "text/html": [
              "\n",
              "  <div id=\"df-7ec32737-91dc-405b-9996-dc335a08a0d4\">\n",
              "    <div class=\"colab-df-container\">\n",
              "      <div>\n",
              "<style scoped>\n",
              "    .dataframe tbody tr th:only-of-type {\n",
              "        vertical-align: middle;\n",
              "    }\n",
              "\n",
              "    .dataframe tbody tr th {\n",
              "        vertical-align: top;\n",
              "    }\n",
              "\n",
              "    .dataframe thead th {\n",
              "        text-align: right;\n",
              "    }\n",
              "</style>\n",
              "<table border=\"1\" class=\"dataframe\">\n",
              "  <thead>\n",
              "    <tr style=\"text-align: right;\">\n",
              "      <th></th>\n",
              "      <th>age</th>\n",
              "      <th>workclass</th>\n",
              "      <th>fnlwgt</th>\n",
              "      <th>education</th>\n",
              "      <th>education-num</th>\n",
              "      <th>marital-status</th>\n",
              "      <th>occupation</th>\n",
              "      <th>relationship</th>\n",
              "      <th>race</th>\n",
              "      <th>sex</th>\n",
              "      <th>capital-gain</th>\n",
              "      <th>capital-loss</th>\n",
              "      <th>hours-per-week</th>\n",
              "      <th>native-country</th>\n",
              "      <th>Earning</th>\n",
              "    </tr>\n",
              "  </thead>\n",
              "  <tbody>\n",
              "    <tr>\n",
              "      <th>0</th>\n",
              "      <td>39</td>\n",
              "      <td>State-gov</td>\n",
              "      <td>77516</td>\n",
              "      <td>Bachelors</td>\n",
              "      <td>13</td>\n",
              "      <td>Never-married</td>\n",
              "      <td>Adm-clerical</td>\n",
              "      <td>Not-in-family</td>\n",
              "      <td>White</td>\n",
              "      <td>1</td>\n",
              "      <td>2174</td>\n",
              "      <td>0</td>\n",
              "      <td>40</td>\n",
              "      <td>United-States</td>\n",
              "      <td>0</td>\n",
              "    </tr>\n",
              "    <tr>\n",
              "      <th>1</th>\n",
              "      <td>50</td>\n",
              "      <td>Self-emp-not-inc</td>\n",
              "      <td>83311</td>\n",
              "      <td>Bachelors</td>\n",
              "      <td>13</td>\n",
              "      <td>Married-civ-spouse</td>\n",
              "      <td>Exec-managerial</td>\n",
              "      <td>Husband</td>\n",
              "      <td>White</td>\n",
              "      <td>1</td>\n",
              "      <td>0</td>\n",
              "      <td>0</td>\n",
              "      <td>13</td>\n",
              "      <td>United-States</td>\n",
              "      <td>0</td>\n",
              "    </tr>\n",
              "    <tr>\n",
              "      <th>2</th>\n",
              "      <td>38</td>\n",
              "      <td>Private</td>\n",
              "      <td>215646</td>\n",
              "      <td>HS-grad</td>\n",
              "      <td>9</td>\n",
              "      <td>Divorced</td>\n",
              "      <td>Handlers-cleaners</td>\n",
              "      <td>Not-in-family</td>\n",
              "      <td>White</td>\n",
              "      <td>1</td>\n",
              "      <td>0</td>\n",
              "      <td>0</td>\n",
              "      <td>40</td>\n",
              "      <td>United-States</td>\n",
              "      <td>0</td>\n",
              "    </tr>\n",
              "    <tr>\n",
              "      <th>3</th>\n",
              "      <td>53</td>\n",
              "      <td>Private</td>\n",
              "      <td>234721</td>\n",
              "      <td>11th</td>\n",
              "      <td>7</td>\n",
              "      <td>Married-civ-spouse</td>\n",
              "      <td>Handlers-cleaners</td>\n",
              "      <td>Husband</td>\n",
              "      <td>Black</td>\n",
              "      <td>1</td>\n",
              "      <td>0</td>\n",
              "      <td>0</td>\n",
              "      <td>40</td>\n",
              "      <td>United-States</td>\n",
              "      <td>0</td>\n",
              "    </tr>\n",
              "    <tr>\n",
              "      <th>4</th>\n",
              "      <td>28</td>\n",
              "      <td>Private</td>\n",
              "      <td>338409</td>\n",
              "      <td>Bachelors</td>\n",
              "      <td>13</td>\n",
              "      <td>Married-civ-spouse</td>\n",
              "      <td>Prof-specialty</td>\n",
              "      <td>Wife</td>\n",
              "      <td>Black</td>\n",
              "      <td>0</td>\n",
              "      <td>0</td>\n",
              "      <td>0</td>\n",
              "      <td>40</td>\n",
              "      <td>Cuba</td>\n",
              "      <td>0</td>\n",
              "    </tr>\n",
              "  </tbody>\n",
              "</table>\n",
              "</div>\n",
              "      <button class=\"colab-df-convert\" onclick=\"convertToInteractive('df-7ec32737-91dc-405b-9996-dc335a08a0d4')\"\n",
              "              title=\"Convert this dataframe to an interactive table.\"\n",
              "              style=\"display:none;\">\n",
              "        \n",
              "  <svg xmlns=\"http://www.w3.org/2000/svg\" height=\"24px\"viewBox=\"0 0 24 24\"\n",
              "       width=\"24px\">\n",
              "    <path d=\"M0 0h24v24H0V0z\" fill=\"none\"/>\n",
              "    <path d=\"M18.56 5.44l.94 2.06.94-2.06 2.06-.94-2.06-.94-.94-2.06-.94 2.06-2.06.94zm-11 1L8.5 8.5l.94-2.06 2.06-.94-2.06-.94L8.5 2.5l-.94 2.06-2.06.94zm10 10l.94 2.06.94-2.06 2.06-.94-2.06-.94-.94-2.06-.94 2.06-2.06.94z\"/><path d=\"M17.41 7.96l-1.37-1.37c-.4-.4-.92-.59-1.43-.59-.52 0-1.04.2-1.43.59L10.3 9.45l-7.72 7.72c-.78.78-.78 2.05 0 2.83L4 21.41c.39.39.9.59 1.41.59.51 0 1.02-.2 1.41-.59l7.78-7.78 2.81-2.81c.8-.78.8-2.07 0-2.86zM5.41 20L4 18.59l7.72-7.72 1.47 1.35L5.41 20z\"/>\n",
              "  </svg>\n",
              "      </button>\n",
              "      \n",
              "  <style>\n",
              "    .colab-df-container {\n",
              "      display:flex;\n",
              "      flex-wrap:wrap;\n",
              "      gap: 12px;\n",
              "    }\n",
              "\n",
              "    .colab-df-convert {\n",
              "      background-color: #E8F0FE;\n",
              "      border: none;\n",
              "      border-radius: 50%;\n",
              "      cursor: pointer;\n",
              "      display: none;\n",
              "      fill: #1967D2;\n",
              "      height: 32px;\n",
              "      padding: 0 0 0 0;\n",
              "      width: 32px;\n",
              "    }\n",
              "\n",
              "    .colab-df-convert:hover {\n",
              "      background-color: #E2EBFA;\n",
              "      box-shadow: 0px 1px 2px rgba(60, 64, 67, 0.3), 0px 1px 3px 1px rgba(60, 64, 67, 0.15);\n",
              "      fill: #174EA6;\n",
              "    }\n",
              "\n",
              "    [theme=dark] .colab-df-convert {\n",
              "      background-color: #3B4455;\n",
              "      fill: #D2E3FC;\n",
              "    }\n",
              "\n",
              "    [theme=dark] .colab-df-convert:hover {\n",
              "      background-color: #434B5C;\n",
              "      box-shadow: 0px 1px 3px 1px rgba(0, 0, 0, 0.15);\n",
              "      filter: drop-shadow(0px 1px 2px rgba(0, 0, 0, 0.3));\n",
              "      fill: #FFFFFF;\n",
              "    }\n",
              "  </style>\n",
              "\n",
              "      <script>\n",
              "        const buttonEl =\n",
              "          document.querySelector('#df-7ec32737-91dc-405b-9996-dc335a08a0d4 button.colab-df-convert');\n",
              "        buttonEl.style.display =\n",
              "          google.colab.kernel.accessAllowed ? 'block' : 'none';\n",
              "\n",
              "        async function convertToInteractive(key) {\n",
              "          const element = document.querySelector('#df-7ec32737-91dc-405b-9996-dc335a08a0d4');\n",
              "          const dataTable =\n",
              "            await google.colab.kernel.invokeFunction('convertToInteractive',\n",
              "                                                     [key], {});\n",
              "          if (!dataTable) return;\n",
              "\n",
              "          const docLinkHtml = 'Like what you see? Visit the ' +\n",
              "            '<a target=\"_blank\" href=https://colab.research.google.com/notebooks/data_table.ipynb>data table notebook</a>'\n",
              "            + ' to learn more about interactive tables.';\n",
              "          element.innerHTML = '';\n",
              "          dataTable['output_type'] = 'display_data';\n",
              "          await google.colab.output.renderOutput(dataTable, element);\n",
              "          const docLink = document.createElement('div');\n",
              "          docLink.innerHTML = docLinkHtml;\n",
              "          element.appendChild(docLink);\n",
              "        }\n",
              "      </script>\n",
              "    </div>\n",
              "  </div>\n",
              "  "
            ]
          },
          "metadata": {},
          "execution_count": 12
        }
      ]
    },
    {
      "cell_type": "code",
      "source": [
        "workclass=df['workclass'].value_counts().to_dict()\n",
        "marital_status=df['marital-status'].value_counts().to_dict()\n",
        "occupation=df['occupation'].value_counts().to_dict()\n",
        "relationship=df['relationship'].value_counts().to_dict()\n",
        "race=df['race'].value_counts().to_dict()\n",
        "native_country=df['native-country'].value_counts().to_dict()\n"
      ],
      "metadata": {
        "id": "x6BJnj8924sB"
      },
      "execution_count": 13,
      "outputs": []
    },
    {
      "cell_type": "code",
      "source": [
        "df['workclass']=df['workclass'].replace(workclass)\n",
        "df['marital-status']=df['marital-status'].replace(marital_status)\n",
        "df['occupation']=df['occupation'].replace(occupation)\n",
        "df['relationship']=df['relationship'].replace(relationship)\n",
        "df['race']=df['race'].replace(race)\n",
        "df['native-country']=df['native-country'].replace(native_country)\n",
        "\n"
      ],
      "metadata": {
        "id": "0TR_QRWWXURp"
      },
      "execution_count": 14,
      "outputs": []
    },
    {
      "cell_type": "code",
      "source": [
        "df.head()"
      ],
      "metadata": {
        "colab": {
          "base_uri": "https://localhost:8080/",
          "height": 206
        },
        "id": "LTVZYnebdp57",
        "outputId": "d13578b4-dc28-4b5a-9351-fda4c2020561"
      },
      "execution_count": 15,
      "outputs": [
        {
          "output_type": "execute_result",
          "data": {
            "text/plain": [
              "   age  workclass  fnlwgt   education  education-num  marital-status  \\\n",
              "0   39       1981   77516   Bachelors             13           16117   \n",
              "1   50       3862   83311   Bachelors             13           22379   \n",
              "2   38      36705  215646     HS-grad              9            6633   \n",
              "3   53      36705  234721        11th              7           22379   \n",
              "4   28      36705  338409   Bachelors             13           22379   \n",
              "\n",
              "   occupation  relationship   race  sex  capital-gain  capital-loss  \\\n",
              "0        5611         12583  41762    1          2174             0   \n",
              "1        6086         19716  41762    1             0             0   \n",
              "2        2072         12583  41762    1             0             0   \n",
              "3        2072         19716   4685    1             0             0   \n",
              "4        8981          2331   4685    0             0             0   \n",
              "\n",
              "   hours-per-week  native-country  Earning  \n",
              "0              40           44689        0  \n",
              "1              13           44689        0  \n",
              "2              40           44689        0  \n",
              "3              40           44689        0  \n",
              "4              40             138        0  "
            ],
            "text/html": [
              "\n",
              "  <div id=\"df-94fb2f61-2ace-4b6c-8e31-4f31b1c0ebc2\">\n",
              "    <div class=\"colab-df-container\">\n",
              "      <div>\n",
              "<style scoped>\n",
              "    .dataframe tbody tr th:only-of-type {\n",
              "        vertical-align: middle;\n",
              "    }\n",
              "\n",
              "    .dataframe tbody tr th {\n",
              "        vertical-align: top;\n",
              "    }\n",
              "\n",
              "    .dataframe thead th {\n",
              "        text-align: right;\n",
              "    }\n",
              "</style>\n",
              "<table border=\"1\" class=\"dataframe\">\n",
              "  <thead>\n",
              "    <tr style=\"text-align: right;\">\n",
              "      <th></th>\n",
              "      <th>age</th>\n",
              "      <th>workclass</th>\n",
              "      <th>fnlwgt</th>\n",
              "      <th>education</th>\n",
              "      <th>education-num</th>\n",
              "      <th>marital-status</th>\n",
              "      <th>occupation</th>\n",
              "      <th>relationship</th>\n",
              "      <th>race</th>\n",
              "      <th>sex</th>\n",
              "      <th>capital-gain</th>\n",
              "      <th>capital-loss</th>\n",
              "      <th>hours-per-week</th>\n",
              "      <th>native-country</th>\n",
              "      <th>Earning</th>\n",
              "    </tr>\n",
              "  </thead>\n",
              "  <tbody>\n",
              "    <tr>\n",
              "      <th>0</th>\n",
              "      <td>39</td>\n",
              "      <td>1981</td>\n",
              "      <td>77516</td>\n",
              "      <td>Bachelors</td>\n",
              "      <td>13</td>\n",
              "      <td>16117</td>\n",
              "      <td>5611</td>\n",
              "      <td>12583</td>\n",
              "      <td>41762</td>\n",
              "      <td>1</td>\n",
              "      <td>2174</td>\n",
              "      <td>0</td>\n",
              "      <td>40</td>\n",
              "      <td>44689</td>\n",
              "      <td>0</td>\n",
              "    </tr>\n",
              "    <tr>\n",
              "      <th>1</th>\n",
              "      <td>50</td>\n",
              "      <td>3862</td>\n",
              "      <td>83311</td>\n",
              "      <td>Bachelors</td>\n",
              "      <td>13</td>\n",
              "      <td>22379</td>\n",
              "      <td>6086</td>\n",
              "      <td>19716</td>\n",
              "      <td>41762</td>\n",
              "      <td>1</td>\n",
              "      <td>0</td>\n",
              "      <td>0</td>\n",
              "      <td>13</td>\n",
              "      <td>44689</td>\n",
              "      <td>0</td>\n",
              "    </tr>\n",
              "    <tr>\n",
              "      <th>2</th>\n",
              "      <td>38</td>\n",
              "      <td>36705</td>\n",
              "      <td>215646</td>\n",
              "      <td>HS-grad</td>\n",
              "      <td>9</td>\n",
              "      <td>6633</td>\n",
              "      <td>2072</td>\n",
              "      <td>12583</td>\n",
              "      <td>41762</td>\n",
              "      <td>1</td>\n",
              "      <td>0</td>\n",
              "      <td>0</td>\n",
              "      <td>40</td>\n",
              "      <td>44689</td>\n",
              "      <td>0</td>\n",
              "    </tr>\n",
              "    <tr>\n",
              "      <th>3</th>\n",
              "      <td>53</td>\n",
              "      <td>36705</td>\n",
              "      <td>234721</td>\n",
              "      <td>11th</td>\n",
              "      <td>7</td>\n",
              "      <td>22379</td>\n",
              "      <td>2072</td>\n",
              "      <td>19716</td>\n",
              "      <td>4685</td>\n",
              "      <td>1</td>\n",
              "      <td>0</td>\n",
              "      <td>0</td>\n",
              "      <td>40</td>\n",
              "      <td>44689</td>\n",
              "      <td>0</td>\n",
              "    </tr>\n",
              "    <tr>\n",
              "      <th>4</th>\n",
              "      <td>28</td>\n",
              "      <td>36705</td>\n",
              "      <td>338409</td>\n",
              "      <td>Bachelors</td>\n",
              "      <td>13</td>\n",
              "      <td>22379</td>\n",
              "      <td>8981</td>\n",
              "      <td>2331</td>\n",
              "      <td>4685</td>\n",
              "      <td>0</td>\n",
              "      <td>0</td>\n",
              "      <td>0</td>\n",
              "      <td>40</td>\n",
              "      <td>138</td>\n",
              "      <td>0</td>\n",
              "    </tr>\n",
              "  </tbody>\n",
              "</table>\n",
              "</div>\n",
              "      <button class=\"colab-df-convert\" onclick=\"convertToInteractive('df-94fb2f61-2ace-4b6c-8e31-4f31b1c0ebc2')\"\n",
              "              title=\"Convert this dataframe to an interactive table.\"\n",
              "              style=\"display:none;\">\n",
              "        \n",
              "  <svg xmlns=\"http://www.w3.org/2000/svg\" height=\"24px\"viewBox=\"0 0 24 24\"\n",
              "       width=\"24px\">\n",
              "    <path d=\"M0 0h24v24H0V0z\" fill=\"none\"/>\n",
              "    <path d=\"M18.56 5.44l.94 2.06.94-2.06 2.06-.94-2.06-.94-.94-2.06-.94 2.06-2.06.94zm-11 1L8.5 8.5l.94-2.06 2.06-.94-2.06-.94L8.5 2.5l-.94 2.06-2.06.94zm10 10l.94 2.06.94-2.06 2.06-.94-2.06-.94-.94-2.06-.94 2.06-2.06.94z\"/><path d=\"M17.41 7.96l-1.37-1.37c-.4-.4-.92-.59-1.43-.59-.52 0-1.04.2-1.43.59L10.3 9.45l-7.72 7.72c-.78.78-.78 2.05 0 2.83L4 21.41c.39.39.9.59 1.41.59.51 0 1.02-.2 1.41-.59l7.78-7.78 2.81-2.81c.8-.78.8-2.07 0-2.86zM5.41 20L4 18.59l7.72-7.72 1.47 1.35L5.41 20z\"/>\n",
              "  </svg>\n",
              "      </button>\n",
              "      \n",
              "  <style>\n",
              "    .colab-df-container {\n",
              "      display:flex;\n",
              "      flex-wrap:wrap;\n",
              "      gap: 12px;\n",
              "    }\n",
              "\n",
              "    .colab-df-convert {\n",
              "      background-color: #E8F0FE;\n",
              "      border: none;\n",
              "      border-radius: 50%;\n",
              "      cursor: pointer;\n",
              "      display: none;\n",
              "      fill: #1967D2;\n",
              "      height: 32px;\n",
              "      padding: 0 0 0 0;\n",
              "      width: 32px;\n",
              "    }\n",
              "\n",
              "    .colab-df-convert:hover {\n",
              "      background-color: #E2EBFA;\n",
              "      box-shadow: 0px 1px 2px rgba(60, 64, 67, 0.3), 0px 1px 3px 1px rgba(60, 64, 67, 0.15);\n",
              "      fill: #174EA6;\n",
              "    }\n",
              "\n",
              "    [theme=dark] .colab-df-convert {\n",
              "      background-color: #3B4455;\n",
              "      fill: #D2E3FC;\n",
              "    }\n",
              "\n",
              "    [theme=dark] .colab-df-convert:hover {\n",
              "      background-color: #434B5C;\n",
              "      box-shadow: 0px 1px 3px 1px rgba(0, 0, 0, 0.15);\n",
              "      filter: drop-shadow(0px 1px 2px rgba(0, 0, 0, 0.3));\n",
              "      fill: #FFFFFF;\n",
              "    }\n",
              "  </style>\n",
              "\n",
              "      <script>\n",
              "        const buttonEl =\n",
              "          document.querySelector('#df-94fb2f61-2ace-4b6c-8e31-4f31b1c0ebc2 button.colab-df-convert');\n",
              "        buttonEl.style.display =\n",
              "          google.colab.kernel.accessAllowed ? 'block' : 'none';\n",
              "\n",
              "        async function convertToInteractive(key) {\n",
              "          const element = document.querySelector('#df-94fb2f61-2ace-4b6c-8e31-4f31b1c0ebc2');\n",
              "          const dataTable =\n",
              "            await google.colab.kernel.invokeFunction('convertToInteractive',\n",
              "                                                     [key], {});\n",
              "          if (!dataTable) return;\n",
              "\n",
              "          const docLinkHtml = 'Like what you see? Visit the ' +\n",
              "            '<a target=\"_blank\" href=https://colab.research.google.com/notebooks/data_table.ipynb>data table notebook</a>'\n",
              "            + ' to learn more about interactive tables.';\n",
              "          element.innerHTML = '';\n",
              "          dataTable['output_type'] = 'display_data';\n",
              "          await google.colab.output.renderOutput(dataTable, element);\n",
              "          const docLink = document.createElement('div');\n",
              "          docLink.innerHTML = docLinkHtml;\n",
              "          element.appendChild(docLink);\n",
              "        }\n",
              "      </script>\n",
              "    </div>\n",
              "  </div>\n",
              "  "
            ]
          },
          "metadata": {},
          "execution_count": 15
        }
      ]
    },
    {
      "cell_type": "code",
      "source": [
        "df.workclass"
      ],
      "metadata": {
        "colab": {
          "base_uri": "https://localhost:8080/"
        },
        "id": "pA4FzjlOXxS1",
        "outputId": "0d5b893e-18f6-43a4-af30-a103f1f00a3a"
      },
      "execution_count": 16,
      "outputs": [
        {
          "output_type": "execute_result",
          "data": {
            "text/plain": [
              "0         1981\n",
              "1         3862\n",
              "2        36705\n",
              "3        36705\n",
              "4        36705\n",
              "         ...  \n",
              "48837    36705\n",
              "48838    36705\n",
              "48839    36705\n",
              "48840    36705\n",
              "48841     1695\n",
              "Name: workclass, Length: 48842, dtype: int64"
            ]
          },
          "metadata": {},
          "execution_count": 16
        }
      ]
    },
    {
      "cell_type": "markdown",
      "source": [
        "**DATA FOR ANALYSIS:**"
      ],
      "metadata": {
        "id": "wI0mygpSC0-Q"
      }
    },
    {
      "cell_type": "markdown",
      "source": [
        "**Data feature segregation:**"
      ],
      "metadata": {
        "id": "ZHEgGCIhEGg5"
      }
    },
    {
      "cell_type": "code",
      "source": [
        "dependent_feature=df['Earning']\n",
        "\n",
        "independent_features=df.drop(['Earning', 'education'], axis=1)"
      ],
      "metadata": {
        "id": "5q_CS56DEFyy"
      },
      "execution_count": 17,
      "outputs": []
    },
    {
      "cell_type": "code",
      "source": [
        "independent_features.head(10)"
      ],
      "metadata": {
        "colab": {
          "base_uri": "https://localhost:8080/",
          "height": 363
        },
        "id": "TJ98HIKOG2Uv",
        "outputId": "322c03c6-3a7c-4bf9-d61e-34480eda7c28"
      },
      "execution_count": 18,
      "outputs": [
        {
          "output_type": "execute_result",
          "data": {
            "text/plain": [
              "   age  workclass  fnlwgt  education-num  marital-status  occupation  \\\n",
              "0   39       1981   77516             13           16117        5611   \n",
              "1   50       3862   83311             13           22379        6086   \n",
              "2   38      36705  215646              9            6633        2072   \n",
              "3   53      36705  234721              7           22379        2072   \n",
              "4   28      36705  338409             13           22379        8981   \n",
              "5   37      36705  284582             14           22379        6086   \n",
              "6   49      36705  160187              5             628        4923   \n",
              "7   52       3862  209642              9           22379        6086   \n",
              "8   31      36705   45781             14           16117        8981   \n",
              "9   42      36705  159449             13           22379        6086   \n",
              "\n",
              "   relationship   race  sex  capital-gain  capital-loss  hours-per-week  \\\n",
              "0         12583  41762    1          2174             0              40   \n",
              "1         19716  41762    1             0             0              13   \n",
              "2         12583  41762    1             0             0              40   \n",
              "3         19716   4685    1             0             0              40   \n",
              "4          2331   4685    0             0             0              40   \n",
              "5          2331  41762    0             0             0              40   \n",
              "6         12583   4685    0             0             0              16   \n",
              "7         19716  41762    1             0             0              45   \n",
              "8         12583  41762    0         14084             0              50   \n",
              "9         19716  41762    1          5178             0              40   \n",
              "\n",
              "   native-country  \n",
              "0           44689  \n",
              "1           44689  \n",
              "2           44689  \n",
              "3           44689  \n",
              "4             138  \n",
              "5           44689  \n",
              "6             106  \n",
              "7           44689  \n",
              "8           44689  \n",
              "9           44689  "
            ],
            "text/html": [
              "\n",
              "  <div id=\"df-f50c344b-e939-4f80-aedc-641d8f362935\">\n",
              "    <div class=\"colab-df-container\">\n",
              "      <div>\n",
              "<style scoped>\n",
              "    .dataframe tbody tr th:only-of-type {\n",
              "        vertical-align: middle;\n",
              "    }\n",
              "\n",
              "    .dataframe tbody tr th {\n",
              "        vertical-align: top;\n",
              "    }\n",
              "\n",
              "    .dataframe thead th {\n",
              "        text-align: right;\n",
              "    }\n",
              "</style>\n",
              "<table border=\"1\" class=\"dataframe\">\n",
              "  <thead>\n",
              "    <tr style=\"text-align: right;\">\n",
              "      <th></th>\n",
              "      <th>age</th>\n",
              "      <th>workclass</th>\n",
              "      <th>fnlwgt</th>\n",
              "      <th>education-num</th>\n",
              "      <th>marital-status</th>\n",
              "      <th>occupation</th>\n",
              "      <th>relationship</th>\n",
              "      <th>race</th>\n",
              "      <th>sex</th>\n",
              "      <th>capital-gain</th>\n",
              "      <th>capital-loss</th>\n",
              "      <th>hours-per-week</th>\n",
              "      <th>native-country</th>\n",
              "    </tr>\n",
              "  </thead>\n",
              "  <tbody>\n",
              "    <tr>\n",
              "      <th>0</th>\n",
              "      <td>39</td>\n",
              "      <td>1981</td>\n",
              "      <td>77516</td>\n",
              "      <td>13</td>\n",
              "      <td>16117</td>\n",
              "      <td>5611</td>\n",
              "      <td>12583</td>\n",
              "      <td>41762</td>\n",
              "      <td>1</td>\n",
              "      <td>2174</td>\n",
              "      <td>0</td>\n",
              "      <td>40</td>\n",
              "      <td>44689</td>\n",
              "    </tr>\n",
              "    <tr>\n",
              "      <th>1</th>\n",
              "      <td>50</td>\n",
              "      <td>3862</td>\n",
              "      <td>83311</td>\n",
              "      <td>13</td>\n",
              "      <td>22379</td>\n",
              "      <td>6086</td>\n",
              "      <td>19716</td>\n",
              "      <td>41762</td>\n",
              "      <td>1</td>\n",
              "      <td>0</td>\n",
              "      <td>0</td>\n",
              "      <td>13</td>\n",
              "      <td>44689</td>\n",
              "    </tr>\n",
              "    <tr>\n",
              "      <th>2</th>\n",
              "      <td>38</td>\n",
              "      <td>36705</td>\n",
              "      <td>215646</td>\n",
              "      <td>9</td>\n",
              "      <td>6633</td>\n",
              "      <td>2072</td>\n",
              "      <td>12583</td>\n",
              "      <td>41762</td>\n",
              "      <td>1</td>\n",
              "      <td>0</td>\n",
              "      <td>0</td>\n",
              "      <td>40</td>\n",
              "      <td>44689</td>\n",
              "    </tr>\n",
              "    <tr>\n",
              "      <th>3</th>\n",
              "      <td>53</td>\n",
              "      <td>36705</td>\n",
              "      <td>234721</td>\n",
              "      <td>7</td>\n",
              "      <td>22379</td>\n",
              "      <td>2072</td>\n",
              "      <td>19716</td>\n",
              "      <td>4685</td>\n",
              "      <td>1</td>\n",
              "      <td>0</td>\n",
              "      <td>0</td>\n",
              "      <td>40</td>\n",
              "      <td>44689</td>\n",
              "    </tr>\n",
              "    <tr>\n",
              "      <th>4</th>\n",
              "      <td>28</td>\n",
              "      <td>36705</td>\n",
              "      <td>338409</td>\n",
              "      <td>13</td>\n",
              "      <td>22379</td>\n",
              "      <td>8981</td>\n",
              "      <td>2331</td>\n",
              "      <td>4685</td>\n",
              "      <td>0</td>\n",
              "      <td>0</td>\n",
              "      <td>0</td>\n",
              "      <td>40</td>\n",
              "      <td>138</td>\n",
              "    </tr>\n",
              "    <tr>\n",
              "      <th>5</th>\n",
              "      <td>37</td>\n",
              "      <td>36705</td>\n",
              "      <td>284582</td>\n",
              "      <td>14</td>\n",
              "      <td>22379</td>\n",
              "      <td>6086</td>\n",
              "      <td>2331</td>\n",
              "      <td>41762</td>\n",
              "      <td>0</td>\n",
              "      <td>0</td>\n",
              "      <td>0</td>\n",
              "      <td>40</td>\n",
              "      <td>44689</td>\n",
              "    </tr>\n",
              "    <tr>\n",
              "      <th>6</th>\n",
              "      <td>49</td>\n",
              "      <td>36705</td>\n",
              "      <td>160187</td>\n",
              "      <td>5</td>\n",
              "      <td>628</td>\n",
              "      <td>4923</td>\n",
              "      <td>12583</td>\n",
              "      <td>4685</td>\n",
              "      <td>0</td>\n",
              "      <td>0</td>\n",
              "      <td>0</td>\n",
              "      <td>16</td>\n",
              "      <td>106</td>\n",
              "    </tr>\n",
              "    <tr>\n",
              "      <th>7</th>\n",
              "      <td>52</td>\n",
              "      <td>3862</td>\n",
              "      <td>209642</td>\n",
              "      <td>9</td>\n",
              "      <td>22379</td>\n",
              "      <td>6086</td>\n",
              "      <td>19716</td>\n",
              "      <td>41762</td>\n",
              "      <td>1</td>\n",
              "      <td>0</td>\n",
              "      <td>0</td>\n",
              "      <td>45</td>\n",
              "      <td>44689</td>\n",
              "    </tr>\n",
              "    <tr>\n",
              "      <th>8</th>\n",
              "      <td>31</td>\n",
              "      <td>36705</td>\n",
              "      <td>45781</td>\n",
              "      <td>14</td>\n",
              "      <td>16117</td>\n",
              "      <td>8981</td>\n",
              "      <td>12583</td>\n",
              "      <td>41762</td>\n",
              "      <td>0</td>\n",
              "      <td>14084</td>\n",
              "      <td>0</td>\n",
              "      <td>50</td>\n",
              "      <td>44689</td>\n",
              "    </tr>\n",
              "    <tr>\n",
              "      <th>9</th>\n",
              "      <td>42</td>\n",
              "      <td>36705</td>\n",
              "      <td>159449</td>\n",
              "      <td>13</td>\n",
              "      <td>22379</td>\n",
              "      <td>6086</td>\n",
              "      <td>19716</td>\n",
              "      <td>41762</td>\n",
              "      <td>1</td>\n",
              "      <td>5178</td>\n",
              "      <td>0</td>\n",
              "      <td>40</td>\n",
              "      <td>44689</td>\n",
              "    </tr>\n",
              "  </tbody>\n",
              "</table>\n",
              "</div>\n",
              "      <button class=\"colab-df-convert\" onclick=\"convertToInteractive('df-f50c344b-e939-4f80-aedc-641d8f362935')\"\n",
              "              title=\"Convert this dataframe to an interactive table.\"\n",
              "              style=\"display:none;\">\n",
              "        \n",
              "  <svg xmlns=\"http://www.w3.org/2000/svg\" height=\"24px\"viewBox=\"0 0 24 24\"\n",
              "       width=\"24px\">\n",
              "    <path d=\"M0 0h24v24H0V0z\" fill=\"none\"/>\n",
              "    <path d=\"M18.56 5.44l.94 2.06.94-2.06 2.06-.94-2.06-.94-.94-2.06-.94 2.06-2.06.94zm-11 1L8.5 8.5l.94-2.06 2.06-.94-2.06-.94L8.5 2.5l-.94 2.06-2.06.94zm10 10l.94 2.06.94-2.06 2.06-.94-2.06-.94-.94-2.06-.94 2.06-2.06.94z\"/><path d=\"M17.41 7.96l-1.37-1.37c-.4-.4-.92-.59-1.43-.59-.52 0-1.04.2-1.43.59L10.3 9.45l-7.72 7.72c-.78.78-.78 2.05 0 2.83L4 21.41c.39.39.9.59 1.41.59.51 0 1.02-.2 1.41-.59l7.78-7.78 2.81-2.81c.8-.78.8-2.07 0-2.86zM5.41 20L4 18.59l7.72-7.72 1.47 1.35L5.41 20z\"/>\n",
              "  </svg>\n",
              "      </button>\n",
              "      \n",
              "  <style>\n",
              "    .colab-df-container {\n",
              "      display:flex;\n",
              "      flex-wrap:wrap;\n",
              "      gap: 12px;\n",
              "    }\n",
              "\n",
              "    .colab-df-convert {\n",
              "      background-color: #E8F0FE;\n",
              "      border: none;\n",
              "      border-radius: 50%;\n",
              "      cursor: pointer;\n",
              "      display: none;\n",
              "      fill: #1967D2;\n",
              "      height: 32px;\n",
              "      padding: 0 0 0 0;\n",
              "      width: 32px;\n",
              "    }\n",
              "\n",
              "    .colab-df-convert:hover {\n",
              "      background-color: #E2EBFA;\n",
              "      box-shadow: 0px 1px 2px rgba(60, 64, 67, 0.3), 0px 1px 3px 1px rgba(60, 64, 67, 0.15);\n",
              "      fill: #174EA6;\n",
              "    }\n",
              "\n",
              "    [theme=dark] .colab-df-convert {\n",
              "      background-color: #3B4455;\n",
              "      fill: #D2E3FC;\n",
              "    }\n",
              "\n",
              "    [theme=dark] .colab-df-convert:hover {\n",
              "      background-color: #434B5C;\n",
              "      box-shadow: 0px 1px 3px 1px rgba(0, 0, 0, 0.15);\n",
              "      filter: drop-shadow(0px 1px 2px rgba(0, 0, 0, 0.3));\n",
              "      fill: #FFFFFF;\n",
              "    }\n",
              "  </style>\n",
              "\n",
              "      <script>\n",
              "        const buttonEl =\n",
              "          document.querySelector('#df-f50c344b-e939-4f80-aedc-641d8f362935 button.colab-df-convert');\n",
              "        buttonEl.style.display =\n",
              "          google.colab.kernel.accessAllowed ? 'block' : 'none';\n",
              "\n",
              "        async function convertToInteractive(key) {\n",
              "          const element = document.querySelector('#df-f50c344b-e939-4f80-aedc-641d8f362935');\n",
              "          const dataTable =\n",
              "            await google.colab.kernel.invokeFunction('convertToInteractive',\n",
              "                                                     [key], {});\n",
              "          if (!dataTable) return;\n",
              "\n",
              "          const docLinkHtml = 'Like what you see? Visit the ' +\n",
              "            '<a target=\"_blank\" href=https://colab.research.google.com/notebooks/data_table.ipynb>data table notebook</a>'\n",
              "            + ' to learn more about interactive tables.';\n",
              "          element.innerHTML = '';\n",
              "          dataTable['output_type'] = 'display_data';\n",
              "          await google.colab.output.renderOutput(dataTable, element);\n",
              "          const docLink = document.createElement('div');\n",
              "          docLink.innerHTML = docLinkHtml;\n",
              "          element.appendChild(docLink);\n",
              "        }\n",
              "      </script>\n",
              "    </div>\n",
              "  </div>\n",
              "  "
            ]
          },
          "metadata": {},
          "execution_count": 18
        }
      ]
    },
    {
      "cell_type": "markdown",
      "source": [
        "**EXPLORING DATA**"
      ],
      "metadata": {
        "id": "Iy5V9sNn8znM"
      }
    },
    {
      "cell_type": "code",
      "source": [
        "#!pip install autoviz"
      ],
      "metadata": {
        "id": "UeVwuh4uCR-a"
      },
      "execution_count": 167,
      "outputs": []
    },
    {
      "cell_type": "markdown",
      "source": [],
      "metadata": {
        "id": "LVwBrE5JQelz"
      }
    },
    {
      "cell_type": "markdown",
      "source": [
        "# **ML MODEL BUILDING:**"
      ],
      "metadata": {
        "id": "lN7Qqcy0dbaZ"
      }
    },
    {
      "cell_type": "code",
      "source": [
        "from sklearn.model_selection import train_test_split"
      ],
      "metadata": {
        "id": "JgdSkCTecCmn"
      },
      "execution_count": 22,
      "outputs": []
    },
    {
      "cell_type": "code",
      "source": [
        "X=independent_features\n",
        "X"
      ],
      "metadata": {
        "colab": {
          "base_uri": "https://localhost:8080/",
          "height": 424
        },
        "id": "4r4LzNw3d-Nu",
        "outputId": "42fa7b5a-9e55-4de9-ad6f-78201221674a"
      },
      "execution_count": 23,
      "outputs": [
        {
          "output_type": "execute_result",
          "data": {
            "text/plain": [
              "       age  workclass  fnlwgt  education-num  marital-status  occupation  \\\n",
              "0       39       1981   77516             13           16117        5611   \n",
              "1       50       3862   83311             13           22379        6086   \n",
              "2       38      36705  215646              9            6633        2072   \n",
              "3       53      36705  234721              7           22379        2072   \n",
              "4       28      36705  338409             13           22379        8981   \n",
              "...    ...        ...     ...            ...             ...         ...   \n",
              "48837   39      36705  215419             13            6633        8981   \n",
              "48838   64      36705  321403              9            1518        8981   \n",
              "48839   38      36705  374983             13           22379        8981   \n",
              "48840   44      36705   83891             13            6633        5611   \n",
              "48841   35       1695  182148             13           22379        6086   \n",
              "\n",
              "       relationship   race  sex  capital-gain  capital-loss  hours-per-week  \\\n",
              "0             12583  41762    1          2174             0              40   \n",
              "1             19716  41762    1             0             0              13   \n",
              "2             12583  41762    1             0             0              40   \n",
              "3             19716   4685    1             0             0              40   \n",
              "4              2331   4685    0             0             0              40   \n",
              "...             ...    ...  ...           ...           ...             ...   \n",
              "48837         12583  41762    0             0             0              36   \n",
              "48838          1506   4685    1             0             0              40   \n",
              "48839         19716  41762    1             0             0              50   \n",
              "48840          7581   1519    1          5455             0              40   \n",
              "48841         19716  41762    1             0             0              60   \n",
              "\n",
              "       native-country  \n",
              "0               44689  \n",
              "1               44689  \n",
              "2               44689  \n",
              "3               44689  \n",
              "4                 138  \n",
              "...               ...  \n",
              "48837           44689  \n",
              "48838           44689  \n",
              "48839           44689  \n",
              "48840           44689  \n",
              "48841           44689  \n",
              "\n",
              "[48842 rows x 13 columns]"
            ],
            "text/html": [
              "\n",
              "  <div id=\"df-af5aac6b-7df8-44ae-adcb-588e2261cedc\">\n",
              "    <div class=\"colab-df-container\">\n",
              "      <div>\n",
              "<style scoped>\n",
              "    .dataframe tbody tr th:only-of-type {\n",
              "        vertical-align: middle;\n",
              "    }\n",
              "\n",
              "    .dataframe tbody tr th {\n",
              "        vertical-align: top;\n",
              "    }\n",
              "\n",
              "    .dataframe thead th {\n",
              "        text-align: right;\n",
              "    }\n",
              "</style>\n",
              "<table border=\"1\" class=\"dataframe\">\n",
              "  <thead>\n",
              "    <tr style=\"text-align: right;\">\n",
              "      <th></th>\n",
              "      <th>age</th>\n",
              "      <th>workclass</th>\n",
              "      <th>fnlwgt</th>\n",
              "      <th>education-num</th>\n",
              "      <th>marital-status</th>\n",
              "      <th>occupation</th>\n",
              "      <th>relationship</th>\n",
              "      <th>race</th>\n",
              "      <th>sex</th>\n",
              "      <th>capital-gain</th>\n",
              "      <th>capital-loss</th>\n",
              "      <th>hours-per-week</th>\n",
              "      <th>native-country</th>\n",
              "    </tr>\n",
              "  </thead>\n",
              "  <tbody>\n",
              "    <tr>\n",
              "      <th>0</th>\n",
              "      <td>39</td>\n",
              "      <td>1981</td>\n",
              "      <td>77516</td>\n",
              "      <td>13</td>\n",
              "      <td>16117</td>\n",
              "      <td>5611</td>\n",
              "      <td>12583</td>\n",
              "      <td>41762</td>\n",
              "      <td>1</td>\n",
              "      <td>2174</td>\n",
              "      <td>0</td>\n",
              "      <td>40</td>\n",
              "      <td>44689</td>\n",
              "    </tr>\n",
              "    <tr>\n",
              "      <th>1</th>\n",
              "      <td>50</td>\n",
              "      <td>3862</td>\n",
              "      <td>83311</td>\n",
              "      <td>13</td>\n",
              "      <td>22379</td>\n",
              "      <td>6086</td>\n",
              "      <td>19716</td>\n",
              "      <td>41762</td>\n",
              "      <td>1</td>\n",
              "      <td>0</td>\n",
              "      <td>0</td>\n",
              "      <td>13</td>\n",
              "      <td>44689</td>\n",
              "    </tr>\n",
              "    <tr>\n",
              "      <th>2</th>\n",
              "      <td>38</td>\n",
              "      <td>36705</td>\n",
              "      <td>215646</td>\n",
              "      <td>9</td>\n",
              "      <td>6633</td>\n",
              "      <td>2072</td>\n",
              "      <td>12583</td>\n",
              "      <td>41762</td>\n",
              "      <td>1</td>\n",
              "      <td>0</td>\n",
              "      <td>0</td>\n",
              "      <td>40</td>\n",
              "      <td>44689</td>\n",
              "    </tr>\n",
              "    <tr>\n",
              "      <th>3</th>\n",
              "      <td>53</td>\n",
              "      <td>36705</td>\n",
              "      <td>234721</td>\n",
              "      <td>7</td>\n",
              "      <td>22379</td>\n",
              "      <td>2072</td>\n",
              "      <td>19716</td>\n",
              "      <td>4685</td>\n",
              "      <td>1</td>\n",
              "      <td>0</td>\n",
              "      <td>0</td>\n",
              "      <td>40</td>\n",
              "      <td>44689</td>\n",
              "    </tr>\n",
              "    <tr>\n",
              "      <th>4</th>\n",
              "      <td>28</td>\n",
              "      <td>36705</td>\n",
              "      <td>338409</td>\n",
              "      <td>13</td>\n",
              "      <td>22379</td>\n",
              "      <td>8981</td>\n",
              "      <td>2331</td>\n",
              "      <td>4685</td>\n",
              "      <td>0</td>\n",
              "      <td>0</td>\n",
              "      <td>0</td>\n",
              "      <td>40</td>\n",
              "      <td>138</td>\n",
              "    </tr>\n",
              "    <tr>\n",
              "      <th>...</th>\n",
              "      <td>...</td>\n",
              "      <td>...</td>\n",
              "      <td>...</td>\n",
              "      <td>...</td>\n",
              "      <td>...</td>\n",
              "      <td>...</td>\n",
              "      <td>...</td>\n",
              "      <td>...</td>\n",
              "      <td>...</td>\n",
              "      <td>...</td>\n",
              "      <td>...</td>\n",
              "      <td>...</td>\n",
              "      <td>...</td>\n",
              "    </tr>\n",
              "    <tr>\n",
              "      <th>48837</th>\n",
              "      <td>39</td>\n",
              "      <td>36705</td>\n",
              "      <td>215419</td>\n",
              "      <td>13</td>\n",
              "      <td>6633</td>\n",
              "      <td>8981</td>\n",
              "      <td>12583</td>\n",
              "      <td>41762</td>\n",
              "      <td>0</td>\n",
              "      <td>0</td>\n",
              "      <td>0</td>\n",
              "      <td>36</td>\n",
              "      <td>44689</td>\n",
              "    </tr>\n",
              "    <tr>\n",
              "      <th>48838</th>\n",
              "      <td>64</td>\n",
              "      <td>36705</td>\n",
              "      <td>321403</td>\n",
              "      <td>9</td>\n",
              "      <td>1518</td>\n",
              "      <td>8981</td>\n",
              "      <td>1506</td>\n",
              "      <td>4685</td>\n",
              "      <td>1</td>\n",
              "      <td>0</td>\n",
              "      <td>0</td>\n",
              "      <td>40</td>\n",
              "      <td>44689</td>\n",
              "    </tr>\n",
              "    <tr>\n",
              "      <th>48839</th>\n",
              "      <td>38</td>\n",
              "      <td>36705</td>\n",
              "      <td>374983</td>\n",
              "      <td>13</td>\n",
              "      <td>22379</td>\n",
              "      <td>8981</td>\n",
              "      <td>19716</td>\n",
              "      <td>41762</td>\n",
              "      <td>1</td>\n",
              "      <td>0</td>\n",
              "      <td>0</td>\n",
              "      <td>50</td>\n",
              "      <td>44689</td>\n",
              "    </tr>\n",
              "    <tr>\n",
              "      <th>48840</th>\n",
              "      <td>44</td>\n",
              "      <td>36705</td>\n",
              "      <td>83891</td>\n",
              "      <td>13</td>\n",
              "      <td>6633</td>\n",
              "      <td>5611</td>\n",
              "      <td>7581</td>\n",
              "      <td>1519</td>\n",
              "      <td>1</td>\n",
              "      <td>5455</td>\n",
              "      <td>0</td>\n",
              "      <td>40</td>\n",
              "      <td>44689</td>\n",
              "    </tr>\n",
              "    <tr>\n",
              "      <th>48841</th>\n",
              "      <td>35</td>\n",
              "      <td>1695</td>\n",
              "      <td>182148</td>\n",
              "      <td>13</td>\n",
              "      <td>22379</td>\n",
              "      <td>6086</td>\n",
              "      <td>19716</td>\n",
              "      <td>41762</td>\n",
              "      <td>1</td>\n",
              "      <td>0</td>\n",
              "      <td>0</td>\n",
              "      <td>60</td>\n",
              "      <td>44689</td>\n",
              "    </tr>\n",
              "  </tbody>\n",
              "</table>\n",
              "<p>48842 rows × 13 columns</p>\n",
              "</div>\n",
              "      <button class=\"colab-df-convert\" onclick=\"convertToInteractive('df-af5aac6b-7df8-44ae-adcb-588e2261cedc')\"\n",
              "              title=\"Convert this dataframe to an interactive table.\"\n",
              "              style=\"display:none;\">\n",
              "        \n",
              "  <svg xmlns=\"http://www.w3.org/2000/svg\" height=\"24px\"viewBox=\"0 0 24 24\"\n",
              "       width=\"24px\">\n",
              "    <path d=\"M0 0h24v24H0V0z\" fill=\"none\"/>\n",
              "    <path d=\"M18.56 5.44l.94 2.06.94-2.06 2.06-.94-2.06-.94-.94-2.06-.94 2.06-2.06.94zm-11 1L8.5 8.5l.94-2.06 2.06-.94-2.06-.94L8.5 2.5l-.94 2.06-2.06.94zm10 10l.94 2.06.94-2.06 2.06-.94-2.06-.94-.94-2.06-.94 2.06-2.06.94z\"/><path d=\"M17.41 7.96l-1.37-1.37c-.4-.4-.92-.59-1.43-.59-.52 0-1.04.2-1.43.59L10.3 9.45l-7.72 7.72c-.78.78-.78 2.05 0 2.83L4 21.41c.39.39.9.59 1.41.59.51 0 1.02-.2 1.41-.59l7.78-7.78 2.81-2.81c.8-.78.8-2.07 0-2.86zM5.41 20L4 18.59l7.72-7.72 1.47 1.35L5.41 20z\"/>\n",
              "  </svg>\n",
              "      </button>\n",
              "      \n",
              "  <style>\n",
              "    .colab-df-container {\n",
              "      display:flex;\n",
              "      flex-wrap:wrap;\n",
              "      gap: 12px;\n",
              "    }\n",
              "\n",
              "    .colab-df-convert {\n",
              "      background-color: #E8F0FE;\n",
              "      border: none;\n",
              "      border-radius: 50%;\n",
              "      cursor: pointer;\n",
              "      display: none;\n",
              "      fill: #1967D2;\n",
              "      height: 32px;\n",
              "      padding: 0 0 0 0;\n",
              "      width: 32px;\n",
              "    }\n",
              "\n",
              "    .colab-df-convert:hover {\n",
              "      background-color: #E2EBFA;\n",
              "      box-shadow: 0px 1px 2px rgba(60, 64, 67, 0.3), 0px 1px 3px 1px rgba(60, 64, 67, 0.15);\n",
              "      fill: #174EA6;\n",
              "    }\n",
              "\n",
              "    [theme=dark] .colab-df-convert {\n",
              "      background-color: #3B4455;\n",
              "      fill: #D2E3FC;\n",
              "    }\n",
              "\n",
              "    [theme=dark] .colab-df-convert:hover {\n",
              "      background-color: #434B5C;\n",
              "      box-shadow: 0px 1px 3px 1px rgba(0, 0, 0, 0.15);\n",
              "      filter: drop-shadow(0px 1px 2px rgba(0, 0, 0, 0.3));\n",
              "      fill: #FFFFFF;\n",
              "    }\n",
              "  </style>\n",
              "\n",
              "      <script>\n",
              "        const buttonEl =\n",
              "          document.querySelector('#df-af5aac6b-7df8-44ae-adcb-588e2261cedc button.colab-df-convert');\n",
              "        buttonEl.style.display =\n",
              "          google.colab.kernel.accessAllowed ? 'block' : 'none';\n",
              "\n",
              "        async function convertToInteractive(key) {\n",
              "          const element = document.querySelector('#df-af5aac6b-7df8-44ae-adcb-588e2261cedc');\n",
              "          const dataTable =\n",
              "            await google.colab.kernel.invokeFunction('convertToInteractive',\n",
              "                                                     [key], {});\n",
              "          if (!dataTable) return;\n",
              "\n",
              "          const docLinkHtml = 'Like what you see? Visit the ' +\n",
              "            '<a target=\"_blank\" href=https://colab.research.google.com/notebooks/data_table.ipynb>data table notebook</a>'\n",
              "            + ' to learn more about interactive tables.';\n",
              "          element.innerHTML = '';\n",
              "          dataTable['output_type'] = 'display_data';\n",
              "          await google.colab.output.renderOutput(dataTable, element);\n",
              "          const docLink = document.createElement('div');\n",
              "          docLink.innerHTML = docLinkHtml;\n",
              "          element.appendChild(docLink);\n",
              "        }\n",
              "      </script>\n",
              "    </div>\n",
              "  </div>\n",
              "  "
            ]
          },
          "metadata": {},
          "execution_count": 23
        }
      ]
    },
    {
      "cell_type": "code",
      "source": [
        "Y=dependent_feature\n",
        "Y"
      ],
      "metadata": {
        "colab": {
          "base_uri": "https://localhost:8080/"
        },
        "id": "2j3fxNdpeBsM",
        "outputId": "f8c3484a-aacd-4381-84b7-4551a57e6e30"
      },
      "execution_count": 24,
      "outputs": [
        {
          "output_type": "execute_result",
          "data": {
            "text/plain": [
              "0        0\n",
              "1        0\n",
              "2        0\n",
              "3        0\n",
              "4        0\n",
              "        ..\n",
              "48837    0\n",
              "48838    0\n",
              "48839    0\n",
              "48840    0\n",
              "48841    1\n",
              "Name: Earning, Length: 48842, dtype: int64"
            ]
          },
          "metadata": {},
          "execution_count": 24
        }
      ]
    },
    {
      "cell_type": "markdown",
      "source": [
        "**DATA splitting among Training and Test data:**"
      ],
      "metadata": {
        "id": "yBVvbHuJfFev"
      }
    },
    {
      "cell_type": "code",
      "source": [
        "X_train, X_test, Y_train, Y_test = train_test_split(X, Y, test_size=0.33, random_state=42)"
      ],
      "metadata": {
        "id": "bqSaj4izdsHt"
      },
      "execution_count": 25,
      "outputs": []
    },
    {
      "cell_type": "markdown",
      "source": [
        "# **Model Training:**"
      ],
      "metadata": {
        "id": "eKF844rCgtBr"
      }
    },
    {
      "cell_type": "markdown",
      "source": [
        "# **DecisionTreeRegressor**"
      ],
      "metadata": {
        "id": "aaGl7OSkBrtL"
      }
    },
    {
      "cell_type": "code",
      "source": [
        "from sklearn.tree import DecisionTreeClassifier\n",
        "model=DecisionTreeClassifier()"
      ],
      "metadata": {
        "id": "SnE39n4xAyLF"
      },
      "execution_count": 26,
      "outputs": []
    },
    {
      "cell_type": "code",
      "source": [
        "model.fit(X_train,Y_train)"
      ],
      "metadata": {
        "colab": {
          "base_uri": "https://localhost:8080/"
        },
        "id": "QeDnju64GVGo",
        "outputId": "f7662332-1752-48e4-87e6-95721d7f4b50"
      },
      "execution_count": 27,
      "outputs": [
        {
          "output_type": "execute_result",
          "data": {
            "text/plain": [
              "DecisionTreeClassifier()"
            ]
          },
          "metadata": {},
          "execution_count": 27
        }
      ]
    },
    {
      "cell_type": "code",
      "source": [
        "model.score(X_train,Y_train)"
      ],
      "metadata": {
        "id": "ShfHYdzbGVKF",
        "colab": {
          "base_uri": "https://localhost:8080/"
        },
        "outputId": "45c5e6e4-fac7-4491-ec59-eb658c3e0c13"
      },
      "execution_count": 28,
      "outputs": [
        {
          "output_type": "execute_result",
          "data": {
            "text/plain": [
              "0.9999388827771666"
            ]
          },
          "metadata": {},
          "execution_count": 28
        }
      ]
    },
    {
      "cell_type": "code",
      "source": [
        "y_predict=model.predict(X_test)"
      ],
      "metadata": {
        "id": "16Tr8BhXGVM7"
      },
      "execution_count": 29,
      "outputs": []
    },
    {
      "cell_type": "code",
      "source": [
        "from sklearn.metrics import accuracy_score\n",
        "accuracy_score(Y_test,y_predict)"
      ],
      "metadata": {
        "id": "R8ZM3vDZGVP2",
        "colab": {
          "base_uri": "https://localhost:8080/"
        },
        "outputId": "673bddd4-63a5-4267-ade7-6b43ddc91ea8"
      },
      "execution_count": 30,
      "outputs": [
        {
          "output_type": "execute_result",
          "data": {
            "text/plain": [
              "0.8079166149646358"
            ]
          },
          "metadata": {},
          "execution_count": 30
        }
      ]
    },
    {
      "cell_type": "markdown",
      "source": [
        "**Hyper-parameter Tuining:**"
      ],
      "metadata": {
        "id": "c21XYR32iTkj"
      }
    },
    {
      "cell_type": "code",
      "source": [
        "grid_param = {\n",
        "    'criterion': ['gini', 'entropy'],\n",
        "    'splitter' : ['best', 'random'],\n",
        "    'max_features' : ['auto', 'sqrt', 'log2']\n",
        "    \n",
        "}"
      ],
      "metadata": {
        "id": "L1ZVxIHaGVSs"
      },
      "execution_count": 71,
      "outputs": []
    },
    {
      "cell_type": "code",
      "source": [
        "from sklearn.model_selection import GridSearchCV\n",
        "grid_searh=GridSearchCV(estimator=model,param_grid=grid_param,cv=5)"
      ],
      "metadata": {
        "id": "662qJFXaGVVc"
      },
      "execution_count": 72,
      "outputs": []
    },
    {
      "cell_type": "code",
      "source": [
        "grid_searh.fit(X_train,Y_train)"
      ],
      "metadata": {
        "colab": {
          "base_uri": "https://localhost:8080/"
        },
        "id": "dRVXHC27e1hx",
        "outputId": "bd965d3c-c764-470c-9ace-62b8cbf2d3a6"
      },
      "execution_count": 73,
      "outputs": [
        {
          "output_type": "execute_result",
          "data": {
            "text/plain": [
              "GridSearchCV(cv=5, estimator=DecisionTreeClassifier(),\n",
              "             param_grid={'criterion': ['gini', 'entropy'],\n",
              "                         'max_features': ['auto', 'sqrt', 'log2'],\n",
              "                         'splitter': ['best', 'random']})"
            ]
          },
          "metadata": {},
          "execution_count": 73
        }
      ]
    },
    {
      "cell_type": "code",
      "source": [
        "grid_searh.best_params_"
      ],
      "metadata": {
        "colab": {
          "base_uri": "https://localhost:8080/"
        },
        "id": "YTT8I5GKe1k_",
        "outputId": "cc1cf9bb-b9a5-403a-dc81-15d3b8dd474e"
      },
      "execution_count": 74,
      "outputs": [
        {
          "output_type": "execute_result",
          "data": {
            "text/plain": [
              "{'criterion': 'entropy', 'max_features': 'sqrt', 'splitter': 'best'}"
            ]
          },
          "metadata": {},
          "execution_count": 74
        }
      ]
    },
    {
      "cell_type": "code",
      "source": [
        "model_with_best_params=DecisionTreeClassifier(criterion= 'entropy',splitter='best', max_features= 'sqrt')"
      ],
      "metadata": {
        "id": "Ode02r6Oe1n4"
      },
      "execution_count": 84,
      "outputs": []
    },
    {
      "cell_type": "code",
      "source": [
        "model_with_best_params.fit(X_train,Y_train)"
      ],
      "metadata": {
        "colab": {
          "base_uri": "https://localhost:8080/"
        },
        "id": "UpBXuj9-e1q2",
        "outputId": "9db1c7a4-26ce-41c8-bb10-bd1d4b5a52d2"
      },
      "execution_count": 85,
      "outputs": [
        {
          "output_type": "execute_result",
          "data": {
            "text/plain": [
              "DecisionTreeClassifier(criterion='entropy', max_features='sqrt')"
            ]
          },
          "metadata": {},
          "execution_count": 85
        }
      ]
    },
    {
      "cell_type": "code",
      "source": [
        "y_prediction2=model_with_best_params.predict(X_test)"
      ],
      "metadata": {
        "id": "g4o6FffHe1ta"
      },
      "execution_count": 86,
      "outputs": []
    },
    {
      "cell_type": "code",
      "source": [
        "accuracy_score(Y_test,y_prediction2)"
      ],
      "metadata": {
        "colab": {
          "base_uri": "https://localhost:8080/"
        },
        "id": "Llnsgv_ae1y5",
        "outputId": "0003f225-c6ec-48d2-ea39-b25202423525"
      },
      "execution_count": 87,
      "outputs": [
        {
          "output_type": "execute_result",
          "data": {
            "text/plain": [
              "0.811080779253009"
            ]
          },
          "metadata": {},
          "execution_count": 87
        }
      ]
    },
    {
      "cell_type": "markdown",
      "source": [
        "## **Random Forest Classifier**"
      ],
      "metadata": {
        "id": "kK3afeLt-hk_"
      }
    },
    {
      "cell_type": "code",
      "source": [
        "from sklearn.ensemble import RandomForestClassifier"
      ],
      "metadata": {
        "id": "WTdQJDDP-_yu"
      },
      "execution_count": 88,
      "outputs": []
    },
    {
      "cell_type": "code",
      "source": [
        "clf = RandomForestClassifier()"
      ],
      "metadata": {
        "id": "feD97z6w_Fmo"
      },
      "execution_count": 93,
      "outputs": []
    },
    {
      "cell_type": "code",
      "source": [
        "clf.fit(X_train, Y_train)"
      ],
      "metadata": {
        "colab": {
          "base_uri": "https://localhost:8080/"
        },
        "id": "ASxFkAM3_Fp_",
        "outputId": "974af849-082c-4442-ba04-408d6228b5ef"
      },
      "execution_count": 94,
      "outputs": [
        {
          "output_type": "execute_result",
          "data": {
            "text/plain": [
              "RandomForestClassifier()"
            ]
          },
          "metadata": {},
          "execution_count": 94
        }
      ]
    },
    {
      "cell_type": "code",
      "source": [
        "clf.score(X_train,Y_train)"
      ],
      "metadata": {
        "colab": {
          "base_uri": "https://localhost:8080/"
        },
        "id": "9t2K_3Dl_Fs5",
        "outputId": "4a1b46ec-5e59-48f0-9738-3f17fac3c115"
      },
      "execution_count": 95,
      "outputs": [
        {
          "output_type": "execute_result",
          "data": {
            "text/plain": [
              "0.9999388827771666"
            ]
          },
          "metadata": {},
          "execution_count": 95
        }
      ]
    },
    {
      "cell_type": "code",
      "source": [
        "y_predict3=clf.predict(X_test)"
      ],
      "metadata": {
        "id": "MnJWdjks_FwK"
      },
      "execution_count": 96,
      "outputs": []
    },
    {
      "cell_type": "code",
      "source": [
        "accuracy_score(Y_test,y_predict3)"
      ],
      "metadata": {
        "colab": {
          "base_uri": "https://localhost:8080/"
        },
        "id": "9Ngub_9Y_F4p",
        "outputId": "18d95a7d-5fdf-4b57-c0a7-eb505b7b6470"
      },
      "execution_count": 97,
      "outputs": [
        {
          "output_type": "execute_result",
          "data": {
            "text/plain": [
              "0.8556272490383422"
            ]
          },
          "metadata": {},
          "execution_count": 97
        }
      ]
    },
    {
      "cell_type": "markdown",
      "source": [
        "**Hyper-parameter Tuining:**"
      ],
      "metadata": {
        "id": "5naqMEmsAosN"
      }
    },
    {
      "cell_type": "code",
      "source": [
        "grid_param = {\n",
        "    'criterion': ['gini', 'entropy','log_loss'],\n",
        "    'max_features': ['sqrt', 'log2']\n",
        "    \n",
        "}"
      ],
      "metadata": {
        "id": "_QEJ0CXwAQz9"
      },
      "execution_count": 107,
      "outputs": []
    },
    {
      "cell_type": "code",
      "source": [
        "grid_searh=GridSearchCV(estimator=clf,param_grid=grid_param,cv=5)\n",
        "grid_searh.fit(X_train,Y_train)"
      ],
      "metadata": {
        "colab": {
          "base_uri": "https://localhost:8080/"
        },
        "id": "Af-GL2NlAQ3h",
        "outputId": "cbcafd74-47d9-4ef1-9cb3-4b77771048ce"
      },
      "execution_count": 108,
      "outputs": [
        {
          "output_type": "execute_result",
          "data": {
            "text/plain": [
              "GridSearchCV(cv=5, estimator=RandomForestClassifier(),\n",
              "             param_grid={'criterion': ['gini', 'entropy', 'log_loss'],\n",
              "                         'max_features': ['sqrt', 'log2']})"
            ]
          },
          "metadata": {},
          "execution_count": 108
        }
      ]
    },
    {
      "cell_type": "code",
      "source": [
        "grid_searh.best_params_"
      ],
      "metadata": {
        "colab": {
          "base_uri": "https://localhost:8080/"
        },
        "id": "3BBFEaG7AQ56",
        "outputId": "5452a7e0-762b-488b-93fc-5de1d6ad6fd2"
      },
      "execution_count": 109,
      "outputs": [
        {
          "output_type": "execute_result",
          "data": {
            "text/plain": [
              "{'criterion': 'entropy', 'max_features': 'log2'}"
            ]
          },
          "metadata": {},
          "execution_count": 109
        }
      ]
    },
    {
      "cell_type": "code",
      "source": [
        "clf1 = RandomForestClassifier(criterion= 'entropy', max_features= 'log2')"
      ],
      "metadata": {
        "id": "Qi0X3MTRAQ87"
      },
      "execution_count": 110,
      "outputs": []
    },
    {
      "cell_type": "code",
      "source": [
        "clf1.fit(X_train, Y_train)"
      ],
      "metadata": {
        "colab": {
          "base_uri": "https://localhost:8080/"
        },
        "id": "5mNWWOK1AQ_l",
        "outputId": "f8737f14-d2c6-429c-b7b3-18167df12be0"
      },
      "execution_count": 111,
      "outputs": [
        {
          "output_type": "execute_result",
          "data": {
            "text/plain": [
              "RandomForestClassifier(criterion='entropy', max_features='log2')"
            ]
          },
          "metadata": {},
          "execution_count": 111
        }
      ]
    },
    {
      "cell_type": "code",
      "source": [
        "clf1.score(X_train,Y_train)"
      ],
      "metadata": {
        "colab": {
          "base_uri": "https://localhost:8080/"
        },
        "id": "lakyrHD9BpEl",
        "outputId": "4dcd7d16-2eb6-406d-b070-6ebc6a71c445"
      },
      "execution_count": 112,
      "outputs": [
        {
          "output_type": "execute_result",
          "data": {
            "text/plain": [
              "0.9999083241657499"
            ]
          },
          "metadata": {},
          "execution_count": 112
        }
      ]
    },
    {
      "cell_type": "code",
      "source": [
        "y_predict4=clf.predict(X_test)"
      ],
      "metadata": {
        "id": "RRw2bILdBpH2"
      },
      "execution_count": 113,
      "outputs": []
    },
    {
      "cell_type": "code",
      "source": [
        "accuracy_score(Y_test,y_predict4)"
      ],
      "metadata": {
        "colab": {
          "base_uri": "https://localhost:8080/"
        },
        "id": "TKeOr3fuBpK5",
        "outputId": "57919f3d-7cea-4491-f783-4e424f75c1a5"
      },
      "execution_count": 114,
      "outputs": [
        {
          "output_type": "execute_result",
          "data": {
            "text/plain": [
              "0.8556272490383422"
            ]
          },
          "metadata": {},
          "execution_count": 114
        }
      ]
    },
    {
      "cell_type": "markdown",
      "source": [
        "**Observation: **\n",
        "\n",
        "Hyper-parameter tuining making no sense, no impact at all."
      ],
      "metadata": {
        "id": "hv2yp61u_4qU"
      }
    },
    {
      "cell_type": "markdown",
      "source": [
        "# **Voting Classifier**"
      ],
      "metadata": {
        "id": "v4G5BI8LKGi0"
      }
    },
    {
      "cell_type": "code",
      "source": [
        "from sklearn.linear_model import LogisticRegression\n",
        "from sklearn.naive_bayes import GaussianNB\n",
        "from sklearn.ensemble import RandomForestClassifier, VotingClassifier\n",
        "clf1 = LogisticRegression(multi_class='multinomial', random_state=1)\n",
        "clf2 = RandomForestClassifier(n_estimators=50, random_state=1)\n",
        "clf3 = GaussianNB()\n",
        "\n",
        "eclf1 = VotingClassifier(estimators=[('lr', clf1), ('rf', clf2), ('gnb', clf3)], voting='soft')\n"
      ],
      "metadata": {
        "id": "QsQSbPvEKF4q"
      },
      "execution_count": 115,
      "outputs": []
    },
    {
      "cell_type": "code",
      "source": [
        "eclf1 = eclf1.fit(X_train, Y_train)"
      ],
      "metadata": {
        "id": "znxs15gmR0JR"
      },
      "execution_count": 116,
      "outputs": []
    },
    {
      "cell_type": "code",
      "source": [
        "eclf1 = eclf1.fit(X_train, Y_train)"
      ],
      "metadata": {
        "id": "XoUvDrRImwFi"
      },
      "execution_count": 117,
      "outputs": []
    },
    {
      "cell_type": "code",
      "source": [
        "y_predict8=eclf1.predict(X_test)"
      ],
      "metadata": {
        "id": "ihlUo07lLy-L"
      },
      "execution_count": 118,
      "outputs": []
    },
    {
      "cell_type": "code",
      "source": [
        "accuracy_score(Y_test,y_predict8)"
      ],
      "metadata": {
        "colab": {
          "base_uri": "https://localhost:8080/"
        },
        "id": "l9sDP8GxL25T",
        "outputId": "ef7b4906-6418-47ba-c90e-360667d4b7b6"
      },
      "execution_count": 119,
      "outputs": [
        {
          "output_type": "execute_result",
          "data": {
            "text/plain": [
              "0.8170988956446209"
            ]
          },
          "metadata": {},
          "execution_count": 119
        }
      ]
    },
    {
      "cell_type": "code",
      "source": [],
      "metadata": {
        "id": "cqZTn_kKMAxi"
      },
      "execution_count": 126,
      "outputs": []
    },
    {
      "cell_type": "markdown",
      "source": [
        "# **Bagging Classifier**"
      ],
      "metadata": {
        "id": "MV7QhuZHBF3y"
      }
    },
    {
      "cell_type": "code",
      "source": [
        "from sklearn.svm import SVC\n",
        "from sklearn.ensemble import BaggingClassifier"
      ],
      "metadata": {
        "id": "8WpT8QUGBNhi"
      },
      "execution_count": 120,
      "outputs": []
    },
    {
      "cell_type": "code",
      "source": [
        "clf = BaggingClassifier(base_estimator=SVC(), n_estimators=10, random_state=0).fit(X_train, Y_train)"
      ],
      "metadata": {
        "id": "xA8it-TIBboU"
      },
      "execution_count": 121,
      "outputs": []
    },
    {
      "cell_type": "code",
      "source": [
        "y_predict9=clf.predict(X_test)"
      ],
      "metadata": {
        "id": "jHMKaYIFBcmy"
      },
      "execution_count": 122,
      "outputs": []
    },
    {
      "cell_type": "code",
      "source": [
        "accuracy_score(Y_test,y_predict9)"
      ],
      "metadata": {
        "colab": {
          "base_uri": "https://localhost:8080/"
        },
        "id": "heIN3OOVBcqP",
        "outputId": "d4e2462a-aa2f-44f2-f033-7d57961c96e1"
      },
      "execution_count": 123,
      "outputs": [
        {
          "output_type": "execute_result",
          "data": {
            "text/plain": [
              "0.794329321255739"
            ]
          },
          "metadata": {},
          "execution_count": 123
        }
      ]
    },
    {
      "cell_type": "markdown",
      "source": [
        "**Observation:**\n",
        "\n",
        "Not good performance at all."
      ],
      "metadata": {
        "id": "xsoc_e3bDZWX"
      }
    },
    {
      "cell_type": "code",
      "source": [
        "clf1 = BaggingClassifier(base_estimator=DecisionTreeClassifier(criterion= 'entropy',splitter='best', max_features= 'sqrt'), n_estimators=10, random_state=0).fit(X_train, Y_train)"
      ],
      "metadata": {
        "id": "MU7cFfPBBctY"
      },
      "execution_count": 128,
      "outputs": []
    },
    {
      "cell_type": "code",
      "source": [
        "y_predict10=clf1.predict(X_test)"
      ],
      "metadata": {
        "id": "brg14bIFD62l"
      },
      "execution_count": 129,
      "outputs": []
    },
    {
      "cell_type": "code",
      "source": [
        "accuracy_score(Y_test,y_predict10)"
      ],
      "metadata": {
        "colab": {
          "base_uri": "https://localhost:8080/"
        },
        "id": "eVjWc8sMD-Yv",
        "outputId": "edfd1925-92f5-4df8-ed05-ee4fc8adfb3f"
      },
      "execution_count": 130,
      "outputs": [
        {
          "output_type": "execute_result",
          "data": {
            "text/plain": [
              "0.8472515200397072"
            ]
          },
          "metadata": {},
          "execution_count": 130
        }
      ]
    },
    {
      "cell_type": "markdown",
      "source": [
        "**Observation:**\n",
        "\n",
        "Good performance similar to Random Forest."
      ],
      "metadata": {
        "id": "0GtZb4n4Elb9"
      }
    },
    {
      "cell_type": "code",
      "source": [],
      "metadata": {
        "id": "aIBiQHBiEBkQ"
      },
      "execution_count": null,
      "outputs": []
    },
    {
      "cell_type": "markdown",
      "source": [
        "# **Gradient Boosting Classifier**"
      ],
      "metadata": {
        "id": "vDRPv9bwFKGl"
      }
    },
    {
      "cell_type": "code",
      "source": [
        "from sklearn.ensemble import GradientBoostingClassifier"
      ],
      "metadata": {
        "id": "LyuKtswAFNYf"
      },
      "execution_count": 131,
      "outputs": []
    },
    {
      "cell_type": "code",
      "source": [
        "clf2 = GradientBoostingClassifier().fit(X_train, Y_train)"
      ],
      "metadata": {
        "id": "1u_b2Ik7FOXQ"
      },
      "execution_count": 138,
      "outputs": []
    },
    {
      "cell_type": "code",
      "source": [
        "y_predict11=clf2.predict(X_test)"
      ],
      "metadata": {
        "id": "Qri7E5z4FaA2"
      },
      "execution_count": 139,
      "outputs": []
    },
    {
      "cell_type": "code",
      "source": [
        "accuracy_score(Y_test,y_predict11)"
      ],
      "metadata": {
        "colab": {
          "base_uri": "https://localhost:8080/"
        },
        "id": "k5EypXbbFwKd",
        "outputId": "b9a33e57-414c-4890-b304-dc24e292fe2a"
      },
      "execution_count": 140,
      "outputs": [
        {
          "output_type": "execute_result",
          "data": {
            "text/plain": [
              "0.8664846755180543"
            ]
          },
          "metadata": {},
          "execution_count": 140
        }
      ]
    },
    {
      "cell_type": "markdown",
      "source": [
        "**Hyper-parameter tuining:**"
      ],
      "metadata": {
        "id": "s0EavPXOGuPm"
      }
    },
    {
      "cell_type": "code",
      "source": [
        "grid_param = {\n",
        "    'loss': ['log_loss', 'deviance', 'exponential'],\n",
        "    'criterion' : ['friedman_mse', 'squared_error', 'mse'],\n",
        "    'max_features' : ['auto', 'sqrt', 'log2']\n",
        "    \n",
        "}"
      ],
      "metadata": {
        "id": "9NUwOcb2FzmY"
      },
      "execution_count": 141,
      "outputs": []
    },
    {
      "cell_type": "code",
      "source": [
        "grid_searh1=GridSearchCV(estimator=clf2,param_grid=grid_param,cv=5)"
      ],
      "metadata": {
        "id": "m4WG-oCzHRo4"
      },
      "execution_count": 143,
      "outputs": []
    },
    {
      "cell_type": "code",
      "source": [
        "grid_searh1.fit(X_train,Y_train)"
      ],
      "metadata": {
        "colab": {
          "base_uri": "https://localhost:8080/"
        },
        "id": "-pH-0rsbHgUo",
        "outputId": "3afb7bbc-9dca-4e8a-fe81-54fb658883b9"
      },
      "execution_count": 144,
      "outputs": [
        {
          "output_type": "execute_result",
          "data": {
            "text/plain": [
              "GridSearchCV(cv=5, estimator=GradientBoostingClassifier(),\n",
              "             param_grid={'criterion': ['friedman_mse', 'squared_error', 'mse'],\n",
              "                         'loss': ['log_loss', 'deviance', 'exponential'],\n",
              "                         'max_features': ['auto', 'sqrt', 'log2']})"
            ]
          },
          "metadata": {},
          "execution_count": 144
        }
      ]
    },
    {
      "cell_type": "code",
      "source": [
        "grid_searh1.best_params_"
      ],
      "metadata": {
        "colab": {
          "base_uri": "https://localhost:8080/"
        },
        "id": "4fiEgbelHmvG",
        "outputId": "1169d566-f8a6-4809-884b-923959ac9a1c"
      },
      "execution_count": 145,
      "outputs": [
        {
          "output_type": "execute_result",
          "data": {
            "text/plain": [
              "{'criterion': 'friedman_mse', 'loss': 'deviance', 'max_features': 'auto'}"
            ]
          },
          "metadata": {},
          "execution_count": 145
        }
      ]
    },
    {
      "cell_type": "code",
      "source": [
        "clf3 = GradientBoostingClassifier(criterion= 'friedman_mse', loss= 'deviance', max_features= 'auto').fit(X_train, Y_train)"
      ],
      "metadata": {
        "id": "Srr_T9SYHsrt"
      },
      "execution_count": 146,
      "outputs": []
    },
    {
      "cell_type": "code",
      "source": [
        "y_predict12=clf3.predict(X_test)"
      ],
      "metadata": {
        "id": "ge8GYQTlIdik"
      },
      "execution_count": 147,
      "outputs": []
    },
    {
      "cell_type": "code",
      "source": [
        "accuracy_score(Y_test,y_predict12)"
      ],
      "metadata": {
        "colab": {
          "base_uri": "https://localhost:8080/"
        },
        "id": "DTptJp8jIjh1",
        "outputId": "92aa2734-d11e-489f-85fc-1ef5e175517b"
      },
      "execution_count": 148,
      "outputs": [
        {
          "output_type": "execute_result",
          "data": {
            "text/plain": [
              "0.8664846755180543"
            ]
          },
          "metadata": {},
          "execution_count": 148
        }
      ]
    },
    {
      "cell_type": "markdown",
      "source": [
        "**Observation: **\n",
        "\n",
        "No use of hyper-parameter tuining."
      ],
      "metadata": {
        "id": "WJxmUs02Ir92"
      }
    }
  ]
}