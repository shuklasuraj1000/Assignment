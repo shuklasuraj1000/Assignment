{
  "nbformat": 4,
  "nbformat_minor": 0,
  "metadata": {
    "colab": {
      "name": "Untitled44.ipynb",
      "provenance": [],
      "collapsed_sections": []
    },
    "kernelspec": {
      "name": "python3",
      "display_name": "Python 3"
    },
    "language_info": {
      "name": "python"
    }
  },
  "cells": [
    {
      "cell_type": "code",
      "execution_count": null,
      "metadata": {
        "id": "lho63aSjDUtk"
      },
      "outputs": [],
      "source": [
        "# Quest-1:\n",
        "\"\"\"\n",
        "Please write a program using generator to print the numbers which can be divisible by 5 and\n",
        "7 between 0 and n in comma separated form while n is input by console.\n",
        "Example:\n",
        "If the following n is given as input to the program:\n",
        "100\n",
        "Then, the output of the program should be:\n",
        "0,35,70\n",
        "\n",
        "\"\"\"\n",
        "#Answer:\n",
        "def get_number(max):\n",
        "  for i in range(max):\n",
        "    if i%5==0 and i%7==0:\n",
        "      yield i\n"
      ]
    },
    {
      "cell_type": "code",
      "source": [
        "for i in get_number(100): \n",
        "  print(i,end=\",\")\n"
      ],
      "metadata": {
        "colab": {
          "base_uri": "https://localhost:8080/"
        },
        "id": "PekiHph-FgIl",
        "outputId": "242939ec-7a5a-417e-912f-2b0d36d17fe5"
      },
      "execution_count": null,
      "outputs": [
        {
          "output_type": "stream",
          "name": "stdout",
          "text": [
            "0,35,70,"
          ]
        }
      ]
    },
    {
      "cell_type": "code",
      "source": [
        "# Quest-2: \n",
        "\"\"\"\n",
        "Please write a program using generator to print the even numbers between 0 and n in comma\n",
        "separated form while n is input by console.\n",
        "Example:\n",
        "If the following n is given as input to the program:\n",
        "10\n",
        "Then, the output of the program should be:\n",
        "0,2,4,6,8,10\n",
        "\n",
        "\"\"\"\n",
        "#Annswer:\n",
        "def get_number(max):\n",
        "  for i in range(max+1):\n",
        "    if i%2==0:\n",
        "      yield i"
      ],
      "metadata": {
        "id": "m8M1L5VuFqbT"
      },
      "execution_count": null,
      "outputs": []
    },
    {
      "cell_type": "code",
      "source": [
        "for i in get_number(10): \n",
        "  print(i,end=\",\")"
      ],
      "metadata": {
        "colab": {
          "base_uri": "https://localhost:8080/"
        },
        "id": "RA26kETIHn7Q",
        "outputId": "cff706ec-834f-4507-98b2-2bef046cbce0"
      },
      "execution_count": null,
      "outputs": [
        {
          "output_type": "stream",
          "name": "stdout",
          "text": [
            "0,2,4,6,8,10,"
          ]
        }
      ]
    },
    {
      "cell_type": "code",
      "source": [
        "# Quest-3:\n",
        "\"\"\"\n",
        "The Fibonacci Sequence is computed based on the following formula:\n",
        "f(n)=0 if n=0\n",
        "f(n)=1 if n=1\n",
        "f(n)=f(n-1)+f(n-2) if n>1\n",
        "Please write a program using list comprehension to print the Fibonacci Sequence in comma\n",
        "separated form with a given n input by console.\n",
        "Example:\n",
        "If the following n is given as input to the program:\n",
        "7\n",
        "Then, the output of the program should be:\n",
        "0,1,1,2,3,5,8,13\n",
        "\n",
        "\"\"\"\n",
        "# Answer:\n",
        "l=[0,1]\n",
        "[l.append(l[-1]+l[-2]) for i in range(1,7) ]\n",
        "print(l)"
      ],
      "metadata": {
        "colab": {
          "base_uri": "https://localhost:8080/"
        },
        "id": "rVGM_9oUHwPA",
        "outputId": "7820215a-11fc-4bb1-9b91-598daa2b6266"
      },
      "execution_count": null,
      "outputs": [
        {
          "output_type": "stream",
          "name": "stdout",
          "text": [
            "[0, 1, 1, 2, 3, 5, 8, 13]\n"
          ]
        }
      ]
    },
    {
      "cell_type": "code",
      "source": [
        "# Quest-4:\n",
        "\"\"\"\n",
        "Assuming that we have some email addresses in the &quot;username@companyname.com&quot; format,\n",
        "please write program to print the user name of a given email address. Both user names and\n",
        "company names are composed of letters only.\n",
        "Example:\n",
        "If the following email address is given as input to the program:\n",
        "john@google.com\n",
        "Then, the output of the program should be:\n",
        "john\n",
        "\n",
        "\"\"\"\n",
        "# Answer:\n",
        "id=str(input(\"Enter email id : \"))\n",
        "l=list(id.split(\"@\"))\n",
        "print(l[0])\n"
      ],
      "metadata": {
        "colab": {
          "base_uri": "https://localhost:8080/"
        },
        "id": "-Bq5n6DriJAN",
        "outputId": "1d909689-b223-4bcd-a690-484ac5a49228"
      },
      "execution_count": null,
      "outputs": [
        {
          "output_type": "stream",
          "name": "stdout",
          "text": [
            "Enter email id : john@google.com\n",
            "john\n"
          ]
        }
      ]
    },
    {
      "cell_type": "code",
      "source": [
        "#Quest-5:\n",
        "\"\"\"\n",
        "Define a class named Shape and its subclass Square. The Square class has an init function\n",
        "which takes a length as argument. Both classes have a area function which can print the area\n",
        "of the shape where Shapes area is 0 by default.\n",
        "\n",
        "\"\"\"\n",
        "#Answer:\n",
        "class Shape:\n",
        "    def area(self):\n",
        "        return 0\n",
        "\n",
        "class Square(Shape):\n",
        "    def __init__(self, length):\n",
        "        self.length = length\n",
        "    def area(self):\n",
        "      return self.length**2\n",
        "\n"
      ],
      "metadata": {
        "id": "sIqU54q9mquA"
      },
      "execution_count": 15,
      "outputs": []
    },
    {
      "cell_type": "code",
      "source": [
        "l=Square(17)\n",
        "l.area()"
      ],
      "metadata": {
        "id": "l92SclZ9qnaS",
        "colab": {
          "base_uri": "https://localhost:8080/"
        },
        "outputId": "f87309d5-6d25-4539-c22e-fe2a85f2a960"
      },
      "execution_count": 16,
      "outputs": [
        {
          "output_type": "execute_result",
          "data": {
            "text/plain": [
              "289"
            ]
          },
          "metadata": {},
          "execution_count": 16
        }
      ]
    },
    {
      "cell_type": "code",
      "source": [
        "Shape.area(10)"
      ],
      "metadata": {
        "id": "1xJAcn0l7Zb4",
        "colab": {
          "base_uri": "https://localhost:8080/"
        },
        "outputId": "b2331b9f-2d96-4296-b360-326201252fba"
      },
      "execution_count": 18,
      "outputs": [
        {
          "output_type": "execute_result",
          "data": {
            "text/plain": [
              "0"
            ]
          },
          "metadata": {},
          "execution_count": 18
        }
      ]
    },
    {
      "cell_type": "code",
      "source": [
        ""
      ],
      "metadata": {
        "id": "BXu1N1laT4Gd"
      },
      "execution_count": null,
      "outputs": []
    }
  ]
}